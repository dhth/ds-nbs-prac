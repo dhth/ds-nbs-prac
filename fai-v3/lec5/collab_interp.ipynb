{
  "nbformat": 4,
  "nbformat_minor": 0,
  "metadata": {
    "colab": {
      "name": "collab-interp.ipynb",
      "version": "0.3.2",
      "provenance": [],
      "collapsed_sections": []
    },
    "kernelspec": {
      "name": "python3",
      "display_name": "Python 3"
    },
    "accelerator": "GPU"
  },
  "cells": [
    {
      "metadata": {
        "id": "FBvF0OGUkCLT",
        "colab_type": "code",
        "colab": {}
      },
      "cell_type": "code",
      "source": [
        "!curl https://course-v3.fast.ai/setup/colab | bash"
      ],
      "execution_count": 0,
      "outputs": []
    },
    {
      "metadata": {
        "id": "7l5xGN-GH3XH",
        "colab_type": "code",
        "colab": {}
      },
      "cell_type": "code",
      "source": [
        "from fastai import *\n",
        "from fastai.collab import *\n",
        "from fastai.tabular import *"
      ],
      "execution_count": 0,
      "outputs": []
    },
    {
      "metadata": {
        "id": "J0PnyGaUH3XL",
        "colab_type": "text"
      },
      "cell_type": "markdown",
      "source": [
        "## Collaborative filtering example"
      ]
    },
    {
      "metadata": {
        "id": "h2HXglaaH3XL",
        "colab_type": "text"
      },
      "cell_type": "markdown",
      "source": [
        "`collab` models use data in a `DataFrame` of user, items, and ratings."
      ]
    },
    {
      "metadata": {
        "id": "p_7JEH0EH3Xh",
        "colab_type": "text"
      },
      "cell_type": "markdown",
      "source": [
        "## Movielens 100k"
      ]
    },
    {
      "metadata": {
        "id": "o94guDdsH3XN",
        "colab_type": "code",
        "colab": {}
      },
      "cell_type": "code",
      "source": [
        "user,item,title = 'userId','movieId','title'"
      ],
      "execution_count": 0,
      "outputs": []
    },
    {
      "metadata": {
        "id": "Sct4sBoVH3Xi",
        "colab_type": "text"
      },
      "cell_type": "markdown",
      "source": [
        "Let's try with the full Movielens 100k data dataset, available from http://files.grouplens.org/datasets/movielens/ml-100k.zip"
      ]
    },
    {
      "metadata": {
        "id": "fyanwhIrIUsv",
        "colab_type": "code",
        "colab": {}
      },
      "cell_type": "code",
      "source": [
        "# !wget http://files.grouplens.org/datasets/movielens/ml-100k.zip -P data/"
      ],
      "execution_count": 0,
      "outputs": []
    },
    {
      "metadata": {
        "id": "fj9kDx5Dk0oS",
        "colab_type": "code",
        "colab": {}
      },
      "cell_type": "code",
      "source": [
        "# !unzip -q data/ml-100k.zip -d data/"
      ],
      "execution_count": 0,
      "outputs": []
    },
    {
      "metadata": {
        "id": "sdJaC_zZH3Xk",
        "colab_type": "code",
        "colab": {}
      },
      "cell_type": "code",
      "source": [
        "path=Path('data/ml-100k/')"
      ],
      "execution_count": 0,
      "outputs": []
    },
    {
      "metadata": {
        "id": "L75djG9HH3Xm",
        "colab_type": "code",
        "outputId": "57819263-adf5-4027-d867-451d5d25a455",
        "colab": {
          "base_uri": "https://localhost:8080/",
          "height": 202
        }
      },
      "cell_type": "code",
      "source": [
        "ratings = pd.read_csv(path/'u.data', delimiter='\\t', header=None,\n",
        "                      names=[user,item,'rating','timestamp'])\n",
        "ratings.head()"
      ],
      "execution_count": 6,
      "outputs": [
        {
          "output_type": "execute_result",
          "data": {
            "text/html": [
              "<div>\n",
              "<style scoped>\n",
              "    .dataframe tbody tr th:only-of-type {\n",
              "        vertical-align: middle;\n",
              "    }\n",
              "\n",
              "    .dataframe tbody tr th {\n",
              "        vertical-align: top;\n",
              "    }\n",
              "\n",
              "    .dataframe thead th {\n",
              "        text-align: right;\n",
              "    }\n",
              "</style>\n",
              "<table border=\"1\" class=\"dataframe\">\n",
              "  <thead>\n",
              "    <tr style=\"text-align: right;\">\n",
              "      <th></th>\n",
              "      <th>userId</th>\n",
              "      <th>movieId</th>\n",
              "      <th>rating</th>\n",
              "      <th>timestamp</th>\n",
              "    </tr>\n",
              "  </thead>\n",
              "  <tbody>\n",
              "    <tr>\n",
              "      <th>0</th>\n",
              "      <td>196</td>\n",
              "      <td>242</td>\n",
              "      <td>3</td>\n",
              "      <td>881250949</td>\n",
              "    </tr>\n",
              "    <tr>\n",
              "      <th>1</th>\n",
              "      <td>186</td>\n",
              "      <td>302</td>\n",
              "      <td>3</td>\n",
              "      <td>891717742</td>\n",
              "    </tr>\n",
              "    <tr>\n",
              "      <th>2</th>\n",
              "      <td>22</td>\n",
              "      <td>377</td>\n",
              "      <td>1</td>\n",
              "      <td>878887116</td>\n",
              "    </tr>\n",
              "    <tr>\n",
              "      <th>3</th>\n",
              "      <td>244</td>\n",
              "      <td>51</td>\n",
              "      <td>2</td>\n",
              "      <td>880606923</td>\n",
              "    </tr>\n",
              "    <tr>\n",
              "      <th>4</th>\n",
              "      <td>166</td>\n",
              "      <td>346</td>\n",
              "      <td>1</td>\n",
              "      <td>886397596</td>\n",
              "    </tr>\n",
              "  </tbody>\n",
              "</table>\n",
              "</div>"
            ],
            "text/plain": [
              "   userId  movieId  rating  timestamp\n",
              "0     196      242       3  881250949\n",
              "1     186      302       3  891717742\n",
              "2      22      377       1  878887116\n",
              "3     244       51       2  880606923\n",
              "4     166      346       1  886397596"
            ]
          },
          "metadata": {
            "tags": []
          },
          "execution_count": 6
        }
      ]
    },
    {
      "metadata": {
        "id": "ST5iI1z4H3Xp",
        "colab_type": "code",
        "outputId": "420a60e5-d0f2-4834-f0ec-161741795056",
        "colab": {
          "base_uri": "https://localhost:8080/",
          "height": 425
        }
      },
      "cell_type": "code",
      "source": [
        "movies = pd.read_csv(path/'u.item',  delimiter='|', encoding='latin-1', header=None,\n",
        "                    names=[item, 'title', 'date', 'N', 'url', *[f'g{i}' for i in range(19)]])\n",
        "movies.head()"
      ],
      "execution_count": 7,
      "outputs": [
        {
          "output_type": "execute_result",
          "data": {
            "text/html": [
              "<div>\n",
              "<style scoped>\n",
              "    .dataframe tbody tr th:only-of-type {\n",
              "        vertical-align: middle;\n",
              "    }\n",
              "\n",
              "    .dataframe tbody tr th {\n",
              "        vertical-align: top;\n",
              "    }\n",
              "\n",
              "    .dataframe thead th {\n",
              "        text-align: right;\n",
              "    }\n",
              "</style>\n",
              "<table border=\"1\" class=\"dataframe\">\n",
              "  <thead>\n",
              "    <tr style=\"text-align: right;\">\n",
              "      <th></th>\n",
              "      <th>movieId</th>\n",
              "      <th>title</th>\n",
              "      <th>date</th>\n",
              "      <th>N</th>\n",
              "      <th>url</th>\n",
              "      <th>g0</th>\n",
              "      <th>g1</th>\n",
              "      <th>g2</th>\n",
              "      <th>g3</th>\n",
              "      <th>g4</th>\n",
              "      <th>...</th>\n",
              "      <th>g9</th>\n",
              "      <th>g10</th>\n",
              "      <th>g11</th>\n",
              "      <th>g12</th>\n",
              "      <th>g13</th>\n",
              "      <th>g14</th>\n",
              "      <th>g15</th>\n",
              "      <th>g16</th>\n",
              "      <th>g17</th>\n",
              "      <th>g18</th>\n",
              "    </tr>\n",
              "  </thead>\n",
              "  <tbody>\n",
              "    <tr>\n",
              "      <th>0</th>\n",
              "      <td>1</td>\n",
              "      <td>Toy Story (1995)</td>\n",
              "      <td>01-Jan-1995</td>\n",
              "      <td>NaN</td>\n",
              "      <td>http://us.imdb.com/M/title-exact?Toy%20Story%2...</td>\n",
              "      <td>0</td>\n",
              "      <td>0</td>\n",
              "      <td>0</td>\n",
              "      <td>1</td>\n",
              "      <td>1</td>\n",
              "      <td>...</td>\n",
              "      <td>0</td>\n",
              "      <td>0</td>\n",
              "      <td>0</td>\n",
              "      <td>0</td>\n",
              "      <td>0</td>\n",
              "      <td>0</td>\n",
              "      <td>0</td>\n",
              "      <td>0</td>\n",
              "      <td>0</td>\n",
              "      <td>0</td>\n",
              "    </tr>\n",
              "    <tr>\n",
              "      <th>1</th>\n",
              "      <td>2</td>\n",
              "      <td>GoldenEye (1995)</td>\n",
              "      <td>01-Jan-1995</td>\n",
              "      <td>NaN</td>\n",
              "      <td>http://us.imdb.com/M/title-exact?GoldenEye%20(...</td>\n",
              "      <td>0</td>\n",
              "      <td>1</td>\n",
              "      <td>1</td>\n",
              "      <td>0</td>\n",
              "      <td>0</td>\n",
              "      <td>...</td>\n",
              "      <td>0</td>\n",
              "      <td>0</td>\n",
              "      <td>0</td>\n",
              "      <td>0</td>\n",
              "      <td>0</td>\n",
              "      <td>0</td>\n",
              "      <td>0</td>\n",
              "      <td>1</td>\n",
              "      <td>0</td>\n",
              "      <td>0</td>\n",
              "    </tr>\n",
              "    <tr>\n",
              "      <th>2</th>\n",
              "      <td>3</td>\n",
              "      <td>Four Rooms (1995)</td>\n",
              "      <td>01-Jan-1995</td>\n",
              "      <td>NaN</td>\n",
              "      <td>http://us.imdb.com/M/title-exact?Four%20Rooms%...</td>\n",
              "      <td>0</td>\n",
              "      <td>0</td>\n",
              "      <td>0</td>\n",
              "      <td>0</td>\n",
              "      <td>0</td>\n",
              "      <td>...</td>\n",
              "      <td>0</td>\n",
              "      <td>0</td>\n",
              "      <td>0</td>\n",
              "      <td>0</td>\n",
              "      <td>0</td>\n",
              "      <td>0</td>\n",
              "      <td>0</td>\n",
              "      <td>1</td>\n",
              "      <td>0</td>\n",
              "      <td>0</td>\n",
              "    </tr>\n",
              "    <tr>\n",
              "      <th>3</th>\n",
              "      <td>4</td>\n",
              "      <td>Get Shorty (1995)</td>\n",
              "      <td>01-Jan-1995</td>\n",
              "      <td>NaN</td>\n",
              "      <td>http://us.imdb.com/M/title-exact?Get%20Shorty%...</td>\n",
              "      <td>0</td>\n",
              "      <td>1</td>\n",
              "      <td>0</td>\n",
              "      <td>0</td>\n",
              "      <td>0</td>\n",
              "      <td>...</td>\n",
              "      <td>0</td>\n",
              "      <td>0</td>\n",
              "      <td>0</td>\n",
              "      <td>0</td>\n",
              "      <td>0</td>\n",
              "      <td>0</td>\n",
              "      <td>0</td>\n",
              "      <td>0</td>\n",
              "      <td>0</td>\n",
              "      <td>0</td>\n",
              "    </tr>\n",
              "    <tr>\n",
              "      <th>4</th>\n",
              "      <td>5</td>\n",
              "      <td>Copycat (1995)</td>\n",
              "      <td>01-Jan-1995</td>\n",
              "      <td>NaN</td>\n",
              "      <td>http://us.imdb.com/M/title-exact?Copycat%20(1995)</td>\n",
              "      <td>0</td>\n",
              "      <td>0</td>\n",
              "      <td>0</td>\n",
              "      <td>0</td>\n",
              "      <td>0</td>\n",
              "      <td>...</td>\n",
              "      <td>0</td>\n",
              "      <td>0</td>\n",
              "      <td>0</td>\n",
              "      <td>0</td>\n",
              "      <td>0</td>\n",
              "      <td>0</td>\n",
              "      <td>0</td>\n",
              "      <td>1</td>\n",
              "      <td>0</td>\n",
              "      <td>0</td>\n",
              "    </tr>\n",
              "  </tbody>\n",
              "</table>\n",
              "<p>5 rows × 24 columns</p>\n",
              "</div>"
            ],
            "text/plain": [
              "   movieId              title         date   N  \\\n",
              "0        1   Toy Story (1995)  01-Jan-1995 NaN   \n",
              "1        2   GoldenEye (1995)  01-Jan-1995 NaN   \n",
              "2        3  Four Rooms (1995)  01-Jan-1995 NaN   \n",
              "3        4  Get Shorty (1995)  01-Jan-1995 NaN   \n",
              "4        5     Copycat (1995)  01-Jan-1995 NaN   \n",
              "\n",
              "                                                 url  g0  g1  g2  g3  g4 ...   \\\n",
              "0  http://us.imdb.com/M/title-exact?Toy%20Story%2...   0   0   0   1   1 ...    \n",
              "1  http://us.imdb.com/M/title-exact?GoldenEye%20(...   0   1   1   0   0 ...    \n",
              "2  http://us.imdb.com/M/title-exact?Four%20Rooms%...   0   0   0   0   0 ...    \n",
              "3  http://us.imdb.com/M/title-exact?Get%20Shorty%...   0   1   0   0   0 ...    \n",
              "4  http://us.imdb.com/M/title-exact?Copycat%20(1995)   0   0   0   0   0 ...    \n",
              "\n",
              "   g9  g10  g11  g12  g13  g14  g15  g16  g17  g18  \n",
              "0   0    0    0    0    0    0    0    0    0    0  \n",
              "1   0    0    0    0    0    0    0    1    0    0  \n",
              "2   0    0    0    0    0    0    0    1    0    0  \n",
              "3   0    0    0    0    0    0    0    0    0    0  \n",
              "4   0    0    0    0    0    0    0    1    0    0  \n",
              "\n",
              "[5 rows x 24 columns]"
            ]
          },
          "metadata": {
            "tags": []
          },
          "execution_count": 7
        }
      ]
    },
    {
      "metadata": {
        "id": "d2jsVAuYH3Xr",
        "colab_type": "code",
        "outputId": "46413267-8a75-448b-fcea-698bc11ee9d8",
        "colab": {
          "base_uri": "https://localhost:8080/",
          "height": 35
        }
      },
      "cell_type": "code",
      "source": [
        "len(ratings)"
      ],
      "execution_count": 11,
      "outputs": [
        {
          "output_type": "execute_result",
          "data": {
            "text/plain": [
              "100000"
            ]
          },
          "metadata": {
            "tags": []
          },
          "execution_count": 11
        }
      ]
    },
    {
      "metadata": {
        "id": "keJWVHgzH3Xu",
        "colab_type": "code",
        "outputId": "8e201a07-fb33-44f5-8384-27cc1ff4d630",
        "colab": {
          "base_uri": "https://localhost:8080/",
          "height": 202
        }
      },
      "cell_type": "code",
      "source": [
        "rating_movie = ratings.merge(movies[[item, title]])\n",
        "rating_movie.head()"
      ],
      "execution_count": 8,
      "outputs": [
        {
          "output_type": "execute_result",
          "data": {
            "text/html": [
              "<div>\n",
              "<style scoped>\n",
              "    .dataframe tbody tr th:only-of-type {\n",
              "        vertical-align: middle;\n",
              "    }\n",
              "\n",
              "    .dataframe tbody tr th {\n",
              "        vertical-align: top;\n",
              "    }\n",
              "\n",
              "    .dataframe thead th {\n",
              "        text-align: right;\n",
              "    }\n",
              "</style>\n",
              "<table border=\"1\" class=\"dataframe\">\n",
              "  <thead>\n",
              "    <tr style=\"text-align: right;\">\n",
              "      <th></th>\n",
              "      <th>userId</th>\n",
              "      <th>movieId</th>\n",
              "      <th>rating</th>\n",
              "      <th>timestamp</th>\n",
              "      <th>title</th>\n",
              "    </tr>\n",
              "  </thead>\n",
              "  <tbody>\n",
              "    <tr>\n",
              "      <th>0</th>\n",
              "      <td>196</td>\n",
              "      <td>242</td>\n",
              "      <td>3</td>\n",
              "      <td>881250949</td>\n",
              "      <td>Kolya (1996)</td>\n",
              "    </tr>\n",
              "    <tr>\n",
              "      <th>1</th>\n",
              "      <td>63</td>\n",
              "      <td>242</td>\n",
              "      <td>3</td>\n",
              "      <td>875747190</td>\n",
              "      <td>Kolya (1996)</td>\n",
              "    </tr>\n",
              "    <tr>\n",
              "      <th>2</th>\n",
              "      <td>226</td>\n",
              "      <td>242</td>\n",
              "      <td>5</td>\n",
              "      <td>883888671</td>\n",
              "      <td>Kolya (1996)</td>\n",
              "    </tr>\n",
              "    <tr>\n",
              "      <th>3</th>\n",
              "      <td>154</td>\n",
              "      <td>242</td>\n",
              "      <td>3</td>\n",
              "      <td>879138235</td>\n",
              "      <td>Kolya (1996)</td>\n",
              "    </tr>\n",
              "    <tr>\n",
              "      <th>4</th>\n",
              "      <td>306</td>\n",
              "      <td>242</td>\n",
              "      <td>5</td>\n",
              "      <td>876503793</td>\n",
              "      <td>Kolya (1996)</td>\n",
              "    </tr>\n",
              "  </tbody>\n",
              "</table>\n",
              "</div>"
            ],
            "text/plain": [
              "   userId  movieId  rating  timestamp         title\n",
              "0     196      242       3  881250949  Kolya (1996)\n",
              "1      63      242       3  875747190  Kolya (1996)\n",
              "2     226      242       5  883888671  Kolya (1996)\n",
              "3     154      242       3  879138235  Kolya (1996)\n",
              "4     306      242       5  876503793  Kolya (1996)"
            ]
          },
          "metadata": {
            "tags": []
          },
          "execution_count": 8
        }
      ]
    },
    {
      "metadata": {
        "id": "XpOXi1NEH3Xy",
        "colab_type": "code",
        "colab": {}
      },
      "cell_type": "code",
      "source": [
        "data = CollabDataBunch.from_df(rating_movie, seed=42, pct_val=0.1, item_name=title, rating_name='rating')"
      ],
      "execution_count": 0,
      "outputs": []
    },
    {
      "metadata": {
        "id": "c_ANVPAaH3X1",
        "colab_type": "code",
        "outputId": "638845df-14ac-4ba6-ba16-a5b0c010c095",
        "colab": {
          "base_uri": "https://localhost:8080/",
          "height": 361
        }
      },
      "cell_type": "code",
      "source": [
        "data.show_batch()"
      ],
      "execution_count": 10,
      "outputs": [
        {
          "output_type": "display_data",
          "data": {
            "text/html": [
              "<table>  <col width='10px'>  <col width='10px'>  <col width='10px'>  <tr>\n",
              "    <th>userId</th>\n",
              "    <th>title</th>\n",
              "    <th>target</th>\n",
              "  </tr>\n",
              "  <tr>\n",
              "    <th>293</th>\n",
              "    <th>My Family (1995)</th>\n",
              "    <th>4.0</th>\n",
              "  </tr>\n",
              "  <tr>\n",
              "    <th>405</th>\n",
              "    <th>Room with a View, A (1986)</th>\n",
              "    <th>2.0</th>\n",
              "  </tr>\n",
              "  <tr>\n",
              "    <th>634</th>\n",
              "    <th>Bound (1996)</th>\n",
              "    <th>4.0</th>\n",
              "  </tr>\n",
              "  <tr>\n",
              "    <th>592</th>\n",
              "    <th>Blade Runner (1982)</th>\n",
              "    <th>4.0</th>\n",
              "  </tr>\n",
              "  <tr>\n",
              "    <th>118</th>\n",
              "    <th>William Shakespeare's Romeo and Juliet (1996)</th>\n",
              "    <th>4.0</th>\n",
              "  </tr>\n",
              "  <tr>\n",
              "    <th>533</th>\n",
              "    <th>Apollo 13 (1995)</th>\n",
              "    <th>4.0</th>\n",
              "  </tr>\n",
              "  <tr>\n",
              "    <th>301</th>\n",
              "    <th>Boot, Das (1981)</th>\n",
              "    <th>3.0</th>\n",
              "  </tr>\n",
              "  <tr>\n",
              "    <th>303</th>\n",
              "    <th>Saint, The (1997)</th>\n",
              "    <th>2.0</th>\n",
              "  </tr>\n",
              "</table>\n"
            ],
            "text/plain": [
              "<IPython.core.display.HTML object>"
            ]
          },
          "metadata": {
            "tags": []
          }
        }
      ]
    },
    {
      "metadata": {
        "id": "dS-ffSxSH3X5",
        "colab_type": "code",
        "colab": {}
      },
      "cell_type": "code",
      "source": [
        "y_range = [0,5.5]"
      ],
      "execution_count": 0,
      "outputs": []
    },
    {
      "metadata": {
        "id": "MOiwoUl_H3X8",
        "colab_type": "code",
        "colab": {}
      },
      "cell_type": "code",
      "source": [
        "learn = collab_learner(data, n_factors=40, y_range=y_range, wd=1e-1)"
      ],
      "execution_count": 0,
      "outputs": []
    },
    {
      "metadata": {
        "id": "VNdLmwQMH3X-",
        "colab_type": "code",
        "outputId": "0d92776b-613d-4b15-c379-d3caa564d56c",
        "colab": {
          "base_uri": "https://localhost:8080/",
          "height": 454
        }
      },
      "cell_type": "code",
      "source": [
        "learn.lr_find()\n",
        "learn.recorder.plot(skip_end=15)"
      ],
      "execution_count": 13,
      "outputs": [
        {
          "output_type": "display_data",
          "data": {
            "text/html": [
              "\n",
              "    <div>\n",
              "        <style>\n",
              "        \t/* Turns off some styling */\n",
              "        \tprogress {\n",
              "\n",
              "            \t/* gets rid of default border in Firefox and Opera. */\n",
              "            \tborder: none;\n",
              "\n",
              "            \t/* Needs to be in here for Safari polyfill so background images work as expected. */\n",
              "            \tbackground-size: auto;\n",
              "            }\n",
              "\n",
              "            .progress-bar-interrupted, .progress-bar-interrupted::-webkit-progress-bar {\n",
              "                background: #F44336;\n",
              "            }\n",
              "        </style>\n",
              "      <progress value='0' class='' max='1', style='width:300px; height:20px; vertical-align: middle;'></progress>\n",
              "      0.00% [0/1 00:00<00:00]\n",
              "    </div>\n",
              "    \n",
              "<table style='width:300px; margin-bottom:10px'>\n",
              "  <tr>\n",
              "    <th>epoch</th>\n",
              "    <th>train_loss</th>\n",
              "    <th>valid_loss</th>\n",
              "  </tr>\n",
              "  <tr>\n",
              "\n",
              "  </tr>\n",
              "</table>\n",
              "\n",
              "\n",
              "    <div>\n",
              "        <style>\n",
              "        \t/* Turns off some styling */\n",
              "        \tprogress {\n",
              "\n",
              "            \t/* gets rid of default border in Firefox and Opera. */\n",
              "            \tborder: none;\n",
              "\n",
              "            \t/* Needs to be in here for Safari polyfill so background images work as expected. */\n",
              "            \tbackground-size: auto;\n",
              "            }\n",
              "\n",
              "            .progress-bar-interrupted, .progress-bar-interrupted::-webkit-progress-bar {\n",
              "                background: #F44336;\n",
              "            }\n",
              "        </style>\n",
              "      <progress value='0' class='progress-bar-interrupted' max='1407', style='width:300px; height:20px; vertical-align: middle;'></progress>\n",
              "      Interrupted\n",
              "    </div>\n",
              "    "
            ],
            "text/plain": [
              "<IPython.core.display.HTML object>"
            ]
          },
          "metadata": {
            "tags": []
          }
        },
        {
          "output_type": "stream",
          "text": [
            "LR Finder is complete, type {learner_name}.recorder.plot() to see the graph.\n"
          ],
          "name": "stdout"
        },
        {
          "output_type": "display_data",
          "data": {
            "image/png": "[encoded data removed]",
            "text/plain": [
              "<matplotlib.figure.Figure at 0x7f4412e3e860>"
            ]
          },
          "metadata": {
            "tags": []
          }
        }
      ]
    },
    {
      "metadata": {
        "id": "P81f5zEEH3YB",
        "colab_type": "code",
        "outputId": "f678199e-888f-4d64-b049-f7e552346ef2",
        "colab": {
          "base_uri": "https://localhost:8080/",
          "height": 156
        }
      },
      "cell_type": "code",
      "source": [
        "learn.fit_one_cycle(5, 8e-3)"
      ],
      "execution_count": 14,
      "outputs": [
        {
          "output_type": "stream",
          "text": [
            "Total time: 01:02\n",
            "epoch  train_loss  valid_loss\n",
            "1      0.906341    0.937574    (00:12)\n",
            "2      0.899178    0.896472    (00:12)\n",
            "3      0.779629    0.839263    (00:12)\n",
            "4      0.611958    0.819811    (00:12)\n",
            "5      0.481566    0.819765    (00:12)\n",
            "\n"
          ],
          "name": "stdout"
        }
      ]
    },
    {
      "metadata": {
        "id": "Qo1LPfrmH3YD",
        "colab_type": "code",
        "colab": {}
      },
      "cell_type": "code",
      "source": [
        "learn.save('dotprod')"
      ],
      "execution_count": 0,
      "outputs": []
    },
    {
      "metadata": {
        "id": "Ydm326EjH3YG",
        "colab_type": "text"
      },
      "cell_type": "markdown",
      "source": [
        "Here's [some benchmarks](https://www.librec.net/release/v1.3/example.html) on the same dataset for the popular Librec system for collaborative filtering. They show best results based on RMSE of 0.91, which corresponds to an MSE of `0.91**2 = 0.83`."
      ]
    },
    {
      "metadata": {
        "id": "r4d6SS2hH3YI",
        "colab_type": "text"
      },
      "cell_type": "markdown",
      "source": [
        "### Setup"
      ]
    },
    {
      "metadata": {
        "id": "lPj8sT0IH3YJ",
        "colab_type": "code",
        "colab": {}
      },
      "cell_type": "code",
      "source": [
        "learn.load('dotprod');"
      ],
      "execution_count": 0,
      "outputs": []
    },
    {
      "metadata": {
        "id": "h1oxzd0VH3YK",
        "colab_type": "code",
        "outputId": "f3c03694-4e84-4e6d-e2b5-ac65e9e41f66",
        "colab": {
          "base_uri": "https://localhost:8080/",
          "height": 121
        }
      },
      "cell_type": "code",
      "source": [
        "learn.model"
      ],
      "execution_count": 17,
      "outputs": [
        {
          "output_type": "execute_result",
          "data": {
            "text/plain": [
              "EmbeddingDotBias(\n",
              "  (u_weight): Embedding(944, 40)\n",
              "  (i_weight): Embedding(1654, 40)\n",
              "  (u_bias): Embedding(944, 1)\n",
              "  (i_bias): Embedding(1654, 1)\n",
              ")"
            ]
          },
          "metadata": {
            "tags": []
          },
          "execution_count": 17
        }
      ]
    },
    {
      "metadata": {
        "id": "70I5ivsMn-HL",
        "colab_type": "text"
      },
      "cell_type": "markdown",
      "source": [
        "`nn.Embedding`:\n",
        "\n",
        "A simple lookup table that stores embeddings of a fixed dictionary and size.\n",
        "\n",
        "This module is often used to store word embeddings and retrieve them using indices.\n",
        "\n",
        "The input to the module is a list of indices, and the output is the corresponding word embeddings.\n",
        "    \n",
        "Args:    \n",
        "- num_embeddings (int): size of the dictionary of embeddings\n",
        "- embedding_dim (int): the size of each embedding vector"
      ]
    },
    {
      "metadata": {
        "id": "A0iPUKv0mp_v",
        "colab_type": "code",
        "colab": {
          "base_uri": "https://localhost:8080/",
          "height": 225
        },
        "outputId": "a06c2365-afa8-45ff-93c1-6af4fd581eb4"
      },
      "cell_type": "code",
      "source": [
        "test_embedding = nn.Embedding(10, 3)\n",
        "test_input = torch.LongTensor([[1,2,4,5],[4,3,2,9]])\n",
        "print(test_input.size())\n",
        "print(test_embedding.weight.size())\n",
        "\n",
        "test_embedded = test_embedding(test_input)\n",
        "\n",
        "print(test_embedded)\n",
        "print(test_embedded.size())"
      ],
      "execution_count": 18,
      "outputs": [
        {
          "output_type": "stream",
          "text": [
            "torch.Size([2, 4])\n",
            "torch.Size([10, 3])\n",
            "tensor([[[-0.1775, -0.4711,  1.1461],\n",
            "         [-0.0245,  0.2616,  1.4554],\n",
            "         [-1.0509,  0.3310,  0.1879],\n",
            "         [-0.6590, -1.8675, -0.8843]],\n",
            "\n",
            "        [[-1.0509,  0.3310,  0.1879],\n",
            "         [-0.0794, -0.2696,  0.5856],\n",
            "         [-0.0245,  0.2616,  1.4554],\n",
            "         [ 0.1082, -1.1483,  0.5470]]], grad_fn=<EmbeddingBackward>)\n",
            "torch.Size([2, 4, 3])\n"
          ],
          "name": "stdout"
        }
      ]
    },
    {
      "metadata": {
        "id": "CrgY65ZMKpmq",
        "colab_type": "text"
      },
      "cell_type": "markdown",
      "source": [
        "fastai's class:\n",
        "\n",
        "```python\n",
        "class EmbeddingDotBias(nn.Module):\n",
        "    \"Base model for callaborative filtering.\"\n",
        "    def __init__(self, n_factors:int, n_users:int, n_items:int, y_range:Tuple[float,float]=None):\n",
        "        super().__init__()\n",
        "        self.y_range = y_range\n",
        "        (self.u_weight, self.i_weight, self.u_bias, self.i_bias) = [embedding(*o) for o in [\n",
        "            (n_users, n_factors), (n_items, n_factors), (n_users,1), (n_items,1)\n",
        "        ]]\n",
        "\n",
        "    def forward(self, users:LongTensor, items:LongTensor) -> Tensor:\n",
        "        dot = self.u_weight(users)* self.i_weight(items)\n",
        "        res = dot.sum(1) + self.u_bias(users).squeeze() + self.i_bias(items).squeeze()\n",
        "        if self.y_range is None: return res\n",
        "        return torch.sigmoid(res) * (self.y_range[1]-self.y_range[0]) + self.y_range[0]\n",
        "```"
      ]
    },
    {
      "metadata": {
        "id": "ZO5_e68snMrT",
        "colab_type": "text"
      },
      "cell_type": "markdown",
      "source": [
        "Definition of embedding in fastai\n",
        "```python\n",
        "def embedding(ni:int,nf:int) -> nn.Module:\n",
        "    \"Create an embedding layer.\"\n",
        "    emb = nn.Embedding(ni, nf)\n",
        "    # See https://arxiv.org/abs/1711.09160\n",
        "    with torch.no_grad(): trunc_normal_(emb.weight, std=0.01)\n",
        "    return emb\n",
        "```"
      ]
    },
    {
      "metadata": {
        "id": "W3wfj0QHKsYV",
        "colab_type": "code",
        "colab": {}
      },
      "cell_type": "code",
      "source": [
        "class DemoEmbeddingDotBias(nn.Module):\n",
        "    def __init__(self, n_factors:int, n_users:int, n_items:int, y_range:Tuple[float,float]=None, verbose:bool=False):\n",
        "        super().__init__()\n",
        "        self.y_range = y_range\n",
        "        (self.u_weight, self.i_weight, self.u_bias, self.i_bias) = [embedding(*o) for o in [\n",
        "            (n_users, n_factors), (n_items, n_factors), (n_users,1), (n_items,1)\n",
        "        ]]\n",
        "        self.verbose = verbose\n",
        "        if self.verbose:\n",
        "          print(f'self.u_weight size --> {self.u_weight.weight.size()}')\n",
        "          print(f'self.i_weight size --> {self.i_weight.weight.size()}')\n",
        "          print(f'self.u_bias size --> {self.u_bias.weight.size()}')\n",
        "          print(f'self.i_bias size --> {self.i_bias.weight.size()}')\n",
        "\n",
        "    def forward(self, users:LongTensor, items:LongTensor) -> Tensor:\n",
        "        dot = self.u_weight(users)* self.i_weight(items)\n",
        "        res = dot.sum(1) + self.u_bias(users).squeeze() + self.i_bias(items).squeeze()\n",
        "        if self.verbose:\n",
        "          print(f'dot size --> {dot.size()}')\n",
        "          print(f'res size --> {res.size()}')\n",
        "        if self.y_range is None: return res\n",
        "        return torch.sigmoid(res) * (self.y_range[1]-self.y_range[0]) + self.y_range[0]"
      ],
      "execution_count": 0,
      "outputs": []
    },
    {
      "metadata": {
        "id": "e_yRruukLRlf",
        "colab_type": "code",
        "outputId": "bae0b5f6-9282-409d-fa27-4674de3e249a",
        "colab": {
          "base_uri": "https://localhost:8080/",
          "height": 87
        }
      },
      "cell_type": "code",
      "source": [
        "demo_em = DemoEmbeddingDotBias(10,100,200, verbose=True)"
      ],
      "execution_count": 25,
      "outputs": [
        {
          "output_type": "stream",
          "text": [
            "self.u_weight size --> torch.Size([100, 10])\n",
            "self.i_weight size --> torch.Size([200, 10])\n",
            "self.u_bias size --> torch.Size([100, 1])\n",
            "self.i_bias size --> torch.Size([200, 1])\n"
          ],
          "name": "stdout"
        }
      ]
    },
    {
      "metadata": {
        "id": "DcQuHZVEplG7",
        "colab_type": "code",
        "colab": {
          "base_uri": "https://localhost:8080/",
          "height": 69
        },
        "outputId": "dec0e0de-0c6b-4956-d1de-f5f0839ab438"
      },
      "cell_type": "code",
      "source": [
        "one = next(iter(data.train_dl))\n",
        "print(one[0][0].size())\n",
        "print(one[0][1].size())\n",
        "print(one[1][0].size())"
      ],
      "execution_count": 20,
      "outputs": [
        {
          "output_type": "stream",
          "text": [
            "torch.Size([64])\n",
            "torch.Size([64])\n",
            "torch.Size([])\n"
          ],
          "name": "stdout"
        }
      ]
    },
    {
      "metadata": {
        "id": "R6aZQy4mpbA2",
        "colab_type": "code",
        "colab": {
          "base_uri": "https://localhost:8080/",
          "height": 52
        },
        "outputId": "52c10807-4d99-4379-fd93-0cb05ae51919"
      },
      "cell_type": "code",
      "source": [
        "test_users = torch.LongTensor([1,2,3,4,5])\n",
        "test_movies = torch.LongTensor([11,12,13,14,15])\n",
        "print(test_users.size())\n",
        "print(test_movies.size())"
      ],
      "execution_count": 26,
      "outputs": [
        {
          "output_type": "stream",
          "text": [
            "torch.Size([5])\n",
            "torch.Size([5])\n"
          ],
          "name": "stdout"
        }
      ]
    },
    {
      "metadata": {
        "id": "qCtOhBrZt0up",
        "colab_type": "code",
        "colab": {
          "base_uri": "https://localhost:8080/",
          "height": 87
        },
        "outputId": "f302ad46-476b-48d8-fec5-0c8412b4d246"
      },
      "cell_type": "code",
      "source": [
        "print(demo_em.u_weight(test_users).size())\n",
        "print(demo_em.i_weight(test_movies).size())\n",
        "print(demo_em.u_bias(test_users).size())\n",
        "print(demo_em.i_bias(test_movies).size())"
      ],
      "execution_count": 135,
      "outputs": [
        {
          "output_type": "stream",
          "text": [
            "torch.Size([5, 10])\n",
            "torch.Size([5, 10])\n",
            "torch.Size([5, 1])\n",
            "torch.Size([5, 1])\n"
          ],
          "name": "stdout"
        }
      ]
    },
    {
      "metadata": {
        "id": "WCwIUKxowQaU",
        "colab_type": "code",
        "colab": {
          "base_uri": "https://localhost:8080/",
          "height": 87
        },
        "outputId": "ce195123-8868-4b4f-eae3-e22d6ea5eafd"
      },
      "cell_type": "code",
      "source": [
        "demo_dot = demo_em.u_weight(test_users)*demo_em.i_weight(test_movies)\n",
        "print(demo_dot.size())\n",
        "\n",
        "print(demo_dot.sum(1).size())\n",
        "print(demo_em.u_bias(test_users).squeeze().size())\n",
        "print(demo_em.i_bias(test_movies).squeeze().size())"
      ],
      "execution_count": 28,
      "outputs": [
        {
          "output_type": "stream",
          "text": [
            "torch.Size([5, 10])\n",
            "torch.Size([5])\n",
            "torch.Size([5])\n",
            "torch.Size([5])\n"
          ],
          "name": "stdout"
        }
      ]
    },
    {
      "metadata": {
        "id": "vhw7EGXMs0Vn",
        "colab_type": "code",
        "colab": {
          "base_uri": "https://localhost:8080/",
          "height": 69
        },
        "outputId": "64fedee5-5ba2-46c7-c252-0a99abfe9072"
      },
      "cell_type": "code",
      "source": [
        "y_test = demo_em(test_users, test_movies)\n",
        "y_test"
      ],
      "execution_count": 137,
      "outputs": [
        {
          "output_type": "stream",
          "text": [
            "dot size --> torch.Size([5, 10])\n",
            "res size --> torch.Size([5])\n"
          ],
          "name": "stdout"
        },
        {
          "output_type": "execute_result",
          "data": {
            "text/plain": [
              "tensor([ 0.0036, -0.0006,  0.0082,  0.0041, -0.0124], grad_fn=<AddBackward0>)"
            ]
          },
          "metadata": {
            "tags": []
          },
          "execution_count": 137
        }
      ]
    },
    {
      "metadata": {
        "id": "sPLJ5cGn1-rV",
        "colab_type": "code",
        "colab": {
          "base_uri": "https://localhost:8080/",
          "height": 35
        },
        "outputId": "8c0a95d6-33d1-4a88-8b3b-240b6ef30f8f"
      },
      "cell_type": "code",
      "source": [
        "demo_em2 = DemoEmbeddingDotBias(10,100,200, y_range=[0,5])\n",
        "y_test2 = demo_em2(test_users, test_movies)\n",
        "y_test2"
      ],
      "execution_count": 138,
      "outputs": [
        {
          "output_type": "execute_result",
          "data": {
            "text/plain": [
              "tensor([2.4901, 2.4925, 2.5103, 2.4836, 2.4959], grad_fn=<AddBackward0>)"
            ]
          },
          "metadata": {
            "tags": []
          },
          "execution_count": 138
        }
      ]
    },
    {
      "metadata": {
        "id": "5kHEQBbqMw_r",
        "colab_type": "code",
        "outputId": "b155f869-a71c-44a1-968b-c4d34f828f1b",
        "colab": {
          "base_uri": "https://localhost:8080/",
          "height": 121
        }
      },
      "cell_type": "code",
      "source": [
        "learn.model"
      ],
      "execution_count": 21,
      "outputs": [
        {
          "output_type": "execute_result",
          "data": {
            "text/plain": [
              "EmbeddingDotBias(\n",
              "  (u_weight): Embedding(944, 40)\n",
              "  (i_weight): Embedding(1654, 40)\n",
              "  (u_bias): Embedding(944, 1)\n",
              "  (i_bias): Embedding(1654, 1)\n",
              ")"
            ]
          },
          "metadata": {
            "tags": []
          },
          "execution_count": 21
        }
      ]
    },
    {
      "metadata": {
        "id": "ldw6UFO1H3YQ",
        "colab_type": "code",
        "outputId": "6a323f78-5d1f-4739-c5fe-4905bb835ed1",
        "colab": {
          "base_uri": "https://localhost:8080/",
          "height": 69
        }
      },
      "cell_type": "code",
      "source": [
        "g = rating_movie.groupby(title)['rating'].count()\n",
        "top_movies = g.sort_values(ascending=False).index.values[:1000]\n",
        "top_movies[:10]"
      ],
      "execution_count": 29,
      "outputs": [
        {
          "output_type": "execute_result",
          "data": {
            "text/plain": [
              "array(['Star Wars (1977)', 'Contact (1997)', 'Fargo (1996)', 'Return of the Jedi (1983)', 'Liar Liar (1997)',\n",
              "       'English Patient, The (1996)', 'Scream (1996)', 'Toy Story (1995)', 'Air Force One (1997)',\n",
              "       'Independence Day (ID4) (1996)'], dtype=object)"
            ]
          },
          "metadata": {
            "tags": []
          },
          "execution_count": 29
        }
      ]
    },
    {
      "metadata": {
        "id": "iegbTRm5H3YT",
        "colab_type": "text"
      },
      "cell_type": "markdown",
      "source": [
        "### Movie bias"
      ]
    },
    {
      "metadata": {
        "id": "sE-Ev4Ua63JL",
        "colab_type": "code",
        "colab": {}
      },
      "cell_type": "code",
      "source": [
        "learn.bias??"
      ],
      "execution_count": 0,
      "outputs": []
    },
    {
      "metadata": {
        "id": "ybrDCQD_H3YV",
        "colab_type": "code",
        "outputId": "ae1ab96f-6ac9-4dd0-df5a-169c457335c5",
        "colab": {
          "base_uri": "https://localhost:8080/",
          "height": 35
        }
      },
      "cell_type": "code",
      "source": [
        "movie_bias = learn.bias(top_movies, is_item=True)\n",
        "movie_bias.shape"
      ],
      "execution_count": 31,
      "outputs": [
        {
          "output_type": "execute_result",
          "data": {
            "text/plain": [
              "torch.Size([1000])"
            ]
          },
          "metadata": {
            "tags": []
          },
          "execution_count": 31
        }
      ]
    },
    {
      "metadata": {
        "id": "m9aaaLXmH3YX",
        "colab_type": "code",
        "colab": {
          "base_uri": "https://localhost:8080/",
          "height": 139
        },
        "outputId": "5be2590c-cce7-403e-eb47-9cf5d05ab764"
      },
      "cell_type": "code",
      "source": [
        "mean_ratings = rating_movie.groupby(title)['rating'].mean()\n",
        "mean_ratings.head()"
      ],
      "execution_count": 33,
      "outputs": [
        {
          "output_type": "execute_result",
          "data": {
            "text/plain": [
              "title\n",
              "'Til There Was You (1997)    2.333333\n",
              "1-900 (1994)                 2.600000\n",
              "101 Dalmatians (1996)        2.908257\n",
              "12 Angry Men (1957)          4.344000\n",
              "187 (1997)                   3.024390\n",
              "Name: rating, dtype: float64"
            ]
          },
          "metadata": {
            "tags": []
          },
          "execution_count": 33
        }
      ]
    },
    {
      "metadata": {
        "id": "xRWZ86HS7cij",
        "colab_type": "code",
        "colab": {}
      },
      "cell_type": "code",
      "source": [
        "movie_ratings = [(b, i, mean_ratings.loc[i]) for i,b in zip(top_movies,movie_bias)]"
      ],
      "execution_count": 0,
      "outputs": []
    },
    {
      "metadata": {
        "id": "JEer8GJmH3Ya",
        "colab_type": "code",
        "colab": {}
      },
      "cell_type": "code",
      "source": [
        "item0 = lambda o:o[0]"
      ],
      "execution_count": 0,
      "outputs": []
    },
    {
      "metadata": {
        "id": "d702rdX8H3Yc",
        "colab_type": "code",
        "outputId": "3635d0e1-8758-4ad4-ff44-613b0c4b9d60",
        "colab": {
          "base_uri": "https://localhost:8080/",
          "height": 347
        }
      },
      "cell_type": "code",
      "source": [
        "sorted(movie_ratings, key=item0)[:15]"
      ],
      "execution_count": 36,
      "outputs": [
        {
          "output_type": "execute_result",
          "data": {
            "text/plain": [
              "[(tensor(-0.4101),\n",
              "  'Children of the Corn: The Gathering (1996)',\n",
              "  1.3157894736842106),\n",
              " (tensor(-0.3951),\n",
              "  'Lawnmower Man 2: Beyond Cyberspace (1996)',\n",
              "  1.7142857142857142),\n",
              " (tensor(-0.3380), 'Mortal Kombat: Annihilation (1997)', 1.9534883720930232),\n",
              " (tensor(-0.3347), 'Cable Guy, The (1996)', 2.339622641509434),\n",
              " (tensor(-0.3279), 'Striptease (1996)', 2.2388059701492535),\n",
              " (tensor(-0.3248), 'Island of Dr. Moreau, The (1996)', 2.1578947368421053),\n",
              " (tensor(-0.3023), 'Barb Wire (1996)', 1.9333333333333333),\n",
              " (tensor(-0.3007), 'Bio-Dome (1996)', 1.903225806451613),\n",
              " (tensor(-0.2830), 'Crow: City of Angels, The (1996)', 1.9487179487179487),\n",
              " (tensor(-0.2775), 'Showgirls (1995)', 1.9565217391304348),\n",
              " (tensor(-0.2772), 'Grease 2 (1982)', 2.0),\n",
              " (tensor(-0.2753), 'Free Willy 3: The Rescue (1997)', 1.7407407407407407),\n",
              " (tensor(-0.2662), \"McHale's Navy (1997)\", 2.1884057971014492),\n",
              " (tensor(-0.2558), 'Home Alone 3 (1997)', 1.894736842105263),\n",
              " (tensor(-0.2557), 'Vegas Vacation (1997)', 2.4)]"
            ]
          },
          "metadata": {
            "tags": []
          },
          "execution_count": 36
        }
      ]
    },
    {
      "metadata": {
        "id": "0VZ_-vIlH3Yf",
        "colab_type": "code",
        "outputId": "6a06440f-1d00-4226-c3fc-861b837d384d",
        "colab": {
          "base_uri": "https://localhost:8080/",
          "height": 277
        }
      },
      "cell_type": "code",
      "source": [
        "sorted(movie_ratings, key=lambda o: o[0], reverse=True)[:15]"
      ],
      "execution_count": 37,
      "outputs": [
        {
          "output_type": "execute_result",
          "data": {
            "text/plain": [
              "[(tensor(0.7529), \"Schindler's List (1993)\", 4.466442953020135),\n",
              " (tensor(0.6898), 'Shawshank Redemption, The (1994)', 4.445229681978798),\n",
              " (tensor(0.6522), 'Star Wars (1977)', 4.3584905660377355),\n",
              " (tensor(0.6426), 'Titanic (1997)', 4.2457142857142856),\n",
              " (tensor(0.6318), 'Rear Window (1954)', 4.3875598086124405),\n",
              " (tensor(0.6093), 'Silence of the Lambs, The (1991)', 4.28974358974359),\n",
              " (tensor(0.5982), 'Usual Suspects, The (1995)', 4.385767790262173),\n",
              " (tensor(0.5934), 'L.A. Confidential (1997)', 4.161616161616162),\n",
              " (tensor(0.5925), 'As Good As It Gets (1997)', 4.196428571428571),\n",
              " (tensor(0.5717), 'Boot, Das (1981)', 4.203980099502488),\n",
              " (tensor(0.5688), 'Good Will Hunting (1997)', 4.262626262626263),\n",
              " (tensor(0.5592), 'Casablanca (1942)', 4.45679012345679),\n",
              " (tensor(0.5578), 'Godfather, The (1972)', 4.283292978208232),\n",
              " (tensor(0.5528), \"One Flew Over the Cuckoo's Nest (1975)\", 4.291666666666667),\n",
              " (tensor(0.5464), 'Vertigo (1958)', 4.251396648044692)]"
            ]
          },
          "metadata": {
            "tags": []
          },
          "execution_count": 37
        }
      ]
    },
    {
      "metadata": {
        "id": "a09H7BRBH3Yi",
        "colab_type": "text"
      },
      "cell_type": "markdown",
      "source": [
        "### Movie weights"
      ]
    },
    {
      "metadata": {
        "id": "AcWQV0foH3Yi",
        "colab_type": "code",
        "outputId": "08b6350a-a2eb-4bb0-9558-be59266cc10a",
        "colab": {
          "base_uri": "https://localhost:8080/",
          "height": 35
        }
      },
      "cell_type": "code",
      "source": [
        "movie_w = learn.weight(top_movies, is_item=True)\n",
        "movie_w.shape"
      ],
      "execution_count": 38,
      "outputs": [
        {
          "output_type": "execute_result",
          "data": {
            "text/plain": [
              "torch.Size([1000, 40])"
            ]
          },
          "metadata": {
            "tags": []
          },
          "execution_count": 38
        }
      ]
    },
    {
      "metadata": {
        "id": "_zFyQHAJH3Yl",
        "colab_type": "code",
        "outputId": "038bbde7-48a1-4d5b-c76a-03f67cd19a9a",
        "colab": {
          "base_uri": "https://localhost:8080/",
          "height": 35
        }
      },
      "cell_type": "code",
      "source": [
        "movie_pca = movie_w.pca(3)\n",
        "movie_pca.shape"
      ],
      "execution_count": 39,
      "outputs": [
        {
          "output_type": "execute_result",
          "data": {
            "text/plain": [
              "torch.Size([1000, 3])"
            ]
          },
          "metadata": {
            "tags": []
          },
          "execution_count": 39
        }
      ]
    },
    {
      "metadata": {
        "id": "3TUwWwxpH3Yn",
        "colab_type": "code",
        "colab": {}
      },
      "cell_type": "code",
      "source": [
        "fac0,fac1,fac2 = movie_pca.t()\n",
        "movie_comp = [(f, i) for f,i in zip(fac0, top_movies)]"
      ],
      "execution_count": 0,
      "outputs": []
    },
    {
      "metadata": {
        "id": "-jS7l_3OH3Yp",
        "colab_type": "code",
        "outputId": "23a7adb5-6a5f-4130-cf1f-dbe7a3032f74",
        "colab": {
          "base_uri": "https://localhost:8080/",
          "height": 191
        }
      },
      "cell_type": "code",
      "source": [
        "sorted(movie_comp, key=itemgetter(0), reverse=True)[:10]"
      ],
      "execution_count": 41,
      "outputs": [
        {
          "output_type": "execute_result",
          "data": {
            "text/plain": [
              "[(tensor(1.2758), 'Home Alone 3 (1997)'),\n",
              " (tensor(1.1636), 'Jungle2Jungle (1997)'),\n",
              " (tensor(1.1241), 'Leave It to Beaver (1997)'),\n",
              " (tensor(1.0752), 'Congo (1995)'),\n",
              " (tensor(1.0665), \"McHale's Navy (1997)\"),\n",
              " (tensor(0.9845), 'D3: The Mighty Ducks (1996)'),\n",
              " (tensor(0.9571), 'Shadow Conspiracy (1997)'),\n",
              " (tensor(0.9473), 'Bio-Dome (1996)'),\n",
              " (tensor(0.9364), 'Batman & Robin (1997)'),\n",
              " (tensor(0.9206), 'Speed 2: Cruise Control (1997)')]"
            ]
          },
          "metadata": {
            "tags": []
          },
          "execution_count": 41
        }
      ]
    },
    {
      "metadata": {
        "id": "AECW24FYH3Yr",
        "colab_type": "code",
        "outputId": "fef1b372-273c-4479-bc9c-ff1bf361c230",
        "colab": {
          "base_uri": "https://localhost:8080/",
          "height": 208
        }
      },
      "cell_type": "code",
      "source": [
        "sorted(movie_comp, key=itemgetter(0))[:10]"
      ],
      "execution_count": 42,
      "outputs": [
        {
          "output_type": "execute_result",
          "data": {
            "text/plain": [
              "[(tensor(-1.0252), 'Chinatown (1974)'),\n",
              " (tensor(-0.9837),\n",
              "  'Dr. Strangelove or: How I Learned to Stop Worrying and Love the Bomb (1963)'),\n",
              " (tensor(-0.9713), 'Wrong Trousers, The (1993)'),\n",
              " (tensor(-0.9531), 'Close Shave, A (1995)'),\n",
              " (tensor(-0.9441), 'Third Man, The (1949)'),\n",
              " (tensor(-0.9366), 'Lawrence of Arabia (1962)'),\n",
              " (tensor(-0.9273), 'Big Sleep, The (1946)'),\n",
              " (tensor(-0.9255), 'Shall We Dance? (1996)'),\n",
              " (tensor(-0.9046), 'Lone Star (1996)'),\n",
              " (tensor(-0.9037), 'Casablanca (1942)')]"
            ]
          },
          "metadata": {
            "tags": []
          },
          "execution_count": 42
        }
      ]
    },
    {
      "metadata": {
        "id": "PMDjSainH3Yu",
        "colab_type": "code",
        "colab": {}
      },
      "cell_type": "code",
      "source": [
        "movie_comp = [(f, i) for f,i in zip(fac1, top_movies)]"
      ],
      "execution_count": 0,
      "outputs": []
    },
    {
      "metadata": {
        "id": "FLXN_vyMH3Yy",
        "colab_type": "code",
        "outputId": "caf081e6-1614-4d9c-d171-c45d8753b507",
        "colab": {
          "base_uri": "https://localhost:8080/",
          "height": 191
        }
      },
      "cell_type": "code",
      "source": [
        "sorted(movie_comp, key=itemgetter(0), reverse=True)[:10]"
      ],
      "execution_count": 44,
      "outputs": [
        {
          "output_type": "execute_result",
          "data": {
            "text/plain": [
              "[(tensor(1.2208), 'Braveheart (1995)'),\n",
              " (tensor(1.1164), 'Titanic (1997)'),\n",
              " (tensor(0.9938), 'Raiders of the Lost Ark (1981)'),\n",
              " (tensor(0.9344), 'Forrest Gump (1994)'),\n",
              " (tensor(0.8467), 'Field of Dreams (1989)'),\n",
              " (tensor(0.8422), 'Pretty Woman (1990)'),\n",
              " (tensor(0.8401), 'Fugitive, The (1993)'),\n",
              " (tensor(0.8313), \"It's a Wonderful Life (1946)\"),\n",
              " (tensor(0.8301), \"Mr. Holland's Opus (1995)\"),\n",
              " (tensor(0.8157), 'Back to the Future (1985)')]"
            ]
          },
          "metadata": {
            "tags": []
          },
          "execution_count": 44
        }
      ]
    },
    {
      "metadata": {
        "id": "_bxYH62GH3Y2",
        "colab_type": "code",
        "outputId": "fdd8bf52-7410-4ca1-fcdd-bf790fc96bd4",
        "colab": {
          "base_uri": "https://localhost:8080/",
          "height": 191
        }
      },
      "cell_type": "code",
      "source": [
        "sorted(movie_comp, key=itemgetter(0))[:10]"
      ],
      "execution_count": 45,
      "outputs": [
        {
          "output_type": "execute_result",
          "data": {
            "text/plain": [
              "[(tensor(-0.8499), 'Keys to Tulsa (1997)'),\n",
              " (tensor(-0.7998), 'Ready to Wear (Pret-A-Porter) (1994)'),\n",
              " (tensor(-0.7648), 'Nosferatu (Nosferatu, eine Symphonie des Grauens) (1922)'),\n",
              " (tensor(-0.7646), 'Sweet Hereafter, The (1997)'),\n",
              " (tensor(-0.7513), 'Dead Man (1995)'),\n",
              " (tensor(-0.7203), 'Stupids, The (1996)'),\n",
              " (tensor(-0.7171), 'Brazil (1985)'),\n",
              " (tensor(-0.6994), 'Beavis and Butt-head Do America (1996)'),\n",
              " (tensor(-0.6967), 'Heavenly Creatures (1994)'),\n",
              " (tensor(-0.6937), 'Very Brady Sequel, A (1996)')]"
            ]
          },
          "metadata": {
            "tags": []
          },
          "execution_count": 45
        }
      ]
    },
    {
      "metadata": {
        "id": "jMQYYakIH3Y5",
        "colab_type": "code",
        "outputId": "e340c3fc-3382-47db-8503-2c742c245a43",
        "colab": {
          "base_uri": "https://localhost:8080/",
          "height": 863
        }
      },
      "cell_type": "code",
      "source": [
        "idxs = np.random.choice(len(top_movies), 50, replace=False)\n",
        "idxs = list(range(50))\n",
        "X = fac0[idxs]\n",
        "Y = fac2[idxs]\n",
        "plt.figure(figsize=(15,15))\n",
        "plt.scatter(X, Y)\n",
        "for i, x, y in zip(top_movies[idxs], X, Y):\n",
        "    plt.text(x,y,i, color=np.random.rand(3)*0.7, fontsize=11)\n",
        "plt.show()"
      ],
      "execution_count": 46,
      "outputs": [
        {
          "output_type": "display_data",
          "data": {
            "image/png": "[encoded data removed]",
            "text/plain": [
              "<matplotlib.figure.Figure at 0x7f4411de2208>"
            ]
          },
          "metadata": {
            "tags": []
          }
        }
      ]
    },
    {
      "metadata": {
        "id": "VuC9I2geH3Y9",
        "colab_type": "code",
        "colab": {}
      },
      "cell_type": "code",
      "source": [
        ""
      ],
      "execution_count": 0,
      "outputs": []
    }
  ]
}