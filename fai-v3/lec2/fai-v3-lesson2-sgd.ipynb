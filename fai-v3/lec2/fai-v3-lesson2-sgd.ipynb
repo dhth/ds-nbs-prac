{
 "cells": [
  {
   "cell_type": "markdown",
   "metadata": {},
   "source": [
    "This notebook is part of the course content of fastai's deep learning MOOC (v-3).\n",
    "\n",
    "## Backprop for Linear Regression with PyTorch"
   ]
  },
  {
   "cell_type": "code",
   "execution_count": 1,
   "metadata": {},
   "outputs": [],
   "source": [
    "%matplotlib inline\n",
    "from fastai import *"
   ]
  },
  {
   "cell_type": "markdown",
   "metadata": {},
   "source": [
    "In this part of the lecture we explain Stochastic Gradient Descent (SGD) which is an **optimization** method commonly used in neural networks. We will illustrate the concepts with concrete examples."
   ]
  },
  {
   "cell_type": "markdown",
   "metadata": {},
   "source": [
    "#  Linear Regression problem"
   ]
  },
  {
   "cell_type": "markdown",
   "metadata": {},
   "source": [
    "The goal of linear regression is to fit a line to a set of points."
   ]
  },
  {
   "cell_type": "code",
   "execution_count": 2,
   "metadata": {},
   "outputs": [],
   "source": [
    "n=100"
   ]
  },
  {
   "cell_type": "code",
   "execution_count": 3,
   "metadata": {},
   "outputs": [
    {
     "data": {
      "text/plain": [
       "tensor([[ 0.9532,  1.0000],\n",
       "        [-0.3517,  1.0000],\n",
       "        [ 0.7797,  1.0000],\n",
       "        [-0.2529,  1.0000],\n",
       "        [-0.1627,  1.0000]])"
      ]
     },
     "execution_count": 3,
     "metadata": {},
     "output_type": "execute_result"
    }
   ],
   "source": [
    "x = torch.ones(n,2) \n",
    "x[:,0].uniform_(-1.,1)\n",
    "x[:5]"
   ]
  },
  {
   "cell_type": "code",
   "execution_count": 4,
   "metadata": {},
   "outputs": [
    {
     "data": {
      "text/plain": [
       "tensor([-3.,  4.])"
      ]
     },
     "execution_count": 4,
     "metadata": {},
     "output_type": "execute_result"
    }
   ],
   "source": [
    "a = tensor(-3.,4.); a"
   ]
  },
  {
   "cell_type": "code",
   "execution_count": 5,
   "metadata": {},
   "outputs": [],
   "source": [
    "y = x@a + torch.rand(n)\n",
    "# y = x@a"
   ]
  },
  {
   "cell_type": "code",
   "execution_count": 6,
   "metadata": {},
   "outputs": [
    {
     "data": {
      "image/png": "[encoded data removed]",
      "text/plain": [
       "<Figure size 432x288 with 1 Axes>"
      ]
     },
     "metadata": {
      "needs_background": "light"
     },
     "output_type": "display_data"
    }
   ],
   "source": [
    "plt.scatter(x[:,0], y);"
   ]
  },
  {
   "cell_type": "markdown",
   "metadata": {},
   "source": [
    "You want to find **parameters** (weights) `a` such that you minimize the *error* between the points and the line `x@a`. Note that here `a` is unknown. For a regression problem the most common *error function* or *loss function* is the **mean squared error**. "
   ]
  },
  {
   "cell_type": "code",
   "execution_count": 7,
   "metadata": {},
   "outputs": [],
   "source": [
    "def mse(y_hat, y): return ((y_hat-y)**2).mean()"
   ]
  },
  {
   "cell_type": "markdown",
   "metadata": {},
   "source": [
    "Suppose we believe `a = (3.,1.)` then we can compute `y_hat` which is our *prediction* and then compute our error."
   ]
  },
  {
   "cell_type": "markdown",
   "metadata": {},
   "source": [
    "Choosing values for `a` that are almost totally opposite to the correct values."
   ]
  },
  {
   "cell_type": "code",
   "execution_count": 18,
   "metadata": {},
   "outputs": [],
   "source": [
    "a = tensor(3.,1.)"
   ]
  },
  {
   "cell_type": "code",
   "execution_count": 19,
   "metadata": {},
   "outputs": [
    {
     "data": {
      "text/plain": [
       "tensor(23.8984)"
      ]
     },
     "execution_count": 19,
     "metadata": {},
     "output_type": "execute_result"
    }
   ],
   "source": [
    "y_hat = x@a\n",
    "mse(y_hat, y)"
   ]
  },
  {
   "cell_type": "code",
   "execution_count": 30,
   "metadata": {},
   "outputs": [
    {
     "data": {
      "image/png": "[encoded data removed]",
      "text/plain": [
       "<Figure size 432x288 with 1 Axes>"
      ]
     },
     "metadata": {
      "needs_background": "light"
     },
     "output_type": "display_data"
    }
   ],
   "source": [
    "plt.scatter(x[:,0],y)\n",
    "plt.scatter(x[:,0],y_hat);"
   ]
  },
  {
   "cell_type": "markdown",
   "metadata": {},
   "source": [
    "So far we have specified the *model* (linear regression) and the *evaluation criteria* (or *loss function*). Now we need to handle *optimization*; that is, how do we find the best values for `a`? How do we find the best *fitting* linear regression."
   ]
  },
  {
   "cell_type": "markdown",
   "metadata": {},
   "source": [
    "# Gradient Descent"
   ]
  },
  {
   "cell_type": "markdown",
   "metadata": {},
   "source": [
    "We would like to find the values of `a` that minimize `mse_loss`.\n",
    "\n",
    "**Gradient descent** is an algorithm that minimizes functions. Given a function defined by a set of parameters, gradient descent starts with an initial set of parameter values and iteratively moves toward a set of parameter values that minimize the function. This iterative minimization is achieved by taking steps in the negative direction of the function gradient.\n",
    "\n",
    "Here is gradient descent implemented in [PyTorch](http://pytorch.org/)."
   ]
  },
  {
   "cell_type": "code",
   "execution_count": 27,
   "metadata": {},
   "outputs": [
    {
     "data": {
      "text/plain": [
       "Parameter containing:\n",
       "tensor([-2.8739,  4.5374], requires_grad=True)"
      ]
     },
     "execution_count": 27,
     "metadata": {},
     "output_type": "execute_result"
    }
   ],
   "source": [
    "a = nn.Parameter(a); a"
   ]
  },
  {
   "cell_type": "code",
   "execution_count": 28,
   "metadata": {},
   "outputs": [],
   "source": [
    "def update():\n",
    "    y_hat = x@a\n",
    "    loss = mse(y, y_hat)\n",
    "    if t % 10 == 0: print(loss)\n",
    "    loss.backward()\n",
    "    with torch.no_grad():\n",
    "        a.sub_(lr * a.grad)\n",
    "        a.grad.zero_()"
   ]
  },
  {
   "cell_type": "code",
   "execution_count": 29,
   "metadata": {},
   "outputs": [
    {
     "name": "stdout",
     "output_type": "stream",
     "text": [
      "tensor(0.0980, grad_fn=<MeanBackward1>)\n",
      "tensor(0.0907, grad_fn=<MeanBackward1>)\n",
      "tensor(0.0890, grad_fn=<MeanBackward1>)\n",
      "tensor(0.0885, grad_fn=<MeanBackward1>)\n",
      "tensor(0.0884, grad_fn=<MeanBackward1>)\n",
      "tensor(0.0884, grad_fn=<MeanBackward1>)\n",
      "tensor(0.0884, grad_fn=<MeanBackward1>)\n",
      "tensor(0.0884, grad_fn=<MeanBackward1>)\n",
      "tensor(0.0884, grad_fn=<MeanBackward1>)\n",
      "tensor(0.0884, grad_fn=<MeanBackward1>)\n"
     ]
    }
   ],
   "source": [
    "lr = 1e-1\n",
    "for t in range(100): update()"
   ]
  },
  {
   "cell_type": "code",
   "execution_count": 14,
   "metadata": {},
   "outputs": [
    {
     "data": {
      "image/png": "[encoded data removed]",
      "text/plain": [
       "<Figure size 432x288 with 1 Axes>"
      ]
     },
     "metadata": {
      "needs_background": "light"
     },
     "output_type": "display_data"
    }
   ],
   "source": [
    "plt.scatter(x[:,0],y)\n",
    "plt.scatter(x[:,0],x@a);"
   ]
  },
  {
   "cell_type": "markdown",
   "metadata": {},
   "source": [
    "## Animate it!"
   ]
  },
  {
   "cell_type": "code",
   "execution_count": 15,
   "metadata": {},
   "outputs": [],
   "source": [
    "from matplotlib import animation, rc\n",
    "rc('animation', html='html5')"
   ]
  },
  {
   "cell_type": "markdown",
   "metadata": {},
   "source": [
    "You'll need to uncomment the following to install the necessary plugin the first time you run this:"
   ]
  },
  {
   "cell_type": "code",
   "execution_count": null,
   "metadata": {},
   "outputs": [],
   "source": [
    "#! sudo add-apt-repository ppa:mc3man/trusty-media  \n",
    "#! sudo apt-get update  \n",
    "#! sudo apt-get install ffmpeg  \n",
    "#! 1sudo apt-get install frei0r-plugins "
   ]
  },
  {
   "cell_type": "code",
   "execution_count": 26,
   "metadata": {},
   "outputs": [
    {
     "data": {
      "text/html": [
       "<video width=\"432\" height=\"288\" controls autoplay loop>\n",
       "  <source type=\"video/mp4\" src=\"data:video/mp4;base64,AAAAHGZ0eXBNNFYgAAACAGlzb21pc28yYXZjMQAAAAhmcmVlAABpsG1kYXQAAAKuBgX//6rcRem9\n",
       "5tlIt5Ys2CDZI+7veDI2NCAtIGNvcmUgMTQ4IHIyNzQ4IDk3ZWFlZjIgLSBILjI2NC9NUEVHLTQg\n",
       "QVZDIGNvZGVjIC0gQ29weWxlZnQgMjAwMy0yMDE2IC0gaHR0cDovL3d3dy52aWRlb2xhbi5vcmcv\n",
       "eDI2NC5odG1sIC0gb3B0aW9uczogY2FiYWM9MSByZWY9MyBkZWJsb2NrPTE6MDowIGFuYWx5c2U9\n",
       "MHgzOjB4MTEzIG1lPWhleCBzdWJtZT03IHBzeT0xIHBzeV9yZD0xLjAwOjAuMDAgbWl4ZWRfcmVm\n",
       "PTEgbWVfcmFuZ2U9MTYgY2hyb21hX21lPTEgdHJlbGxpcz0xIDh4OGRjdD0xIGNxbT0wIGRlYWR6\n",
       "b25lPTIxLDExIGZhc3RfcHNraXA9MSBjaHJvbWFfcXBfb2Zmc2V0PS0yIHRocmVhZHM9OSBsb29r\n",
       "YWhlYWRfdGhyZWFkcz0xIHNsaWNlZF90aHJlYWRzPTAgbnI9MCBkZWNpbWF0ZT0xIGludGVybGFj\n",
       "ZWQ9MCBibHVyYXlfY29tcGF0PTAgY29uc3RyYWluZWRfaW50cmE9MCBiZnJhbWVzPTMgYl9weXJh\n",
       "bWlkPTIgYl9hZGFwdD0xIGJfYmlhcz0wIGRpcmVjdD0xIHdlaWdodGI9MSBvcGVuX2dvcD0wIHdl\n",
       "aWdodHA9MiBrZXlpbnQ9MjUwIGtleWludF9taW49MjUgc2NlbmVjdXQ9NDAgaW50cmFfcmVmcmVz\n",
       "aD0wIHJjX2xvb2thaGVhZD00MCByYz1jcmYgbWJ0cmVlPTEgY3JmPTIzLjAgcWNvbXA9MC42MCBx\n",
       "cG1pbj0wIHFwbWF4PTY5IHFwc3RlcD00IGlwX3JhdGlvPTEuNDAgYXE9MToxLjAwAIAAABmVZYiE\n",
       "ACv//vZzfAprRzOVLgV292aj5dCS5fsQYPrQAAADAAGq07IMpSasR30AADqsjp6MRFaYAIoGiGtU\n",
       "Fo4Do1ALPWMxknkZ4AzxRHZIgtmz78h1mvIismqUp/zO6YqEdSACDrYsVcicY09YP07tJBf+Y8up\n",
       "xGHYcYHHjcVvgHJtiJ9e41QpM4rGaSUtYdW+pWbgH633pzuYIPGduOW1DPG/o2P3ekQTbtheG3CD\n",
       "yiInyAU8o7QTnTVxkuQ6+qqBF62D5lPaBIS94g1LFKv6E1wyiGMLXThPfyl8XJBSvXuY4UPjHHZY\n",
       "9UpHdUQ2s7Wq6xow2MWmw2BILakH4KiiRSJgNX3Lm3PnjmNYOKdhw75NNDwoaQRwT10yHlneV0KB\n",
       "OttnTEPnQNZb1Nwe51+Zj2fL+WGjQhoxN57GVMB/+glGlbfPmqELrMvDRfigxrXiViHFxLbfIf04\n",
       "axbCunzR4eZGyIYE7/EJgwzhiTcYGusZ487/YH8Z25ruVNNDF/TjOf9eSkWva7ZiuCTM3GaThEos\n",
       "rvRoW2kEUxMzsTcXxUCQJjeTa0M0gPuscfOmR7n3D6sdI9eV+Evj0QojH2DdXb1F9fEhxARwsjMl\n",
       "+d/gDofOgvJZCj07yIiIwB3cAHLbtycs4DjPByfQSd6AITD7iDaD438IHIMxXY+NqwAUQVTaDpdy\n",
       "kpibMJHZadKUzwhrlaLwjO6eiKtKSXyLsCid/0p6KBley6G/8kztxLyYvtK3rw0pK1K41gf7HFKg\n",
       "QlZfpBm5OXWu75uFJu4PF/MvCDMZiNLjCX1BvPOHZ08Y4AvjmYBufzgI2Ob4jr8xFWq09uDmd+i4\n",
       "WG9gRUif77pFmmR39V9ErzASsORKYn9bD/HCskbPnXp66dxCF/Tzn2dp0uuO0yTsqrK4zVuDVHup\n",
       "EXWV83KfUrI9udxyHPeM+N4IAKlL/fDfnEmQd5Xzz1SgKKSFUC0tAG+0l5MtxdtGFAylc/SL+NJR\n",
       "o49ixL9Z4BnPow9WS/Vzt882lRPXzlXmAnh7ULpCvLlMaRVn560//mFsKjqhCaVgDNd7jwdOxEdZ\n",
       "uqzE+ydmEUyRGblrnLEsHlA4YrWJMABTCgjcjvMgfOkdRm6lPDwyukx54IPyNZc57tHQmLYt9fmM\n",
       "wDBj4L5qr+e+8pUIadQKF3gVUEw9rjNFS0EoerlRKAnx5U+SjOhp/LoKCey1KZWGdaVQf3Szti3u\n",
       "u9xpK0lYCyz0WtZ2sh/2qlmYX+55Q8oXt68r6ba51J0/A328zxo6VSWNWilJkNccPkuPfDOGpK4I\n",
       "berGgBWn/Bafb+ByC3AhftHnLgEx068G2b56u2ECsw6Rc1ZNBl1HEtB1jAFgnslVV0h97ukRFlsL\n",
       "jnERw15pP8LUmPYy8v6aCNlv78hikNIZsMYt8t9/QIw0qCIXFCdHpKOsU36Uf9fTSqAYTBaLy9/a\n",
       "AloNfKIceEgMfJZ8tRwYP+LiXxXwWuccj2ULJku+wi3Bs2A4c2xL0rp6JUxW1cvA0zPyEhgXBBGL\n",
       "TYTZfGMUyM+2sXuv+pz2+huAmWjpsWl8kvrES9KTt7I7YMcRvsv3AXyVr8u5WcU2ptBugVnwQBLI\n",
       "qcRlpViGtNvpLCJKt7xjX8CNsNO62rjJimkBQxRqICKJz/X4HJPfcW3Tb+FwK2JtOstTrXAbVwrj\n",
       "10e726scpRBy9c+jrqswYdULG/wDLZVKL3/MA+ItKXuVlU8Ab7F4F6TJGfL76Nt2ydI/mIKeUZTe\n",
       "YX9+3Z0wAtIUGgbZKVfUiZsVmGx6lKkRGnUIcPRdEEi8FBFbCYx6KOOACjgfNirZN/gzpY8/Z06a\n",
       "2Z3gC8kUy3u8Wn0u6xhIFoZwiVdgnWlYR2+l8Osajq5oDIaUPWg//zxcm0SH/+0HqnI8MlVuSgc5\n",
       "1qyrC6M5ud4dOZdZtNjdAOFoGdpU8XZAkogcoj5wWb7dISRaRMXppPsLDdax2lSAnf6kV5S8dXfK\n",
       "2hY9a1XYrblpa5Y6W9F+q14uGbwylVRkGPZ6jAQEeSRYfcvgCu8Ts9DOg4tPkhovIVZEmMIGZ+YL\n",
       "A78g2LR8HGYtJC1C5igjWe3nhjY9k+T4BPzwWwbtuFEax/3S2gIWu8NxGlqSmb2tz3b8rHMmchXN\n",
       "V/n4Fp8FZOjG+g2vE/2L2D850OZa+hWMTjIN6hjUuwBawRbcdsDMoZLiUt5z+VZbf45J+Lu3vNcz\n",
       "GuVQIWDAlKptvhhoh9LURkWOG6LrNel6bsn4CSUgN1hW6/LuIFWUQalKDZ/IthT3Mlhh9kPWlsnK\n",
       "cLP2redMRCn6U/dxQORj+d2fUhBIqVS75pyLW2lHLTO7dnV2W0QCt+/XHMIuuerbb26y/jY10UAf\n",
       "7ij4AiNXMrG1buB8e+ush1Ct7+s2PHtYNGZTFZMiXOtkYQOZvExpml1IkmEhDSA8q/Rye5eqpDvz\n",
       "XB1bYD5e0Bhrnhl/CSxxt8QU7IEU4jHO+X2F/ghBPt/0YARbKovmAZ7VY/Uk4f5BJT1wnt7EAMeN\n",
       "ek80T1DayQ8jlkHEKEi2yX7/Zzt9KC5cYwhnQGBenZ96Fmtc7ymr0M96O8efby2K7faK35mcyvEV\n",
       "JenMg5e1iGGTde4JyY3QX4jElevQpopc0iERISUjsSI/bOb2Cxe7+WmpBkCab1B6hHJugM+rNib/\n",
       "3Y4vdZ8muT0NKyr5SP+W1+GNhAdWx6qtzq16NhGXS+xYBrkpy5xyjkjkUsvCcrA6nOi3n0lUzzM7\n",
       "iiS7mEkEU1ZwS4EyHJsns3ge1xDX80SwD4CULPAP3HV+Gx+fyQXV3RR/ojKTWMI1Pm409lBUsz6+\n",
       "VypfWVYP2gc/BT3X6x4xsqLQkuFGto1iAmBhcF8rn7A1lpY2t4fG/H9a9XQuXS7yqdwF44ZyfdkY\n",
       "vnv5xkag8ogNUmSAtmWzAt9SPWl7POUzLwmdS2r2qaahA9bfXXtsVqsW4H4PBfaBJoEvRkW9Iixh\n",
       "cJOiah7u3I782d1a8RwQSTY1p1WKiHZAkGyPeWQJ9WpICEq/lCicMjRG8oVrly2b/7R0wn5stQqF\n",
       "IeMdEJz+Ass/zEUiK0diyMssZVkEfgwZAfpjqFuxdBJhSbqP9AzFn27vXI3Ld9JfhpuIBgjPAfSF\n",
       "851NZQOJZuqmOPjUjdXrkw4V7JHp/G3DUsHGDcXpmIFTsLpBu4Ahh3eozzm81xjM/J35t1wRs0lQ\n",
       "K0MsCz4gwLj2k/AyMwiAGMeyUUTvPpbgZ3pmNkHI6cnhQ1DmEWLAVMyVMkFwbKy+u+vBEQVm8G/t\n",
       "tpH13DxpIZItNiZwTcAb86zmsKLhYQEdhPI03XVdG7/FRpIJauy+Ykrjrjrezi3/UPBIsP9/A3/s\n",
       "Hs4WbBKdtgms4dtSI0erhnRwqu3uZpegfBjQ0j0i++upsb5cjXMtNxVS1Svnw6ik1mRHdJiSi1i8\n",
       "vdtyrUTgLIhS0/y7tagEVQwz50ADO4+CtuNdd6yLK5aC9gQrapRI4pbFqaetftkkCgHfrDkSdqOn\n",
       "tSDVD/tHKrbyR5yPN0+XU29eSE5eakxbQ2DuZ6Jd5c7jYaMOIDvrEaJZCjeywj5+L2x3U+9AFDNK\n",
       "FYICjf96PXJ6RLkeAvJb9w2YFvH9AruRH9oLuG6fdnHgsSv2YHdvlMNUAnfMZgBcrGzbo/+4a5uz\n",
       "PswRSgvosVVo+RFBCQOZ7DrQ2UKgl6Z8c0AV01d0LIzyjHRZF2BX2dFPujUkZ1FHUpFiaXznc9XJ\n",
       "w6tqt7EaoRp3aTfodpnyhtbRsBjWKVbZfEynXS48PKa/ihrX41ZaZqO0EKpgxiWnSw9PPByPK8Oe\n",
       "gShw3R/Zs3qKwen/dcuePCQgx8aJirgHrAPVax4ORZWamQQhmEyAqg+V5zoMW3o1RdteObWL09o0\n",
       "XCVAANSexxFOy2sOqNmHiwDhPfPDp3ncuQlGe6rj/BdE9ob758DGpd8VGgz/+k94+uKd1mvC4Zdz\n",
       "5sfUw8TK1eDjKwjeCxABdog/xAqdwHsrZPY3rUahZ0LfG4DNymWjZtx6IzNKz1wK6eVZ5iFJQy/t\n",
       "H6I1fom6R/H1ee+a+q9HSKNgx/4rCvQQqIomWvTa0kYcV59PijUFZqVqVWlEgB8nHP0eceI3O3Yn\n",
       "kemfo7sUi6/GRi/hGF9XRP93O7rB3u4SvYwjyrFBgn5tqdULiO6f98DP3BCsqv5pekaJymlGV7P7\n",
       "0gNCO8p6tZHy36o9ue6q9HzuwXA56jIXYXZX1PW4NFH6Iu0p4tp7Fb520Q72cV2c7q1tw6kfvf7n\n",
       "xx2gLofYmBZCA08rZYs9lkZZZULMiewgOVrNImVCoShAEFwfEpZ2PFhHhVAijJzxA7SORFO318sU\n",
       "dja5CFDOIaPMlNXlBVWsXlXpjbXQoU2mvdztTRUIeP4p8eoEfg6GnhOUrn1RfZezsg4b7xMFqkko\n",
       "/3AYK/Wp1rFQtqYxSnGXigBQrMTAHfey1jC4BxKHwatWYKzvy22yzJQFUb3JyP3Li9CwuwCSGgPW\n",
       "KKa1Q0ZRxGJCEgGqL14E4brkjO7q0hdr93IlfQzptjK3Z1EpZMa31pbliB6qcU4VqNLJ+iioBac+\n",
       "s91ApdTNezFprpt6D4gNeHhBttre091MFfYTyo8P8Aj60A/sK+hm7zCZ8juovLZigy+Xcoo7pJIw\n",
       "syDlaA+EI1A52gikHL5vMGNJqmHtMn66Q/r4kN12rc3bdBDlw/fqBP2NB5QI5BY8mjex88Prwuri\n",
       "hJxhM4l7lwMLrMAQPq3gvaDQOA4Y2RB/ZMsqmiEYJNbHZ1WYGt5VJV6vgj1Cda5PDt3vaFEynKay\n",
       "Ffa6eJgTJ3GOkpQjnZk6ox/JwEWsBdZ7qlndEha8fzpJ6RVL7N7Mq3A0nZzfzuC+C0kBgM/I7h7i\n",
       "UB8HARk7jsu4ATPzaFBBEISNZ/K5DeiSMwYtvbm3hBHsshpcpuYfm1BNVKXw2ymnkYmFCwjaiS/c\n",
       "K5qSd8Sx9D4Iaton5/EpV2FD0qsFrWW91iMdTi77t6Xe8RgA720Wprqu/o2dPnXCYbRwb0pRDbUI\n",
       "5VTuoAY4SA2esf11nFHZogD5/OWobxJvfbH6X9Qta+tXuleeIjDddECWgTv8KMZu5o/MxFrXR6CJ\n",
       "40AUgEy/Gib1oLD+nAofPjbyXg/MEOCCzazTz/dWzC2XCOBzaXY66ruTu+VWkFfekgOkq252779b\n",
       "PfOYXjA2bydHhrJwzTop1bAixP08EBkKKA0yQsXJqeBLU3ZKWW2wRO3hwBwpI8VkX24cV9yMYmJ3\n",
       "uv6BCDS9CtHfvBXTMk7OwZxcp4HqHKteOAzeT+zhWlLs274E1T6N/nL1EYE7yFCYFlHO8PqSZ0g6\n",
       "vecIrlT+OUcHng79o12Mgs94F7WCiwC0F4rXCPvbpvwOsxdZYTsflAEBragkLJqSORhW8a5Ne6q9\n",
       "bgEbot9uPy29jeiTAvRlbtbSCoVe+6893IG5jnu6NSLJPtEcTK1ZMZINW/cmZkSopp7HYUfXjmiG\n",
       "E3hf6GtBPQb+DZ6oGvRUl8BThf8cxVIQiyRk15MVMX8dGa7ycPILq3lC3frHSXhwZELzvBpKhjbo\n",
       "OCW0RPi1f1Ql3nndYa1ZqNA9fezmQluZY5jvuyLe8pojaBzhQArSvkLd4h29nlL41Vk0tcudDUza\n",
       "tDvik/oP25fWUuDuhb+OOM3VQEMtEDXcTWlyL/Lp+waD3tiLdK40m6TiW/o33DSHbXvKWq6S5AN0\n",
       "VW+dLfIhVx9ZGS4kX84FgaKBqf0BSf447grjuvD/fqc/wEd1hpUilb88bVL0zkwNxtdzbiocpfcP\n",
       "SSxzcKMHAUQwaNzcH2hbFc3OoXuTQlW29vo8e+u4EAt82j0JAKR4KXQ8fnhYxayswYt9YcHuEGMe\n",
       "O8uAEmj/0MrrHUFuOca9JIRV7NT67yxKikY4tv+flfPeEKlLifCq3XBAuM16FrcviGx34tBGWtK3\n",
       "NdqG0lje9j3003igOkm+j7Xh62FD3BZpzrkExwJ637LBj2f+jvkgIoN9b0ZgMmszqjn/Fhv6oxVP\n",
       "FacGl5Eod+graB+L/6yXU+Op8EbBFbMIg9lgTZNng2UVl2wUC3Ic2OemgyCAmnvVo5/e359zVAGA\n",
       "KPsEt2X8Zd4jVvqSQOqgrOmiglKy9vBjsQ3GAFQsPY6CTcM3GM86DKqPCjuxsMYjFEbJjG45x3Jy\n",
       "1KT47gBg7es1BBInqZ4unhakvWJa3tUt0G/iZk4oyHH+pQ7iL6o6tOWsu4AbKBslsDQaRzbI9GbF\n",
       "gdFykWIQAQltcZ3bjhSwiq2tSsLgVEABPskwSiuuYewBtaK15UhmbhnpcdnEFPthFwok8wVJwOxO\n",
       "gxRP/EfNuJnlvEBy0N3HNM4S56WaLdQqVwv3/rnBPxuvabPI9xvBN3DsV4beiLz1me3ZqHxk8jjL\n",
       "oPflMDOArkmXOzQkl4V7yVierUlVZT0dNwm4Um58LngACCX+cLOiOAP8eTlofI1qRpGOKHGggihW\n",
       "kJYEYyMqVZGaiJ0434hQB65mKHSA3tQ3fIj+6gFUmDysgYWJAz4ev6jEoIXEg66oCRhG+nxvyGBM\n",
       "5mdbvrUZ2kNSIw6WNxawYuysiXRhZUYxMc3qVAE8EBXQuhmK4Nft8PciMguxf0hsph+1Ze1guTvh\n",
       "AD+albv5QNCZlLKuiqUQk1XIISDmcmMIt7HMU6d9ijgZlvMiHCG6H+m8f1BKPgnfK1ayJvVGjaxc\n",
       "u6Uwm74eZ9/Mm48yVXaZ+sJW3pi7bHanPqoF6wTA/kgFcPy3KHS/yVXaZ/LpLWPmPDNThIHD/wIz\n",
       "sOMt5NsWZ9v2bRWLGGFIV6Gplcjv+7jhwuXIHASrncByOjmoVDsOqhUh8edMHGvjZE+iVk8Ohcrm\n",
       "O5oTSRNWtkF9S90hiURZ/dPjCGDoMVl8O7ek8LSPr8iqQRm4CzhYAVaqzJIHUf4xPudYQegOz6PV\n",
       "JEqGJrPtXNAvN49kDxvIETj0p/T/iH0dsN8HS1R/i0ghX+yzi5Sm4Qijw7TMGnVZZsELZqlgdzip\n",
       "sHeBTzTpg9WRL9lJBKu20EzR1oWQ7nsgUrJheXm+/v20u6xCgZjicLKnBosYHk2B550n7jMQWAIm\n",
       "J9WY88OlD5S3yG2vbOW023WUmjAhTX9hl7zkVpECX11RUKZyALIQ56Z2kfvDPkm/pSt4SKSOpdni\n",
       "mbkpi3FNlnZ3VebZR6Wmkwro+0fm+4hPB3i2EElUZeDskzteYCLHl2UdC5YW8Gfv1/jOqmBU3GoO\n",
       "BZxLicPb2PvXMzgra42U085tRNiurKwOEAOGlOuYl/WesXTNaD9maMyio7eQprSAcj/QoVCM4HwO\n",
       "7ygINVdeSKhII5/Fp83L7BWTN0K6Bc4e80KOgG/ocDukGNyHrlbgO/t/9jWdjtPW2m+cGMjvv/j2\n",
       "kpDrlJOCE7kbQNcMUXa/6lBE/uJujDDWrYUam0UA9lp0TzTpcuFDXfkYB9yBBPk0W9e05I3PqI7d\n",
       "zjRVxarTIvb2nequ68EmIRavRftanTYb98tS6Ea7D+ZeWhI29oGxpLBJJqL9b1C8klMo2To+9vIM\n",
       "OZN/YTeNnp9j2YPEStdv9UGi0x+bpLw8FFzsTE8bmG5VZUxqZ6NH8ySAYLUx0SVCnZIdsbudwnEt\n",
       "0kpeDjJ2j+SG2eSdqj+tIYtyyJjO01ESRHME0s3I0yhbhUhyUpLqGPzgJzcowMcHEHSdRT4aMTuY\n",
       "IVCRQ6nkgiA0dDK3R8ghrmCvLxMK+O/7hqXk0bUMY92+hqWlKZ92M2rAUJTDMO55qONtFpqoEXTn\n",
       "LCnoaSBQ43yCFIOGLGqP3a5KbAWdoBuRgB/Ha5fp3+oFHvePnYmlmGmfRbiBlkBprTBac1U0D4ps\n",
       "oBikjALR4zet5bGDns88ZuJxiKQC1TM3i+GZEro+yi+H9mKz/piDaaszx49s5ANI6/XPbjGFiPEf\n",
       "91P8fKwaYj8Evc+UNqKdhaEQKmWCg0BSbVdxyNFcPqXTNSlWiftZOFQAQNak+nKFAJ4ziE4sCcaC\n",
       "ZztjaN8L1Eq4llsV89TpP7pMM3SlLC51mvoJLM/8ieilHmSZHV/w4RyRYqzSZo4a+QIcDAANTQdh\n",
       "Ag2vpdruoWCHbaUUKr9hGS8w4O7L9Y1+PCo0u+9DrPyfbGSRnM1CnbhnonMjTIYo0Q/CzeW6Op6f\n",
       "Y1TkesjlYApbZKyOzevrodOi9yjK8GislovI9CzMi0DRLCw1SQMaj21kshwXKHcLSgDmzZyDALo+\n",
       "zRiL7VllmNFoorFItJ0m5nZ48xnVyJR/7NDKT6/F1OlV97ncIw/KtLM4D3LLjc5HM3Orwe7yzbNe\n",
       "mki6xj3hoAzg4DrWY+tV8fJiTqGgGWuCOC/lkR45Xg7x+BxcOSqJ7HkEsqUHvEZaQLVd/6/XikZ5\n",
       "0NbYAQTCHo5fAr4X3BWcR7svHlCFrwZAC/7pX+djwaxAXZRFiAkU+0JAs0y0BeQME/WtPwQC09sd\n",
       "0EU35FCcy8JLEDIIgq7CaEWxDLCsVomqFk1Yl2cZ+JxhMMEHiUZQDrnoCKayYTb6MWuWm5f4SPIy\n",
       "fHPMJEiFY37z13E3iI4LBHToCZHI11NewVQIp4qIsoAuKfWpwUhYanOQqsGmFfcRWa2RpY4sRaOd\n",
       "B/fH71/E6ERA++D8FAcXgSJWl+Az6xke7/EnA2r4vumJTlUULaS6I3V6AowcGwk1MUJ7npp9aMhY\n",
       "RjQErQpYGuRbQKc1WOoWsawZ5XVFRYAQiShX2ZZJoBBNEVZ0fUIhjDJHbKnqDgrBAAADdkGaIWxC\n",
       "v/44QB1qf4AQRpv0wUTyj7XfyST4Gy3pjYxjTJ5vb1hKVuGXQrdZP2A/uE7Lt3Z4AuLkJ+pLCaID\n",
       "i5GXqu9oYMrTwAkI+n+NTrqfVPHgSNc/Vn6NrUqgyeox8dqhM6Qqbxo9v19s1oCDvds2tDYhBMKc\n",
       "5txnKNKSwRpXkzGQOhbn17EwuFdxdRP5lEr3RE9yuRr/ZdIENBH0nSPm2nDzmLxk3TDOyzKbo1fw\n",
       "LS/vpYWCU+CNAC18qwnGCMfjwuxSEK0xJUFZFYCUg12pa79D50T/TdtKB8oQS1EPOO0BxGMRgEpR\n",
       "sJzEa4ZneYSRDK5wr+3OhLLzd4j9Hbv00nN1gmJI+D/CBXGnR11cqGR0MK2DvfxakqwftY6cSePP\n",
       "qfEwco8iXKILDCha9Xx3wKdiBYp/00yuL5SOfa8viTwz3k1LIyRFx2r72RX20UcTY/hQIwkCoQHN\n",
       "iJBTDUqQaIPPodbYc2ot2bGMNwEPin+eKOkTFQZuMF5d28cl4CGNaaI0im3EZ1OKPccLO9GgBjiN\n",
       "dA7xWRjlVMluUwDAEkIzJkQOeqAIIetgfOEflxE0Q5w2X1YhhPEkLW0FV11tbUtXr42dCw5Lrgfo\n",
       "XQ5VSvCnP4cccvA9+rHA/jTQPdMOi2tChHCvpKR9LoJK3N3mLXbs3puYBxbW8QVZNUvfKeEdl0my\n",
       "fabeBggYIPSCWkBpn68P5ZZns2NkQrLeZ7Y4MSyViuUDnYFzh8eNJLlOWyykUBHwKqZydTRBWx2W\n",
       "we+uFM/1kzpJSuWZIBN8T2k/sqPeXR4ZRTtNJNVDb2AVtqlJmnhwlTqJDFXWmEI2tcy8pDautWzb\n",
       "AH9/Wr7N6785lXvBKpgYHs3h+HsQxzmONQGoP7BMJbccTTlW/v7iF9VwLdd0r915B3anxdjr2q9k\n",
       "eFT5gxMrpFpU7Hxf8j8HiYWkjgGOU/TnB1cJ9d49SJSwtdiRLeP71DKu3zpSzqJIkO0z25GChVTX\n",
       "k4BALPEHRu9ijYvc2M6UylEmpi5Um3Zfm5ntgqmCS4wLoVrhbElKHUjfGv89tbqMVEjlSuvn95Xy\n",
       "ONjD+o6/UU8JaSOr1DfmSpq8ar5z0Hqnmv23VgKuCZHTU9puC0gwFSe2+HniFSvVxKjXrvwJAOu7\n",
       "6peNWLhbqNE3WeM//ICnXXOrIp9a9BzYy4AAAAJxQZpCPCGTKYQr//44QZ2pFeVV9CXvACRXmpaV\n",
       "1mWyh4Pc+N8vrMvpdbPvaplmH8C8bCiyrgUAJonhhKJcmk33BB5sL5r1mQiirknzvQyVeKPsGTfI\n",
       "BNpi8k5dVVcV1fEV79/JWPczzlC9tPZhFoglB9ny/nWQHqISDO2CX+DkKaYOegzyXmG6yVO2d+Rn\n",
       "XOHUheqj+P7HEMyQHScD/ZrWJOe04SlFrQkqFiKesqIZTh6heaQ6PrH8+RXUl5OV2eWPlrlcBkgL\n",
       "4T2gfM3bucHzZhJr26CsY7ARvSAuBNGN/t8pTzrzVIQlsge5LXh25S1gPdFcuMvX4iL5nJdwaW9L\n",
       "n3U9devwFwNGpYVad4mJzvWhHo0RAehl0oNdUhWSs9n/plIM4s6Iy9ZJkTYz+9Kd7EoXp0Om+8Ps\n",
       "s1X+2VwNnF8eHQwT5J8l067DdMJY4O2ENXQRHaQH27cp6HIgrk+xUEgkumzmc4Q05wQWoKwykrta\n",
       "ou3fTGpiGpt5oBZsFTlQCJpmj2nuqtJuLAjo1cnnCggJ+0KDXbVYBcqPmVxKvR4T+hjiw3VrI4sZ\n",
       "E9R/N3w32CcoUaQ2p3SmwTaRwIvDHnJ4N7w0xfbtQxrPP+2GUlrkTw8jfBrzYBOyqxBJvzB1o4qz\n",
       "7lMmuXmDjCm9bzRadkHOvzVKcPzAeTEMq2vGDgLO0cpWaV2gEeRbBLMxB2l02T0nAFwziqn4LTVq\n",
       "pup9xq31Jtk0gCtSpuJqWesrbcenVQMZ72jZNdd2ShImPLjA8RBHvGFzIj7dqb4K3Zl7By/lH0dW\n",
       "JGanyNSBXtnViMhxk1KDPKZZZWV52agvqYfzYwAAAg9BmmNJ4Q8mUwIX//6MsADLe94LV+gZcsAF\n",
       "9chznB+OLPvN35FfCpQZ0h0xW5+0dv29HfmBVheUigAdpCabQOgS5l54K2Zh01XRTLBWqZHn++fw\n",
       "eS6CDki2sPqjft7ugfpQWjRIAumjPpJJpOnD5xWlOm7U/qGpeaJpQ9F2mKTq+rUHysyDiEm0xrJ5\n",
       "46K0NJDxCrpKmTnn2H2X/39uUSNLolycSKrPVHaqqry2b+iRWI9Qp9G+FXsyIUiIH39vGW7rwQpy\n",
       "7J/9adXKfDKnrZxElCkv5oSvOomLfubHcg6b1iVUe7CDtK9H0Ks5C0rkAO5H7Ah0NOj1IED2QcvM\n",
       "3Ehw1BcoKRkXv2ZgOiVugW1y3ovdkMn1L3MNSzB+Doe5FBXjvXS3XvzgdO0LPwwTpsNjzrwZVSkJ\n",
       "3M8YZseEPTqq1H8b8EJ6BqNzq7Hg9JzSNuZoD7Xf6lQWrP4VvhEBqcAfrTcGZ+XjgDrAHiDvrKW+\n",
       "StQXD/+9mziE7p+FZUpmutuu/8lVoqYPCSH56zZ/VtUNCmC8Fq3uJeUsuT6Yr6FWOh8WxDLOXYyE\n",
       "p29VcQLRxUDbplslPYayuzW2qRasszfzKwlvFQYcYKEp2H76Z+nXwQeTNObpr+TMNktSg90OnMr5\n",
       "g0R1v5fDXsS2IoU7bx/OexbjtLT5tTOkK+DETQ7y7GH6tP+JVjqVSAkQm31iwAAAAkNBmodJ4Q8m\n",
       "UwIV//44QAD++pDmaoMIQikFYAL64c0bR3oR4GN9SFjHeQFDRbbwjNZ3uLV7Wz8izccqbOSZK7kU\n",
       "4sNq5c/viITkxVfzeSNUum8zZeNEQ0Qnvrhf9AYq6zksZvpiXHBzS8cLZPryF5KK8vR+lMX62+Ac\n",
       "ov5J7vvPeCTLOeBE+f4fHYACfVbQoYoSC8c28SBU2TFMZ4LrSUjuf2c1WjlSWi8ZH2QF4815eGqn\n",
       "5BJ/t/RWsoEQLp6LWqLCAX24XkVjFtOkUgPPKVJDhmF8DR3Y8d0Pj2sqz+TLg78i5oaV26SC40At\n",
       "6tgDmbcdzBaiC0RlX3ys5AOTsT2p2f4THBwxyVUq2ej4j7IPI2CCesc+4YSOqgaZ/4ytDABjVcWm\n",
       "LjHunWn7i5pnvr1wprf1wErBa5eS+9PJRnyTJT88GUG5f5JeqP68L/p1mPH1C5B7iWdH/jaexVr5\n",
       "VQXB2F95jc5UO+zMwTJfZjSnRO0cbsEwLQMFa0VMF26LFnIrcFUSHGHklOFQ5aAoPK7dI/RoXelF\n",
       "K1fWOGT/HJwv2idA7OI+fO2FayYIZU60PC7C1uiNHK7h4B8pnipPLXwbPxN8HWLnBenfxMwOSfIP\n",
       "1LoYDK704N7BGKOqCIwHyknRklPjIUo+D51DNczug/Ng4gjbdZmWtz627/LzP66jiy/Rp9Ju4RkF\n",
       "A+WQj2u6plXUV4l9Kh1V302ZORSnMbdtGuZTj/XtpKhozGzWuLoldGmHcnIM1GXdTcSagIqzSBhe\n",
       "UcEAAAGpQZ6lRRE8I/8FEsDo9cqINrzUzcGhZKkd0hqVQVZ8QxVMdX/z+QM1iib3nRwKzivdxdTV\n",
       "HlRbDOsm2sAH7M9e7//LV7qcP9MGFA5PtnNVoL+iMez+x7fKZJ6lJ2YYcxRpkclmP5x9jIBk5rlC\n",
       "CoQHDQtPUwpAD7O3mfVXhepUy4EF0Szw9VCxruDl3/nBiuTpwq5xp0VofHuTYywr7AtdpgMui4gF\n",
       "cZnhy8dyhRAq43h5tUfUcPTeUGg2BKzpmFFTPzPStpeJ7kUFV2lfx0yeZ8FLaCQtBmTyZlVIfMTF\n",
       "u0SdmnMtykINNuhJRZbXvPeCDJodrTM6enK2lmfSoSyRwavL0QkRt1blmeTiEgnEq+TP1Vl8G3qD\n",
       "4g7dHt5urI5gPXK91KvH7zs0PmCi69FBTVikVLw9GQ5bea14Ir+sAcICGg0O9/wWWilXf5Cg3vF+\n",
       "r8lR5YEmUiIMdr5Ta+HaDKuXetbbFsdps5YITYV9dxVf+W4W0cxt+UWw3yncKG1dz9iIwOmPY2RM\n",
       "w0gxP1Pd5g7u3us/1Ie1cEM3dzmRnC/dbcnnDul4WOkAAAEkAZ7EdEf/ACO41a2CVVMvhM4UzyEx\n",
       "qgAunbb1WYpAjS9toeCR63wEKE8Cp4f0KPyf+2VNTs+LviQwWhtj2AH39dhf9rAAzAU5dbk7lIiI\n",
       "m1+r18zKEJ6SEnxAga2fFeWZcKe6PiDVhBt0O/e2BhI4AZI4r23pRW8DkfoSMLj/LNjQKbNvgwoq\n",
       "43hde2HLlMM/iIlVzPAvsxCXBjvGlftbaTIAjWBUjz2NrD1Y5TKoOZr+82e04XGuW02QX68a/ssn\n",
       "lQ1qHKc/MAxFnTdd0MZX0Q4FnYzVfe1OXmK8HR7Q/ex8BhEnimaODNJDyOp1zspf27MPW31ujms2\n",
       "uFlunDnOeNkNBHS6i5VCNH0o8lP7k9rsI2eCJ5AslPnLY3Et2HKoQv1vVQAAAOwBnsZqR/8AILJ/\n",
       "I7kmWIpAB0i9KGZMnbQNPJo8ziaFULd+EPQM6XMo6eTu79jbDcrQNIS6sdw4bUSCAqPIfkBc8KXI\n",
       "fsJZakxD0ldxVVhHgcrIfWXi673mufNV3F3k7CxVG5SDIdN5CQn9IhXUHU5IcVUS4WBHZtaWl8nD\n",
       "gYpEHEGsLOmMY/R0vm5h8NjD3mZ1uxrETRxG1yvRKfjWijTXG22C79aX4EtElTAklOBwc0NcFK95\n",
       "Bx+NKinwPcsBzEyKV8CotJhABeJJUEyx9fyPtGueALwhDRNii56Y/3tHr+NAty0RaowcfX+94QAA\n",
       "Aa5BmslJqEFomUwU8K/+OEFZwQ4nU1+Vfc3NeBktZ1GOYCrz3GPMDzKYB9KM0cIloGx5NSF6xVMU\n",
       "7hDnPJq6MNmwnCdhwNbdBxTS7pVEq8J7KUF8evu6bAW5NTHxL5KBOV9meOMHY+CCA4MzQ6Ph7QQG\n",
       "PYKHeEIxOrP1YTvuvvy77kHzcfmj6d0IQ4kag09ysy1NrjBu+uUKf6HztM7eCL60u7ZPTtldtgCD\n",
       "//1WfFuRI8ScX/8Uj5HV2cPzZbSRb8m2EqwIII6Yf7rhyvZEDBftE+kTpNOyAoQEB929owgi+yCE\n",
       "JLAN0f28+bUe4kKXS4mRaZTSG8hw/SRYA0sMsAwQRoRDzpIz6BxaRN7Q1GSAqbyWDHUJnRrK3l1Y\n",
       "tOfcVOXF9hU4HNP07r4x3YGU1F6KH2bPfwP9R4gC/Bp/TWf/YnbiI3dVwniW8z4+sbNIeOKUZUnP\n",
       "fMws/SoAmjAiwK6tjfLbShiaH5gez928WiqW58LFMpLWpXMTzAQEUYdf1A+jVcP8Ny1vFHlrO/25\n",
       "c04R3Q921E1dYZbg2J12SFX9ADC59fDK0pllm8fgf08wAAAAmQGe6GpH/wb1AUC0u9l6gn8AAAMA\n",
       "PZKplitFzzFWeENobU306gBLCoWbe21FyjC//CtM0wuNl8/LI8VotuqvkY1j6R3Y9+sIlRGfj1oa\n",
       "wSdI+f+cjS86Q/kTBP9WULsaefucL5f0fiNZTL9/Ci9ISp9fEvfcIyssoteOj6c1d7Z0HuLPLUgG\n",
       "ZMCvg21kILQgxvMMJ3zvXEy/FwAAAX5BmupJ4QpSZTAhX/44QPjUiWtTz6MSUrrv6YddskQAnWev\n",
       "EPN6AOyy8jalg83/NaqcufwIx4LcF84L7faToEd2XL2qwcgIWJ2U2GpCQuRtiQ6J067PnGIEiT1+\n",
       "QyHM+wEiLiDMWXfzvZS6BMal9BJqjjd54mxjzxhU7gRUVnpPJ7m3JOUZhEW44ojnClQsBL/fF3sT\n",
       "kDpH58GsFHRItQikhgfoBJxR7iLOwyYN3iM9xQZsWZhPBkfFeRaXA4gXbgt3vXQBIcH5PofpuGpI\n",
       "jOtoXojAXKxEowp7cVx4vAJcUor6s9/S5NM6MNrLJEW7i1H2RWmWPybZCgPJZw5pzeeTLXYTHR77\n",
       "9SrG2/H3FIGuSwKTqhLUl8oPIct8XC8G83tPEoo1xTAQ1C9V0lwwl/Xun6y0YgvhNt9KvtXLEjR0\n",
       "JD1LsN9ySEbu9RCShzEwaqX0QsPwSi76afDfN0KR4wjrGspabtRced+HvmcCRknci2MHGqd1gMka\n",
       "6J2xCtzxAAABhEGbC0nhDomUwIX//oywAGpQRx4oc0AAqM2ZAov0R5ug/C9eCOaCxTpr0xO4Lyd9\n",
       "BJPQ/SPfnVh5MYyyGLtD01w7K9rO0H5iajah3LdexAIzuxWM3bXt2vuXYi2yAwdTNEHgNBtS0ZXk\n",
       "TCDHhc3W11CetQYEplzcPD7AALQ7qjRrHLLFNZ8Ua40a1wv3JoHnnX+ic0e+hBT09OmNeDWb+MR+\n",
       "UfGEBr51E6Kar78P7NVyIw3UhvfuHchUJcdPi+TN4B8tbNbd+PqjmB3DTA5+Ytf5C7XKGB0ETili\n",
       "JYvHI70IYRGxT+djJ2sUwmlxgd0Nz75C1ckLvmtlCbA4INdWiasNIOTv/JMZiOP93m3jzIpTv3h7\n",
       "prIeW/q9Cj2SQQ/bWk2pAPRzEm0VV/pT8ms0uNcrzEt0n6BtdDqJo4nsXBejq6bO8HmfnxXzxUtN\n",
       "Snwmdo6b5LlfdPfhCeFD/nWCj/EhMVe/WJh6rteJT60Su4nBz+WLTPY/jGdCTubJMZ416KFsgqAA\n",
       "AALgQZsuSeEPJlMCFf/+OEADO6q4JuPbgATt5nv5JFfugdiLaX+dUQ//GO9/cE7kM8OHOAxlub6K\n",
       "XpHqz+ANKOmwIallC6f/Lrrwa40DkOPT6tnJ+F6R5H8eFfgmGOUYbyDkZK+S6+SK2kpQqeVOLyeX\n",
       "lOn+8NF3tcYaD5hO1wm0nHNN3y20hWwS7YFmddHS4MOG3dl5JI78oeDkfF+XN7WzHQNnGm27j2Gx\n",
       "0jzDovh+koRSRhNkrpEQg861GA9gLvdaM9horg3mLNgn6uryLg2q4p2D2yYLAoaFqOu9coAtvFEh\n",
       "b9/avdrwzG+CFKkm6mx0ymVvuKJeKI5uvuYzYibZLfhcZQpc1dbBhGmFpAEkcz7JNFdDMPPCcim5\n",
       "LO0uFyXp2EaL6R4NpJV4atw9YY5KhWyll0hI3RxWHzIW2/7X8PGaC+xBMKbli10DQbWPhG4Ky/lG\n",
       "Cvp8ZF6kq3YwM2DFsggoYssiZqi64TCked63+7rvaiA8iNZLzRLVsT9pgINOeBiHpRwArspwBOT2\n",
       "QdWiGt0ID2n7Yyr/pQycuWGI8PZePUJVHPr73rER6sG5zfh65AyTf4EsVBstBmZo0YFMqACtdtM8\n",
       "09+3+btyk+axY4WC7z5ZtgHZDEqd+6IM41pFXJI+Z72rbwwiA0MsYHLnjx2z5oRKBpXhuQK37EtB\n",
       "BNpP28zZQtOy5WRF3dnJOxZeTwuuqFFo9SZK7DBe6VeWj3S8QTFHae8mgEPbPZI1OQpLfWccYnT9\n",
       "FRVuS3E09FLM1bCrUnVUp/cDwYVjkree0+M2J/erOLxuqfZ9Vs7bZAT+30jYpRUeOz3H9/9DKYIi\n",
       "B2MEKEFeqM/a2yKDB+D8UcgnaPlGomMPlCncWq455KaA6/e7tgnC3AvH6Q+r6L4AEVbkyqAOcP83\n",
       "fFVmfEINchJ1xPvkXhOA12bpRE4Tb/qK+AHH/rPcN1DLipbK2dQ/l5H4V4LQUfDaRPxUdTt1RwAA\n",
       "ARNBn0xFETwj/wQxSFERP99aZzCB4NCzPDqlVzXnQR9zz7tqGvb0hTYXfEAJR3vaFWo+4SOe6qIS\n",
       "JGB6+OYQ2apDqNx+Yt/NKBccpZBRKOoI+ZIhL/B+MIH2tcw15UidLFbKlGn6APQuloB/f5+9RugY\n",
       "NoVHEScqllya9WeDsioJvZd3GuQegUitmp/4QQTm+jrdV6aJdWSHlI+9+zX384bGChz2dgBzZwIy\n",
       "ottjJMawgVmbG9kXm949nyc0P+T/X9A6LMPzwp1zflmM6r/ZXlIqehJ79wFBXe3emmSXYSkEpTB8\n",
       "ssHc/UVP58u/jljxQ1gR5FAsPmorREpl0cFcehUwhitgn2GIxvGoE4xLtd+mathPtQAAANMBn21q\n",
       "R/8Aa82GkMNeRTJrlxs1TcIk4lipfn4xSBkNNSsukqJ91uuRr4Q/pNI7LHToN7w9Gnmzw+AEyQbH\n",
       "gnW61y0SmMb6DaFSaQI3y/Gs3a6BZb5uoduW5Aqs0tq6UNSWmF5tOqQhEAwAdfMhGNrhT28qN8mk\n",
       "NfkTC3t4UxrexWs+Og7xb1Yj0NlWcVyHy5gjp4J7EahkhcWdbDoY6ZZHsRz2RipBMakba/rwrbco\n",
       "s9fiTuyCV0XO+YET+8Yvd2GHCrkx0DHQfgiNdslu3khN9guBAAAB20Gbb0moQWiZTAhX//44QLtm\n",
       "alOqgm1pihXSsAJwRB0gWUYQx5og+Q+RdGQAcFhh3tEZPHo0K9YolgvWFpaOldL2/KNFymocO6UW\n",
       "zTV9wjEvDQHdIzYCLZf0cw376IAAjJipasH4Fvm1AAYkfWmLrJmU6G7p91JF5z2dRK+OlIn8laK1\n",
       "/h/yFY+P8B1lWH5ert1zRWW3yT5i8AVoMnv9X9fRKs4sekwIz9ndN0vaIISschz/Un6LTthOItqW\n",
       "uwcVgKUIXexo27tQf8zTkEu+b+csazd6fPo9HSz9gKhs9rdH12c2CEa2sL80KUP1jQy8/NBhjf1O\n",
       "qGAjLVw400i0Xx/EDllmnILcxRnMMcpFkSIEI00oCWfJSY1Ne2GkO3S3b/Db0KCN1PY5okK5m2xU\n",
       "rozcnSecC1zFKMIwnnGiPpMzg/8BZJnyz8wPOGE+qjk6tUnziAupRNEWk9+/QhU/0YORwsgwkzT6\n",
       "5YpUBo72n03FB1urus7PKLhEHY3VrsQDCmvr0lZ3GjBgefI9BZozM6nh7P4pEVsZHrKsQMHrWlJl\n",
       "pnoBss/nJFYwLDeLAYNbJQcjAAck0IQlkq6keJx6FrVmLGFFbroHD9Hh6JCUEfB3ntI7uTlB9QJ7\n",
       "EpkAAAIRQZuQSeEKUmUwIX/+jLAA1AoaXBDMvjwNchhEiYpr447KMKGdKeIU0YBAAQ/ROTRI57C6\n",
       "cQcQclx8v1KAc82CEJ23Rik3297O0+xqDGlnM8JcBw6AccYI4Fg8q/dYx/ZvSbwMkI2snBlwe7m5\n",
       "LARrJtC6zBgUnkXp26y351MNayS4QdjPrNn6dd+J2rmvhBHDNMgp18njqWYPz/NE336kbCFUvQrG\n",
       "p2CedpboMfNupytsj9448B1wW7ID0vqq4xZTWMeXP0IueVq+c9Bp4zu25c2Sa0HPkXYEYXKGqK1z\n",
       "lKn54FH/+2coC5senl37Wit2QiZv9ti7g7KhN5y5tF385FeXG5a3IUxIJ5Ro6WIT0y8pQTpG8Zk1\n",
       "BNd8U05HxtS5rpYJi21WP+9kjfxVpNDrecgRSq48O3rP8O2jpcAuotctXy6+nEfqelPxdw4K9KTR\n",
       "65BXcjQ7/GJz5KcxHgs8/sckpE/Z8Yphx7eWT4BLvUORnUx13LGXr3l43qpMkFrtFt9CprapcOGD\n",
       "V1Fy69NQenW444CNvWDTY2/jjYVHqbzRHh8TFy8Ml/evLWvfTc8rpJQbgHj/uRHpJfLMm625++hH\n",
       "x7V2pVlOSuxhMmKFYClx+YfcwdFSL6EtEVuhpw4fGORfbRlVi3p358IUU470CZyIPc9jJgI13WxD\n",
       "zwSkiRxVB575hXvbymIs/Xp/YpPhcwAAAq5Bm7JJ4Q6JlMFNEwv//oywAahz7Huw5x+REyQPEmsg\n",
       "U7OMVXAZ50g0fv6RJ2dWXwCYIaXxEkdGbnTuY0pO752AsPl309PXPXeJmrTIm2snBXn/nRLg4UCS\n",
       "LOR6JqxCpedad32Gf5slUygMCbig8Ks2OoiPYkedra0DShI+/cvhlIFKR/ui+KzQKNr/TfIdK8KW\n",
       "ykCII1dUjZsTY07Rz21a89naWWAoz+6pfIm2Q1xu6pJ9zxRB8nbIouGoYllIuQ1m4xJtb5kaD67A\n",
       "T+O8A0PrSnwpj4tBdrwSa72BvgFCyvkhF9xrh4HDFwKHzXKZ+LNSXgJKGxAVLmwneQZfEHwNX7cD\n",
       "dwqgfjbFnN0+EKwMdpYCHB2Q5PihbKjHWdS4wVHLEO+nt58crqOnPwDtgBMz5Z5Kes7oHQsOABD0\n",
       "PgXcZIHkBH1NvTA1IvXwCrcsFxc5E9vaZRFu2cahPVyEMRKjqbKiwsksdjQoCw/arbbeKP8CTZ+j\n",
       "aWurQTAg1/RSxdk+N7vZmtlxqDR5UUgG0G/XCREsOWfUY7x3QLzYbEhMeLgA5rkhbjj2yuh4Vn6z\n",
       "AeHH+ejlKWyCxbPttAPu7L+FO4pBetkNkRk+k93Jt/uiheF6FEB0TQAyIwEXm/62NKis5JG3RXpG\n",
       "4SHUsrVnIy0wBpctlsfz2r/Z7ryKRvQ1Ox/lO8UPSnn2ltVzXifUFFY5pVBarv4Gka0CkIVdfzhs\n",
       "Ug9Y3gBEDtZuXZ1WHVKbpGrMzdH9I5Wjr/yNcb7ZpXBPLnDbf+IlRQBJJwkaytA0uNyngTLwamT1\n",
       "cfPVCgN+a/1mjjNi5A70iu7Zsb9IDtdm5rciOIamB0qnwGJf54dSaExhtIzBlDpidIUYYYuYA4br\n",
       "YPzmLN0VBBWrrfSdVmumL7aMtxFkwg7vHnQecAAAALsBn9FqR/8F+hPdGP8z9mmFaA8ulqVdiChw\n",
       "WWowUPHyLbezYAlWPHMnvyi2JUuuBQAfuaAsOvs0kTUxuLiGzKxY30GXZaxKfxygG3ufY+GEHO21\n",
       "gRzs+RXdtt8zmGm+bFioyXculP7y6t0dlEIeGryWZ4KkTFqH0XWW7qUG6yVa576mEwBlNjzvNH7n\n",
       "VhFmLPQDL3RoCAAjZhtet9HQD8y29mdkZocRqvQF9jwZb6xtBd3HuxWV1K0tcAZ7AAAEOkGb1knh\n",
       "DyZTAhf//oywAarWj5vo8g7ADbWrtywgfaJlaZxsY/s/6IrngB7mo1LZiJv9jYtnC0cJbFhE0WUU\n",
       "mYHvJuw+ip8YTcCMbxd0kV6R26LpnXrJw5MZBpgu7rUBfb/A60DXV56p4XIbV5qjlIrZ4LgKQiwX\n",
       "XPVs8AhpCJuAZThJq7hZ4+VDnCME0XCMFrrr5EUoz/4/EaQsnEDW3ICvxA1xQ0XgUh0wSbNofubZ\n",
       "ovN/sbqJxmXYv3igVQPF6D+iLwU5ItIlXmE/4I3Vr15DEhNqXfMC95WbUF0CtFeSMVnFXHNtCdwI\n",
       "CiY2rmU1/mujRIf1xbf93CEImS4srDsCwMJc+L/Vk+XrcQy82GNN74/UBrci7t5Kwxv/3PN4Gscg\n",
       "kaNgR4YnH3OBtk9iX4WF18CGGhO9XVOArZRt+zvtONtqdOIXiHIWy0TkDjYlySxhO0mG9No5y+ov\n",
       "uyMbxvEaRyKizJoJS6pKu0uzLJX2y/esoR/8GBH7ESOKicT6k1fW7MNtbpCaykQ4r7hL/gpbGjCS\n",
       "S0/hXOv7/Kylpq/vyisBQVpPVt+bphsgbO9Xt3NJ9j/MLB/Q0wL32tJr1N4qN0XrJhJMBwGGaAYB\n",
       "jNZmAWa+gg71OGtdyFnqjyRGaH08o6TrkUHKW3KYD8yb6s7SLKkVJbTs2Ni4NIsiCpTj25k3laqW\n",
       "Qd43b+DSrtl70bpXfhwrHYWtxc6ye7pEsm4LYUJsyIswy/BV0Yr1tirpZj1yLtx4VFMTLwDT6DvY\n",
       "pFqDd0x8fZ18q0tWqcjvsvS9llyKVjBeyR5/llfhXPMleupzhT+VEzfjf0ObKbKy13JP0lHJ60Cf\n",
       "94BCK+NC7D3s4ebUl5xkFB1BsHzicECUznZISMP/nA4UQGLF2T55oSd591y4T1DQZNrVCUGoNHT/\n",
       "DJHBscZ8BgVSYZLlY3qVpq1AWwzf9Rx0M3ytCRAeyxCHu/aEAdBo5zovPq9SAebbvFdeFKEI4xT8\n",
       "WoAVZ5uTiU6dC6uvMfP9/BUIswiBZ3+2RPZUwEt29D8mUCLpdvXK8ZDyqt1m4qQ85mUlF3ZZ9mOj\n",
       "Gywz1IHDA3ik/Jn49dwbrmgtczkEF9JKgkF2Ptviml2hz3zxd+5UFAi9ZVuypDLVSabF76iGxB6g\n",
       "CfzgjokQWawexcBN+dsdPSXMDe4zw+wMksZ1ceo4rpx2B+LGblJRmICNxqUCLWRc3AzCWuz5ta5L\n",
       "0C1SE34o5b3DOSrRinhlkNahXEuN7LCg9KA5cH3hcU/8WSmkUq/ngFQVqCgaW9XhZIKWm8WS9pYc\n",
       "Ix4ADiB1A5LFl+n3bYzpYkI0gbgW4WZoso8ZW0UhFKPsOE9sWLl/VEmjdJYB7VU9y5cGvFF6ydSp\n",
       "Eqi6z0a8wWohXHyrgRAE934YbM8d7NqdTSdCNW0iPPLKDRCxveY9LZa6lTmQBfZwmHogAAABLEGf\n",
       "9EURPCP/A9dgdHrlRBteambg0cDKlajRiIyWsXCFFjjyuGGPI1CgoJquT2vP/D5rY7i0J9rFABM5\n",
       "Tsb1BSz7hMXe7/sAsRwB8fvpNuP7O4JfRf94qUSd66r62AQbgYnmDqyzGdy+Nz5YQcfTWTLPeIlP\n",
       "wBofkgHllFCuxv0wkF7FuUVBnuPPBgg9DCNziu0wlXma7w/J1KFw7XkKVfq2t5r3va65d6FiQWQb\n",
       "8XhzjCXAfti3iHqNF6EP4+frFSv3ju7911lY5L7mzDTQBN0g5tXiHfLKoLdY7bww7+iRWkl6+thI\n",
       "U4VA9CEp9Esm/hibsruEN/QxgL50rBKkpfEDt89GLo/9LRhqZNC6l7aQ0rgtndZVQbz/+OYT1asm\n",
       "p+/QqJQwKhHpJZ7vaAAAALkBnhN0R/8A13UlTwU8AdAOGJCbZlwn+CaAOSNzyQAE4wwR9UegS4UT\n",
       "tb7q3JNkWeIc2IGe2A18hmL0oa9cssL8u1t3dpr3Ilqw+YmOpCBFtipRLiqglUiM0Bs7adBl8g4H\n",
       "Y3OIJS+ByL6/X0yXKYGm+/H3u0CuhcBBDruS0jUJdL1D1WTeFjPxTGvXUvLjK4zQ02sCGibAAyIi\n",
       "AklKR8VDmdaPUhNkmZu91EVl/3WMGF8NDMbhhIQVgQAAAMEBnhVqR/8A1ZqsZcU0bq7gFHn9WSHo\n",
       "8uoTZdLuEAE1jlI2bOC0R0puGRebB/rLYnshCrPLmcRn7y1f5MBW8xjYdc3U2eDOOpb8SPuLnT1I\n",
       "Tb45MD9vQTX/vXOBaARKFJGsBczUmM2MllG5EvqIpKPuQv8KcAvIHZc1FquA1PztdcYP6Ymkm6jA\n",
       "EieQDmGmIWZc3ZVq8IgAeZKgKMySqci/JpVo+e5t3x7k6zMY+Bm45gwl9TWY8zzsocecZwttwS5+\n",
       "AAADD0GaGEmoQWiZTBTwz/6eECk6NTBrd8/x/iMn8ABdJXQ/xe4jyBDG4gb6GUqB7vK7Hsdwpxf9\n",
       "sNNwO40OtusDmRhH1r3lYzt30QD2xtpuMvsqps9VBwT7zXgawqn5g7VyNc9FK7RHunreNdBA1/wC\n",
       "Bo6W2PREAA8/AoEw5zK8jAztwx8dD9JlT6WhW8waapIH1FrZqCmfe5MaLW9Nwu5+je/rqgZYZWhr\n",
       "ZfzWXFAbiN7mkdE/+UhZJd6QW9LaX8+AWEFTdknIZ4fqPXYzGXRgcMmnb4JSFiKf6dTCxKrDCF4b\n",
       "xXr7zxxC8Qp2dq001lCmcFSpJihWb0aveKULDMOTSzGbvxm7IevgCEoSR2YhfvJL/U/dJCwHnhJP\n",
       "4n0kauIYpZglsUZt/pnAFfD5gqfQ9ooKZrKdWuAl9TAJCjewTVWFkw09U/EGlMRBrL/rpsPeUinh\n",
       "usUB6Sve4VFJuYYpmmIjP0ymQ1O5o8oxLBEGvIlDhDdjBlgc1VP+NRXAaNaPdkncPixyzHy35dqR\n",
       "paT4BbpFN3CfB5Rdp2gAkuGhgzuyifzu4sLG9GWxds+CwUzBWZ7137bqv/xQDIps8RixgePAsGzT\n",
       "vEhDvfb5tOgjg9ccgSGMZRd+eJhLY8Q17Zj/KPjaf1PtDS21uFVZtHsYqA9vCOrUAIL5U/9ThBlv\n",
       "7HIQenzI1A6/F1wwGZD5tJ0Y5dKI494x4lX/kPLiWJaFsMAbx8KOWRrlr02Md6MrRDtm+iEDvV+V\n",
       "1m2Mg7U4HL3X7ihYHHXnjo+j5ry/oM7K21Mtp8mZHO+iVfIEQVXuA6MeckGV8aSHf7q3jBt/Jn5m\n",
       "NizJAaYWYxUP8Y73ryb1PWibHh4oWm7+UWwu7c6/dtETHZ61YFHe8XdKbRH/WvIAjdH5NHKe6vc9\n",
       "V3drWkw+uaAAruap89YbuTK7mTw17+/zoOVsXCu1MiiAg00EFlOArwYYiqJpiNSGPSQVv3HJAnTs\n",
       "fKxt3hMsM566h26O/A4tCeXATKIT/rGBaESkqgCeQ+RKNNnFyN40eGVsi/FK9QAAALQBnjdqR/8F\n",
       "m7t26pB1iIo2gmRqa1LTxg/BjBAeHjzfpolvKUB3+wRLnzigNFMAHlA8+TxbIUV4a4QgyqWAuZv9\n",
       "vtWJObC2BfMJnqR+SK1RDySMNguBv5lv39F8JJ7Mujwx6PiGdiOmoyJ0bEIEvepdaOQPLv35cmZO\n",
       "AXyqXoFvT3ofPn6/86fFbaULiKtgPkxGXZcXFgAE5zZlK1OMA2RhRm2CX1gqGy1dv5SFtYBIKcPI\n",
       "P4sAAAQ2QZo8SeEKUmUwIZ/+nhABpibqvQVm3gANG3wJM3kQrQtMG45NqalMAvsDaJcurYWf1+Ud\n",
       "z6v68xrNJqxJe5yOqBixgtqUflVGUAoiHVTiiE9ZRm8xiN7dw8+wgPiQfp+O3NVER65A9rQNwBoC\n",
       "tfi4/uYdpwxDCwWlxYMuuw4q5Kk9DyauOG0SycHKsue6Ypv9Wofb8bQr4cwc9jEICGmXDnZfGIAt\n",
       "W+o+yQnim+XSEzGCOXEDKvRwK6M6AaUOmI+9/oOCpz4RFBEIphAvepu9dEJtUEHCstznmskrtYo6\n",
       "iOL/wE1psB/fc5RbH+8jzKRoXRA/djloeFJ32EOzTYH6fh3UbDzyibdsAdPaq008gAWAMrquam9D\n",
       "r/ApI/zU018mMbKi0V1AiN8gZiOBpB03q7mLrfl9ESCZar3cZ2HDis++womXRVNFdlE2D4cUiK+X\n",
       "dhXEvjQ22LR0ZylpxdDdjSbgKKcn2Slt7cpOcepqDjTu2UP7pwKOZXaDZs4QwiEWvVuxdEIH10PG\n",
       "EMJNNum06I5zZvYVruxEBtVryVAS9/q/BSXOpcN1GC+4kcps2uizKoZ1FsgpfVfDBYg7vUALD6E1\n",
       "Eo4LnM6+wISjeet5xiCJ5VqFN6OKZue9PSogfR4YU3DC16r/4lTAfW6cgolp5B6BNlkLqSs+D3dS\n",
       "lHmkRtqDFR12rQpf/lLz4G5lfnnkgxVrxU/8Quz86sOrX2hRb24nFf9yV2cMrdzmCBmgEHn/+C3u\n",
       "qy8FQD/k9R/p+j/WsftxI6DDgpqC/b++dBd6dIM60xQFhjOrMZu/TyPNYeH7wHFWZp90DxA+ZBRI\n",
       "LRXVunQeUYGWnWxaOe80bLsYAcBKwpM/yVxM9D0++3E61IIgEoH1BjMiSwpUdovHOedBwUGxkVXm\n",
       "SORRSsaKEJohwJEaCBWc3p4lGYOVNedLwki9HpRjCVC0Lxdoxxs41Mjn/F7B0KaIFEheohxtpERB\n",
       "TQeQH2FfmMRlxFtrD0GxFB2V6KqYqxXyYEOhFq6y870q9glm1XnhwHfGK+TC4BiZsOlfwJdp3TLL\n",
       "0m6ZiGXBpedsImeA9H/2QU9Qn30wOoxYxuPcpzNQrXxoWdwXSrUCIWfUl45HWJruLVaOnedfOKnb\n",
       "MWbEoK8L0j81Fn8EtZq0oGQsyBi14uqV7oiIKiYgc5k7Ut5oFMS5dkVLl/9h38ol9fyOw/5F5kar\n",
       "Z+VIrswzYKif4h2w/0eMYyYB5yep//s8zp6WQNVkeetcm6tque7diXiTCozOBRkKRJVCzYvKbatw\n",
       "BYogvLOf3ozwkX+PdajMV+VsOjHBH21UiTI2aCwOUeBlevKp3pruuv/XEaz2OtTDgPOAPoIcNX1D\n",
       "7fl/xOh+i5SNYH0LkJROBWpazBwSQ63OREc9fzB5sfb/+HZ2VPG8fgSVQlPxTL8Ho03unsAUlWg1\n",
       "6gAAAUNBnlpFNEwj/wOVqOc+RJb8QEs1BqSU1qclVlj7TQd7iFIbJBQYCNtKRL1P6OAC3BmR4qIa\n",
       "5ss3mD6G8YdymoVypGEloD+Cbd2Jm3W8P3wgHA+cads70k9pi5oDO/hewnDH6DkmB3URFZLA6Foj\n",
       "xn0puuAtpzfvAa9ZCh67GR3gp2UtflKDfsxG4ggrKH9lcSEnELHc6kCn44c02AgfBj/ASfhC6i5w\n",
       "zzd1yV7LhQeSDvZaa+t/Papnthq5GGEO+mdQsP8LiY5slnP7sh7d/RdrRgIHjZNkCDenh8JH7NhE\n",
       "6s+XpDckVIjCkLNUTsta4lJkRcKxZfaMTaC9fQ9Zl4TKdwnllLR0NS1DnXMUHmlOvpACZvMdyWaL\n",
       "W6AudvVzIIzxi3RJEzj0EQVzDps2hSpbhxu9SuTmPgrea+XWpuEg6hsMSQAAAOQBnnl0R/8A1Vbx\n",
       "eXiTXqraKPBjNBL6YAFyS/XZUhJIBmUrBIJqTRj+prAULi9Cc+ciaoTOEy/ecTwUbwLqRxVFTQRm\n",
       "5N6u65lMwJqZUVmYrSlHxRVo+XcVhiCssvUZeCHlDXzw7a7L09ABujIBUbNldFYbYTkxUERG0yLf\n",
       "EKb6awfqMALNE7J3amN3QvTHoDnJ19bbS9+1ZNOwGlgJhJL1Z3Ln5y5x2U70GMXyPKPkyuewdCvd\n",
       "jAASxKxPdCsQu/vizzBRIRQv4YDxUkgsX3VeJgg2anD22d96mai7M9/7E4uy3YAAAAC8AZ57akf/\n",
       "ANe1IrmJv2SP/cCSPSCRKADwLTAA456Wt8uBCKuKNInPtTkuZ7aVoqiusY4vj6rShOQ2YjMKOCcg\n",
       "2J4YRzDcKTk3m6TNITKycwPATQlmnVuXQXjiLUO7glC+ux2HKRyEu96WM6l6mXD1jDOPU45FYN1k\n",
       "cIvrx0/sz0HHIhfkNf1Udm4a/3VcTBwjVAmmVlNbAPXITvUvu65W4aeltYbvY0ZBdTbtKfmFCAQu\n",
       "DNpytJUMFE+aXoEAAARgQZpgSahBaJlMCF///oywA1D06AAiDwpi3gSQ0CyTjTPOlkAZ7BZdSjwC\n",
       "JXXHQWV49s4wBuovdZbgBY0MAlJSprIiQvDXMrCsCLuBw90KvNPkCglHL+HWvjTNBaBcyrZAmXE2\n",
       "junSBVVgmcgtsQwpn9/+OW61YpcT0hWz3vQ+wku7sHatSuqEXp6GY3sLUMr9u3zIKxDbOcswxyQ6\n",
       "93Z5K8yKnxX/LTw8+pNnoIxIGet8sQ5oum6F8kFaYny8xyJ2DKopLlqpFjnF+f2pcltiWeAtgQa3\n",
       "eSApfip950bFUxx0a7mngnYvHYkOuTXVxe7RNoycx3yPj9ETPIn+n5c+YGa2lClksjrgKAp1vXRi\n",
       "ZUWBibtVwEJLRMhiv+NYXJ1O5L8ERNGKCJZ5D5iiqoYWbXx/bBdnYmB1cR1wujM6QNyCcqUhy2Ai\n",
       "29dwnfG71nqwPjzbOsafZGsSyx6zU5rlsaatx9cBn+WA1nMPrwmg56DlFErz06V62+lNRwszu4hW\n",
       "rGnqiGIAtHwKhk8CI1TxRVHiL4IKuqXj5Vt0Z9Q3ny7SMltpnBBsbOTNdnCAp4FoECTpvsPa9FL8\n",
       "Z3n1u+RRpqeBZffB5uzVaY+GLPaUm15Xd1eobdtpYmvPVH8JBI7GJdaFftUr1vpabff4reFhB4b4\n",
       "1gitHMK25Yg09Hvor84qGaLYWSSsRKnSGGuXFR6HWEJxZwusVkPvnirmROgrAddhZSQRsYCZ3466\n",
       "Rnr4uljl7IuI3WYd3YSHb2G0Q2UnJyEZtBSco6BFnq8pNrQ3Z8Ub+y70xDimSJGjHc2VRJNYg4Dz\n",
       "j/l2u8xa8IBeMq8yhOISQ3iDdqiQFtLQp2rKSKfsOqrtzJTPI8KyTmUB+lfOis65JNi+GBvmE4EG\n",
       "0MA2gyC3n9LzSBsMWYSlnHFb9mf7w6oXakFyY5fXpeAXvAIPwYYFoRvX1e1m+nR9aVsHRvFHNztQ\n",
       "LzKRTLDWp6wI8y4jUxeL0CsQLTen3fPPmvfANfF9QX18W4muLxorQG8xS3yYw+WA3hMmznWTBNAm\n",
       "X0kPChSsuz9x9TsCt7LZQ9nM2E0MVlIcutBVK3FUkke9U17Xjg53nutJMfu9B4hpL+110FHjC1wK\n",
       "uj55bn5DalymTB7NH8n6FYmAs1wDlsGx553dqZRILb3vX+V+RFzEbSRKJPh/QEJ7wVRLsHouXhdE\n",
       "RvZmX7CTuagrlVID+iUYeLWE4GuVB0ffUn24VcNXRQiStgeSPgdwbmlBd/MV8BnQNrKmOmyGkfbn\n",
       "6Mjd7TnWgREMNwPIm5l7afNgcOE9QkV9w0EZyMd/8x6FwhdGp7KzgCC6Gcg+AZOsHe3urdPNEvPo\n",
       "nvMIh6WQa9/b/jGhK/8ISVwL4D/fZFFt0Ag9UXvUuBWKq8sJOO4L8m9n7LzY/cGsDPr9LTKgT3UB\n",
       "cYJdRalCuh+4m0+1Jsb5bwvEgfNSLLrLLgbsjfkuRqg3xAdJGdHOK+OJSGN/1payRNzyYQAAAWxB\n",
       "np5FESwj/wOWJs8HI8308j5hbyU4noPxeoINwAs61X2s5cOHmMstblaAPkL7B90TJFCiuDXfEAdT\n",
       "wwgWmfQwRzkd8CXEfwjTwqazYf8o7LyFFozh3/Xu9omL8SMvTBmkSLIpOOLHADqujImVL+rbRmLd\n",
       "QvtcnD1rvRy7+N377no9X0nY+DicNSfMeNbz8T6EgL4zq9HOlxIrMN1RvOIraS41w6lUpN+hBiT+\n",
       "KOwm8Pt1ZDykdvwYxZ/poeW705icK5id92AeMdA/iXn8WXXYFUpwPScgz9i24FDm+AlcZSu6j51/\n",
       "9+MV6o1pmvo7rzvo/nxrjBMoolVLMa/Dse/vtzQ0WJeCvJFw8Y9wy/F5w1dejnzTcYa9SbK0+nF0\n",
       "cgbxaQG5BSacqvcnn8aMXDthsRzU7KD2KfpRahqaNcRVEPrkgTkHliVpZDpyCWZAbJC9CWzZ8QbG\n",
       "BlfSYOAovY+6O+dnbeeuVIH6KXDAAAAAnAGevXRH/wGq/0tSQ8zCGYq5iDtn2Pg7rKYAH51KqoS4\n",
       "A01yNO6a5D3IOExnl/uQ4Q2mA6LboDqFrLK4Be+XaxxWoPofivuxKXSx6TejjFIkjWeB2Yg0x7VA\n",
       "dNy88dMymMmqiiiEGZfpoyYfGuGbbEJ5RaubxQMC0HMUaUZSTm1aUCpbzzvnfU9N9UfwPVvEguqy\n",
       "ZZmcmQ50nAz+IAAAAIQBnr9qR/8BrlXquaisGf0veJ75N7zLt3EACdKYzllQrXmjw7Uk5n8/T1G8\n",
       "mYf4bKJiGjzAtg365+sndHxor89xSA5PO182sVR2RxScZdiZTkUbVOZxL+eF/Aonv6Gm2BA1PqC4\n",
       "38VuVBG+Mtvqjzl1YOcCoUbHf5Z5OMR6TDYVAOHsAeEAAARlQZqkSahBbJlMCF///oywA1AmpFhu\n",
       "M9iAAmmLYTNA8Dd6RF+JQ6UB7x9PrDao90ZnGoNCKaoTymUxLPS0TUNHa3VM6Iw4h5NQezNYqa1V\n",
       "L+JliY/U5SeXx1o48ojeuJEpQ2Qm8o4MVoiTXWmrRrHPEiX8ftWn6jNPqv+USIqaeBXNc6W5NIef\n",
       "sQyITEiqa+rJvRi0T3PL8D//uP/h7qi9QA1pYu6oKLwp/D+FC1aWrd/12jRWHbl9DlmUEx1yoc5U\n",
       "RqLcjy0NKcuDWzkG97PFAtPi3LjbNbI5d5Zm0tQRNb28mnrjHPbFMrbw1Yd1hekEihfXMN9O2BE6\n",
       "iInoA70BNT567tS5fAjOppKXfT/Fvkmno6IdoKG2hpsA6qKSpUPWPSzEal4a2U/2BYYBXUHWjrrv\n",
       "yI9k6WzFONI71rWwSsh2JOWU/c5lpqqnPWfq9Z8lKc/veftuuDx840oruJyfNqVnqVJZfCYsq8/n\n",
       "ZcpJcUEhQEzfyKzlmQGDXYkmMr8UJVQFrmxJ6ez9aCrLiG2nMW4uI6vc+lKmumiGVjSGmntLO1wB\n",
       "8dN6Ffd4ywjJOdfyS8C0Qlvo8I8v7sUzHwl94lQ1pUhdWiDYzre2qYnJGh5IUjmlUs1fxx8gCjya\n",
       "EjWFsx4Mt0EdMqyFO9PhzWW2xiAwsd0lIo0unjIJdw4gWrNPH49XbNyorRBJgBV2oBgH3rVjYIH0\n",
       "lgiFnj/JcojCsG2LaDam7M+U0UKWibkZRdMNVDT53yLrvHDpGpWcmH0yd9BXR3ZUXwSaiYrcl5FS\n",
       "28PfL3pHAVLiZyoWIOG6gQQ7jRFiDl6XfFlLnTZIjCt67AgCWNd9MVI6nZhUcwwPoXR7Z08f6v0y\n",
       "r1lK+HAcg+CP7mFxmkpk6PoVWOHnfxSo4Jcr6gfnngcVwNwZJaCKvfr/xFbHIbEt0l7oSkNzgX4F\n",
       "bBseFRGepOmn/pqWuE49L5jiKPP9I540xKG2Qz3aLuH/8GAt7A9V2VQoB4ABdfcdIFWHgJ/ADc3e\n",
       "pb4crpCGRyyCsX2MUJ/rLavjcynDfmsOsjSgeHytsXVJFyv0P1uYkUgDoXjULLlHNgDijdH329DW\n",
       "RudOiwi1gp2Ww5zb3C09zwDUlVuuPpOg4W55x2zbCpjboHz3VQpr6wL4AyU2omUM/Y4esP1OQU3O\n",
       "vR/L8NiwA01aS6nNHcD8PPYEGPJnkGAsINUHufWqTx9kLPDi3mTvmBIbwNcfHyA8cZotkNnEHcr8\n",
       "Yl9BTnyhYOA8u6m8fLa/UccHN//f0neoIKTwTtkfvIsW9Y6NYRpBmHoHWC49NvEJyAeoQ6ygEuRl\n",
       "WKVIQU0qiSiMknyMzm7kt4TodtQGXNmgkAUgzoIfKNkB39stMTgvihZmMHhog0TIvhZYFvUDwRUm\n",
       "eBJa3x9u4WRN6yObxcFt7kMLM5o9TBGEsJdQltSY9FikbJpzD06yJ3DfeQDCdHYkpbO+ecJJaOvl\n",
       "NdBAPAakE35/2xT42vQxlx9tgwe0AAABNEGewkUVLCP/A5YmzwcjzfTyPmFvJTiesVF4tSoACu0t\n",
       "0hTk7dA3OAQdHX6B1c/XvyATUzR7XhRgM6ueIO5MQRN5jN96h7qhMDDueFW5K6YdnMx6yDMYHl5u\n",
       "AR1Db+DVy9LspTdbfGKyuUgTYSXKVzS0iwzWlBfBku3NFLN/rUhawjDa0E9CC0MTKONPK6uvYHZw\n",
       "Nrijz6dxSqcdgujmOnFR39Q52F1vRjUP2XNB/8eXu5Nm2vDyt56RMGzI5kIbECATzg3VUnP2xu36\n",
       "Q8chLGlSRMmjQ2XmwtcxzgREfQDH5CAXnaZr9atHvZrz57lXMo/9CsR04DIwH2ojuVkkzS8QrSe8\n",
       "T6MR9L5zZOXPR/t+r99WtXrKYQD1w2Ufmn4G4M7wUwxjupZbiwclSC9V4oAZ4UkhAAAArQGe4XRH\n",
       "/wGuXGM74l6kAFsqEM3V2wEc3RiAgC5sDOMCly91fcqhOqmlXxA7pr/iMDJROD7ou4lMvW8UqQo2\n",
       "rNnqJ7302nyryNn+r/d8pd8hMd3ACMgcYantKcvhJekPApgxl54oXCinN4lda463YZq8dd+/cd2S\n",
       "rV7qPyhWKWyave+zhj331GDLsJAiG4lz7gwVo0Nu1cJxGqVWqU8+m7L7pmR8PU8F0ol+YcuYAAAA\n",
       "dQGe42pH/wGxkvABL8FvD1aQdIH6hvp9cSc8x1nBqj8tNc8ohqBDqmJTktbkYBS/PVuve2qNtMQI\n",
       "3IlqKRFYNbzcvKnBB9zur5RO9dpsDm88icXe4rhfppXj/1uU0+AEi+tTQOR4RuZ2lqn/lRrdK79d\n",
       "KHJTGQAAA5xBmuhJqEFsmUwIX//+jLADVCbGfJAA/npaKilLql6iz8ytn8LdB9AXrWXIKRTDMsye\n",
       "sBHfwTMRtCbpAHWX1fwslRNIqCcnRN78Sux5s5zTBtAX3hOX0EyfxZ/ZqJjZ8KUB/p04Qk083/0s\n",
       "xxLd7m/6LW7wdqeAEuiBBrKIEh20xQ4JwQVUKe1IQJB+JcXeAHNeE+J75TnsuoNiJcBg1UCivJON\n",
       "RhCm5Li1USILHX+lKl55JZ4f5HgSDW/W6h9fxIqhe3aqv0AXyT0urD1sH6OgbLPRFFqcHqkUFLrU\n",
       "7OTBxnHGtjtUq++co1KpJBrpwk6X7MVmbfeI6n7spUVec7rytXDABaIBZoVESiq34baeQqCp53Wy\n",
       "WSDdoiRQ5Xf4AFVoXxMQ1A4aGrGSs8qUDEcbwnNsEMHuC6uccIQjQCUMwdRwuLLU7y7gd9O1Tp9S\n",
       "i58Y0yCUW6KeLgliEYXBo97wEigHzdFXODCBK2gdt+jxtAfOi6phTQc8ebcPWCuQJS3TAx1M122P\n",
       "zXu90rcCxyoXC1lXcwouHTHTH+65YLG/nf5kn+IX8edW3QHjrupM0XKLhoIJuEv22NgFud9ahHTK\n",
       "5ZefVCe8kCVYRe6kOCwkMZhMrOixeHjJ06yJ1LPy7Kl+k2vmklzWOroReXd9jf3LayhJXY4r3+oF\n",
       "siaB1aMa0QFjJbsakFgAcZJlQQgUc7CeEYhI7vSS1YLKNMpbIf5vUmuK5U9Sr3McLwavONyF2j2I\n",
       "73J5+k6O4WvA9NG8PADKNthGj1dVgt+3xfuUz5HcCQZK/camTF0TvSMlWBeEgYWB4BPU9uiQUZsC\n",
       "jRa7JDwVRLimdCEjkOZmlbuIRzaC9dk9yM1Zop7DhdCZD7uITD5/sSDetPQqw90xZenMdXwT0y2u\n",
       "6K+JpYy7XuQFcpm17bVIWnDXURDcr7mvH7iF5b83pI+FiV0E9kO8TIakrZhmMsPUb4FbgVwMLm2h\n",
       "vQQ67PZs1uhCNa5PuUlHprZAqyJzOSbpapRCSlO4qneg62ISOlfq+3Gssg1/aoNVQkuWmo1rOfy5\n",
       "EyIF1Yvz1VsGCn65v4mNz5J2Y68xic9xpULFC1nVdSK7HHO1xWIS1CQ2xy5dh7EpzoABA161m8TE\n",
       "/p04owlIrkpuehGw0WaqGsICj4VGxCYPfaDiuXRTOk+JMqmyUDyIdiCLbuUzvJezKvYA/5knq1bH\n",
       "8SaDYWTqye2wlSqq51RAzraeAjMAAAEZQZ8GRRUsI/8DlibPByPN9PI+YW8lOKd+sJG1ACWC2FnN\n",
       "W6gysGy/9nuDwIBz1de5XEHM48naBB6tlbViJNgDek21nRUb9FrzI/mgKc9rPv+BYed1Kk7MA83W\n",
       "ohLMvL8EmvpTh+9f4zThcirCBHjXRPSz6mj0s3huDv2yvQ7X3kUAU2OXOC97KKVOgOrd9X5yTi+0\n",
       "+CNC2mgPobW2r2uWu2Bv0IWz7QZlrsnuO/bqyjkJOt79jqJNMq+Q89K2SX+bvVpjuJdEFKOFodM3\n",
       "1/y3eiL4/C/pHHRRMDYQwe2Gmv366MAot79wlVyZo6DokgETC914J/OtGmlXnntRHvvqNjAsNJ0O\n",
       "SRBf8jiQDJSvNq4+RyFTzIMR9kEAAABhAZ8ldEf/AbF8mAEj8YFOtIQuk43ps4MYE7qhxPPdJb8O\n",
       "4wwTtROs0rbtoBlCRj/cSbssEgPMlrZiS6b8vL0IMZyyhOpUTLFoB6arRhgS/K1uDhUU5Wm+PY3X\n",
       "P2RB4Lzl9QAAAE8BnydqR/8BqvGTA72QWzGHHDLb7qeq94QATpgjbHory21HLOm4CC3bpp2A7QXS\n",
       "psf+3DI7bhBFE41vFkxY+XBQTFbMlSVn3FbW0BFiXMRAAAADL0GbLEmoQWyZTAhX//44QAzY0GdI\n",
       "KACdvHLTgDATuifOnDmoCj3YOm8lU725gYJtnGmCH7jr/7we38KCChr4Zm+NssMYyukIaO2EqNFi\n",
       "RvrnTSuu4FzcKmroE6iCxjUO0JTmq7RipLmCrvr15JNS1tZ1XKqK0m2lMpWgibJYNU0iYrATEB1h\n",
       "+cuYY/4nFfxNJ+qB2YN7krVFC0gnJTaeTggHen5n0rb99ntoZvuFmwNMZWRmD8wPywb+T2NPvqOh\n",
       "MNGF+zJtZpgsy30gHKYuQhBCpSygOJ6TU46wBbIl/l8QUZ1QpjOWQjj30hSV0FPWIo1mIVa12Emd\n",
       "DS88+tH20eqDtcJY7bhIcmors3f/QAs5deDwfj4AZSZd5elwIKjjQHbCpV0FHX8tx6rCMfpqEo+v\n",
       "JlU0qRBEO0rwPt45P8O3Asrj6V/YrJtR+qok19IDUM9SGcr58mxuRYA/shIi4IKS2Jphlzv1deTM\n",
       "kT7zkArIRIeBLN3I2bF7b7dcD7q2EdxvwD6w9AtgYR8r94woRJLveR9YpgAicoAX4ct6ephIEOT+\n",
       "rcy587OfE8hRNI2JJboX8xmlYNYAzwpSB9x6Bjhd/34UevC0T7rASR7m6iLdXURT1w5sTdHUk0US\n",
       "R2uQl2TbZqnt+Dfl2sE0buVJ/TBOT3L+yFMKki7IqOJ4hwMmURLhywf1JszFAnwi9GjpXaXpzj7k\n",
       "8zHk/2BrXR7FNBvmdCypqungyo1KoYE66LvV+FKZODwDbjzN4/eVFJ2ehvAFdkADqxWeZVbfWXoD\n",
       "e35PzWubdjaHHHiE1s1Hq53GnUvdsZc6gHkTEEozQp8acvnx2Kt3wI5ZYZC4f1NogXmEQxOi5ptV\n",
       "bcUllyTMQzjTg/R3NU5aGDAN2evC2jjqupH8Mm0ZToQDsKI4B5wYO1r7q9Dd0IFxyiEyPnMLs1GK\n",
       "DdnQdNkIuUb/OF2IdWcxYhDAWN6ALv7BmNMnxZxsxu9Tkqwi3HYVEqoskPkLrMDBlngQSnugb0JH\n",
       "StOQVM+ozQnhYoTIQ7Pu2CGB2ZUG5Fzu2ubr4TneaI4oZrf3YeWXptO7GtQh1dqQl0Z2jHYdAAAB\n",
       "EUGfSkUVLCP/A5YmzwcjzfTyPmFvJTir9VIAS1VGsW+mSsiuIfc9RadbcuOGra0xzkjhAyG0zMN5\n",
       "9ELQdGoN5DnTGSJCvvEnP/khuN46Oso7XbOduf54g1obbbTpFUnoVeSmClG6pHWhNBG8/lHTmMTT\n",
       "U1rFV8e2niP0AWdx0kMfZnyAWkXLIl72vbJ+IWRBJSRRWwB1Cu2KBsjgQrAuOEov6QD8H4hG0cUg\n",
       "2Y8Dy6aqB4AXyaXdoEfudOBwUMpLV2QQku7c8U2NbqhDqcgHFYYX7Nrb+XdKJqoj1BU2jG9CJ3Le\n",
       "UJ2UrGEAfMxqEbD6GUcu36eOJIhVbi8c+Bs/odxPwAWB1/AI2CokKUy5hB7w4QAAAEYBn2l0R/8B\n",
       "qwCo6eACc4zFybRGwe5jmb5novQ2ZKabApKUGMHJpJlHTbsRReYpCfETlCyTu9d7NAwUYELeiZ8t\n",
       "j4uxaxZAAAAANgGfa2pH/wGj8sX/3RgfpF4SKbgAkiI2f96TTzVPQl1SDePl9D6lOM4+47pq5gXA\n",
       "Sb2MCrA38AAAAgtBm3BJqEFsmUwIR//94QAx4Y/VbAC1nNIBdLlyeB3dqOxQDZcPSjak+Wr81UQO\n",
       "dcDCmPP1GnwCqD/oUPSpgD6TMi61zods+fEuOi7VWgrFX3Ct5BWp3DOV/q3pXJGEp9w6CHC5tV1u\n",
       "xY0QAq/B5461etd/vbWlO8eHyLpTP0nmPYhW4YO0XlL0QfrFiV0InPd8EJJL+tsvmPU+92iNrqLv\n",
       "cD8us9CQ/enO+5wafW68wReEKH0ehDi1nG24yg7AWNS0DOfga2ogFNmq6IuhBDWIaA7Si7Bap3HU\n",
       "KQwOiLF7K3WtWj34N5F+yDvOVjwmou4qWngqBWHPN5slRsjV2RGR1B+KgNDKq9dRD88bEvBqQWYv\n",
       "zkrCKurl5dtgMxGPHqBo4D3XOX22NKwxqRlgVSwXVnFe7XWzxz/7Do8M/F3r+YIpEDHmzQAnbpTY\n",
       "y5SX3oGBDiDTCDYAZZovy16zoG771oZhz2GwSSNRsENp6gvlu4V6ms2mRHM0l5OYKbF8VEtARo2a\n",
       "0u3JfiG0nST4ibm2yImS3BvXzPgA4mSa74kK6HS29Ch6GaE+tKXyZg5UgXITrjggguQIvtcR5m7l\n",
       "E1IC6kpI9AQQo6ZbnIKdntEB2xm0rOTXuLO3O4jiE8URigbKpFFXwm3sELzE5NQzbPJpV1j8mr6W\n",
       "eQZrPidLibbIJUU1ZdPuCoeXK+OVAAAA70GfjkUVLCP/A5YmzwcjzfTyPmFvJTir9t4gBbltx1FU\n",
       "hfiXo8sFSUZi/wDcJnuCPVajy4JhfYxe76mODQdSJcsDzPiPp0SAWnvgiKEQ0mPajOmrR/3HQ7Ha\n",
       "2plCBGs5Bre3da+OpVb+zbwtBcw4LwJTaZ25DDUcCswx0UDBUgZq/I7P7aUIleNX+3NHmVr/nkBi\n",
       "bxlkFiJAFLuH7kjsipluLMXfy/fPjc8lJ77WZpQp49QIUUGlg2DNewPboGqQLeYgx0PzHHYCPsDS\n",
       "ECZNXMznD8FKTib3aWwVf0p0tETWQGdtwGI2pMD91plmoqFRAAAALAGfrXRH/wDTT26zwrVctlST\n",
       "/UwAPFwrhfOKAXo+NDawEM1LDgq6fHF4GDs3AAAAMAGfr2pH/wDNsrHfqkAAnOxQ61ZPWUNFojHr\n",
       "4twbBrEH1JJ2ZzgJE0iLA2s54D7dCwAAAGlBm7FJqEFsmUwI//yEAMJ1ZeIATKZKS6Z6P+CZkOKe\n",
       "3h5dWEEKkDKl601SLGue6fsX/Ud8TL6BsxAxFuM3QtT/37OI63Wkwz3zTahEVUc+fSu3KvWGRjwf\n",
       "XW0yMMgG0R9EGx/OY43qC7gAAAVWbW9vdgAAAGxtdmhkAAAAAAAAAAAAAAAAAAAD6AAAA+gAAQAA\n",
       "AQAAAAAAAAAAAAAAAAEAAAAAAAAAAAAAAAAAAAABAAAAAAAAAAAAAAAAAABAAAAAAAAAAAAAAAAA\n",
       "AAAAAAAAAAAAAAAAAAAAAAAAAgAABIB0cmFrAAAAXHRraGQAAAADAAAAAAAAAAAAAAABAAAAAAAA\n",
       "A+gAAAAAAAAAAAAAAAAAAAAAAAEAAAAAAAAAAAAAAAAAAAABAAAAAAAAAAAAAAAAAABAAAAAAbAA\n",
       "AAEgAAAAAAAkZWR0cwAAABxlbHN0AAAAAAAAAAEAAAPoAAACAAABAAAAAAP4bWRpYQAAACBtZGhk\n",
       "AAAAAAAAAAAAAAAAAAAyAAAAMgBVxAAAAAAALWhkbHIAAAAAAAAAAHZpZGUAAAAAAAAAAAAAAABW\n",
       "aWRlb0hhbmRsZXIAAAADo21pbmYAAAAUdm1oZAAAAAEAAAAAAAAAAAAAACRkaW5mAAAAHGRyZWYA\n",
       "AAAAAAAAAQAAAAx1cmwgAAAAAQAAA2NzdGJsAAAAs3N0c2QAAAAAAAAAAQAAAKNhdmMxAAAAAAAA\n",
       "AAEAAAAAAAAAAAAAAAAAAAAAAbABIABIAAAASAAAAAAAAAABAAAAAAAAAAAAAAAAAAAAAAAAAAAA\n",
       "AAAAAAAAAAAAAAAAGP//AAAAMWF2Y0MBZAAe/+EAGGdkAB6s2UGwloQAAAMABAAAAwGQPFi2WAEA\n",
       "Bmjr48siwAAAABx1dWlka2hA8l8kT8W6OaUbzwMj8wAAAAAAAAAYc3R0cwAAAAAAAAABAAAAMgAA\n",
       "AQAAAAAUc3RzcwAAAAAAAAABAAAAAQAAAXBjdHRzAAAAAAAAACwAAAAEAAACAAAAAAEAAAUAAAAA\n",
       "AQAAAgAAAAABAAAAAAAAAAEAAAEAAAAAAQAAAwAAAAABAAABAAAAAAIAAAIAAAAAAQAABAAAAAAC\n",
       "AAABAAAAAAIAAAIAAAAAAQAAAwAAAAABAAABAAAAAAEAAAUAAAAAAQAAAgAAAAABAAAAAAAAAAEA\n",
       "AAEAAAAAAQAAAwAAAAABAAABAAAAAAEAAAUAAAAAAQAAAgAAAAABAAAAAAAAAAEAAAEAAAAAAQAA\n",
       "BQAAAAABAAACAAAAAAEAAAAAAAAAAQAAAQAAAAABAAAFAAAAAAEAAAIAAAAAAQAAAAAAAAABAAAB\n",
       "AAAAAAEAAAUAAAAAAQAAAgAAAAABAAAAAAAAAAEAAAEAAAAAAQAABQAAAAABAAACAAAAAAEAAAAA\n",
       "AAAAAQAAAQAAAAABAAAFAAAAAAEAAAIAAAAAAQAAAAAAAAABAAABAAAAAAEAAAIAAAAAHHN0c2MA\n",
       "AAAAAAAAAQAAAAEAAAAyAAAAAQAAANxzdHN6AAAAAAAAAAAAAAAyAAAcSwAAA3oAAAJ1AAACEwAA\n",
       "AkcAAAGtAAABKAAAAPAAAAGyAAAAnQAAAYIAAAGIAAAC5AAAARcAAADXAAAB3wAAAhUAAAKyAAAA\n",
       "vwAABD4AAAEwAAAAvQAAAMUAAAMTAAAAuAAABDoAAAFHAAAA6AAAAMAAAARkAAABcAAAAKAAAACI\n",
       "AAAEaQAAATgAAACxAAAAeQAAA6AAAAEdAAAAZQAAAFMAAAMzAAABFQAAAEoAAAA6AAACDwAAAPMA\n",
       "AAAwAAAANAAAAG0AAAAUc3RjbwAAAAAAAAABAAAALAAAAGJ1ZHRhAAAAWm1ldGEAAAAAAAAAIWhk\n",
       "bHIAAAAAAAAAAG1kaXJhcHBsAAAAAAAAAAAAAAAALWlsc3QAAAAlqXRvbwAAAB1kYXRhAAAAAQAA\n",
       "AABMYXZmNTcuNTYuMTAx\n",
       "\">\n",
       "  Your browser does not support the video tag.\n",
       "</video>"
      ],
      "text/plain": [
       "<matplotlib.animation.FuncAnimation at 0x7f3b04cb5f98>"
      ]
     },
     "execution_count": 26,
     "metadata": {},
     "output_type": "execute_result"
    }
   ],
   "source": [
    "a = nn.Parameter(tensor(3.,1.))\n",
    "\n",
    "fig = plt.figure()\n",
    "plt.scatter(x[:,0], y, c='orange')\n",
    "line, = plt.plot(x[:,0], x@a)\n",
    "plt.close()\n",
    "\n",
    "def animate(i):\n",
    "    update()\n",
    "    line.set_ydata(x@a)\n",
    "    return line,\n",
    "\n",
    "animation.FuncAnimation(fig, animate, np.arange(0, 50), interval=20)"
   ]
  }
 ],
 "metadata": {
  "kernelspec": {
   "display_name": "Python 3",
   "language": "python",
   "name": "python3"
  },
  "language_info": {
   "codemirror_mode": {
    "name": "ipython",
    "version": 3
   },
   "file_extension": ".py",
   "mimetype": "text/x-python",
   "name": "python",
   "nbconvert_exporter": "python",
   "pygments_lexer": "ipython3",
   "version": "3.7.0"
  }
 },
 "nbformat": 4,
 "nbformat_minor": 1
}
