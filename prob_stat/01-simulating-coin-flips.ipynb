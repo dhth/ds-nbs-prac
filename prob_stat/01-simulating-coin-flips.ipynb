{
 "cells": [
  {
   "cell_type": "markdown",
   "metadata": {
    "toc": true
   },
   "source": [
    "## 01 - Intro to Probability Theory: Simulating coin flips\n",
    "Learnings from [this](https://courses.edx.org/courses/course-v1:UCSanDiegoX+DSE210x+3T2018/course/) MOOC."
   ]
  },
  {
   "cell_type": "code",
   "execution_count": 63,
   "metadata": {
    "slideshow": {
     "slide_type": "skip"
    }
   },
   "outputs": [],
   "source": [
    "%matplotlib inline"
   ]
  },
  {
   "cell_type": "code",
   "execution_count": 1,
   "metadata": {},
   "outputs": [],
   "source": [
    "import numpy as np"
   ]
  },
  {
   "cell_type": "code",
   "execution_count": 31,
   "metadata": {},
   "outputs": [],
   "source": [
    "import matplotlib.pyplot as plt"
   ]
  },
  {
   "cell_type": "markdown",
   "metadata": {},
   "source": [
    "### Generating a matrix that represents results of flipping 10 fair coins repeated 3 times."
   ]
  },
  {
   "cell_type": "code",
   "execution_count": 20,
   "metadata": {},
   "outputs": [
    {
     "data": {
      "text/plain": [
       "array([[ 0.51071441,  0.41429764,  1.34454942],\n",
       "       [ 0.49351532, -0.23700418,  0.05728515],\n",
       "       [-0.70707145,  0.54666484,  0.94250041],\n",
       "       [-2.97959677,  1.21814885, -0.05652072],\n",
       "       [ 0.46088845,  0.66237401, -2.29510333],\n",
       "       [-1.19592931, -0.33310116, -0.79139077],\n",
       "       [ 0.27417278, -0.51490992, -1.7110712 ],\n",
       "       [ 0.61229731,  1.10012937,  0.56435253],\n",
       "       [-0.71279944, -0.26085948,  0.54842807],\n",
       "       [ 0.60319905,  1.00686114, -0.29442601]])"
      ]
     },
     "execution_count": 20,
     "metadata": {},
     "output_type": "execute_result"
    }
   ],
   "source": [
    "t = np.random.randn(10,3);t"
   ]
  },
  {
   "cell_type": "code",
   "execution_count": 21,
   "metadata": {},
   "outputs": [
    {
     "data": {
      "text/plain": [
       "array([[ True, False,  True],\n",
       "       [False, False, False],\n",
       "       [False,  True,  True],\n",
       "       [False,  True, False],\n",
       "       [False,  True, False],\n",
       "       [False, False, False],\n",
       "       [False, False, False],\n",
       "       [ True,  True,  True],\n",
       "       [False, False,  True],\n",
       "       [ True,  True, False]])"
      ]
     },
     "execution_count": 21,
     "metadata": {},
     "output_type": "execute_result"
    }
   ],
   "source": [
    "t = t>0.5;t"
   ]
  },
  {
   "cell_type": "code",
   "execution_count": 22,
   "metadata": {},
   "outputs": [
    {
     "data": {
      "text/plain": [
       "array([[2, 0, 2],\n",
       "       [0, 0, 0],\n",
       "       [0, 2, 2],\n",
       "       [0, 2, 0],\n",
       "       [0, 2, 0],\n",
       "       [0, 0, 0],\n",
       "       [0, 0, 0],\n",
       "       [2, 2, 2],\n",
       "       [0, 0, 2],\n",
       "       [2, 2, 0]])"
      ]
     },
     "execution_count": 22,
     "metadata": {},
     "output_type": "execute_result"
    }
   ],
   "source": [
    "t = 2*t;t"
   ]
  },
  {
   "cell_type": "code",
   "execution_count": 23,
   "metadata": {},
   "outputs": [
    {
     "data": {
      "text/plain": [
       "array([[ 1, -1,  1],\n",
       "       [-1, -1, -1],\n",
       "       [-1,  1,  1],\n",
       "       [-1,  1, -1],\n",
       "       [-1,  1, -1],\n",
       "       [-1, -1, -1],\n",
       "       [-1, -1, -1],\n",
       "       [ 1,  1,  1],\n",
       "       [-1, -1,  1],\n",
       "       [ 1,  1, -1]])"
      ]
     },
     "execution_count": 23,
     "metadata": {},
     "output_type": "execute_result"
    }
   ],
   "source": [
    "t-=1;t"
   ]
  },
  {
   "cell_type": "markdown",
   "metadata": {},
   "source": [
    "Here, `1` represents `heads`, and `-1` represents `tails`. This is so that on summing them up (along the columns), we can see that the resultant sum is zero or close to zero (confirming the intuition that almost half of the results are `heads` and the rest are `tails`)"
   ]
  },
  {
   "cell_type": "code",
   "execution_count": 26,
   "metadata": {},
   "outputs": [
    {
     "data": {
      "text/plain": [
       "array([-4,  0, -2])"
      ]
     },
     "execution_count": 26,
     "metadata": {},
     "output_type": "execute_result"
    }
   ],
   "source": [
    "t = np.sum(t,axis=0);t"
   ]
  },
  {
   "cell_type": "markdown",
   "metadata": {},
   "source": [
    "### Plotting histograms of these sums"
   ]
  },
  {
   "cell_type": "code",
   "execution_count": 42,
   "metadata": {
    "code_folding": [],
    "slideshow": {
     "slide_type": "subslide"
    }
   },
   "outputs": [],
   "source": [
    "# Generate the sum of k coin flips, repeat that n times\n",
    "def generate_counts(k=1000,n=100):\n",
    "    np.random.seed(10)\n",
    "    X=2*(np.random.rand(k,n)>0.5)-1  # generate a kXn matrix of +-1 random numbers\n",
    "    S=np.sum(X,axis=0) \n",
    "    return S "
   ]
  },
  {
   "cell_type": "code",
   "execution_count": 78,
   "metadata": {},
   "outputs": [],
   "source": [
    "k=1000\n",
    "n=1000\n",
    "counts=generate_counts(k=k,n=n)"
   ]
  },
  {
   "cell_type": "code",
   "execution_count": 79,
   "metadata": {
    "hide_input": true,
    "scrolled": false,
    "slideshow": {
     "slide_type": "subslide"
    }
   },
   "outputs": [
    {
     "data": {
      "image/png": "[encoded data removed]",
      "text/plain": [
       "<Figure size 720x288 with 1 Axes>"
      ]
     },
     "metadata": {
      "needs_background": "light"
     },
     "output_type": "display_data"
    }
   ],
   "source": [
    "fig,ax = plt.subplots(figsize=[10,4])\n",
    "ax.hist(counts);\n",
    "ax.set_xlim([-k,k])\n",
    "ax.set_xlabel(\"sum\")\n",
    "ax.set_ylabel(\"count\")\n",
    "ax.grid()\n",
    "plt.show()"
   ]
  },
  {
   "cell_type": "markdown",
   "metadata": {},
   "source": [
    "### Varying the number of flips"
   ]
  },
  {
   "cell_type": "code",
   "execution_count": 80,
   "metadata": {},
   "outputs": [
    {
     "data": {
      "image/png": "[encoded data removed]",
      "text/plain": [
       "<Figure size 720x288 with 3 Axes>"
      ]
     },
     "metadata": {
      "needs_background": "light"
     },
     "output_type": "display_data"
    }
   ],
   "source": [
    "n_flips = [100, 1000, 10000]\n",
    "\n",
    "fig, axes = plt.subplots(1,3, figsize=(10,4))\n",
    "for i, ax in enumerate(axes.flat):\n",
    "    k = n_flips[i]\n",
    "    counts=generate_counts(k=k,n=1000)\n",
    "    ax.hist(counts,bins=10);\n",
    "    ax.set_title(f'{k} flips')\n",
    "    ax.grid()\n",
    "plt.show()"
   ]
  },
  {
   "cell_type": "code",
   "execution_count": 81,
   "metadata": {},
   "outputs": [
    {
     "data": {
      "image/png": "[encoded data removed]",
      "text/plain": [
       "<Figure size 720x288 with 3 Axes>"
      ]
     },
     "metadata": {
      "needs_background": "light"
     },
     "output_type": "display_data"
    }
   ],
   "source": [
    "n_flips = [100, 1000, 10000]\n",
    "\n",
    "fig, axes = plt.subplots(1,3, figsize=(10,4))\n",
    "for i, ax in enumerate(axes.flat):\n",
    "    k = n_flips[i]\n",
    "    counts=generate_counts(k=k,n=1000)\n",
    "    ax.hist(counts,bins=10);\n",
    "    ax.set_xlim([-k,k])\n",
    "    ax.set_title(f'{k} flips')\n",
    "    ax.grid()\n",
    "plt.show()"
   ]
  },
  {
   "cell_type": "markdown",
   "metadata": {
    "slideshow": {
     "slide_type": "fragment"
    }
   },
   "source": [
    "In all cases, sum $S_{k}$ is not **exactly** $0$, it is **close to** $0$, which confirms that the number of times we get heads is almost equal to the number of times we get tails.\n",
    "\n",
    "**Probability theory** states that:\n",
    "$$\\big| S_k \\big| \\geq 4\\sqrt{k}$$\n",
    "\n",
    "ie, this sum always resides between these two limits.\n",
    "\n",
    "Plotting these limits."
   ]
  },
  {
   "cell_type": "code",
   "execution_count": 50,
   "metadata": {},
   "outputs": [],
   "source": [
    "from math import sqrt"
   ]
  },
  {
   "cell_type": "code",
   "execution_count": 62,
   "metadata": {},
   "outputs": [
    {
     "data": {
      "image/png": "[encoded data removed]",
      "text/plain": [
       "<Figure size 720x288 with 3 Axes>"
      ]
     },
     "metadata": {
      "needs_background": "light"
     },
     "output_type": "display_data"
    }
   ],
   "source": [
    "n_flips = [100, 1000, 10000]\n",
    "\n",
    "fig, axes = plt.subplots(1,3, figsize=(10,4))\n",
    "for i, ax in enumerate(axes.flat):\n",
    "    k = n_flips[i]\n",
    "    counts=generate_counts(k=k,n=100)\n",
    "    y,x,_ = ax.hist(counts,bins=10)\n",
    "    y_max = y.max()\n",
    "    ax.set_xlim([-k,k])\n",
    "    d=4*sqrt(k)\n",
    "    ax.plot([-d,-d],[0,y_max],'r')\n",
    "    ax.plot([+d,+d],[0,y_max],'r')\n",
    "    ax.set_title(f'{k} flips')\n",
    "    ax.grid()\n",
    "plt.show()"
   ]
  }
 ],
 "metadata": {
  "anaconda-cloud": {},
  "celltoolbar": "Slideshow",
  "kernelspec": {
   "display_name": "Python 3",
   "language": "python",
   "name": "python3"
  },
  "language_info": {
   "codemirror_mode": {
    "name": "ipython",
    "version": 3
   },
   "file_extension": ".py",
   "mimetype": "text/x-python",
   "name": "python",
   "nbconvert_exporter": "python",
   "pygments_lexer": "ipython3",
   "version": "3.7.0"
  },
  "toc": {
   "base_numbering": 1,
   "nav_menu": {
    "height": "66px",
    "width": "252px"
   },
   "number_sections": true,
   "sideBar": true,
   "skip_h1_title": false,
   "title_cell": "Table of Contents",
   "title_sidebar": "Contents",
   "toc_cell": true,
   "toc_position": {
    "height": "412px",
    "left": "0px",
    "right": "871.4px",
    "top": "134px",
    "width": "200px"
   },
   "toc_section_display": "block",
   "toc_window_display": false
  },
  "varInspector": {
   "cols": {
    "lenName": 16,
    "lenType": 16,
    "lenVar": 40
   },
   "kernels_config": {
    "python": {
     "delete_cmd_postfix": "",
     "delete_cmd_prefix": "del ",
     "library": "var_list.py",
     "varRefreshCmd": "print(var_dic_list())"
    },
    "r": {
     "delete_cmd_postfix": ") ",
     "delete_cmd_prefix": "rm(",
     "library": "var_list.r",
     "varRefreshCmd": "cat(var_dic_list()) "
    }
   },
   "types_to_exclude": [
    "module",
    "function",
    "builtin_function_or_method",
    "instance",
    "_Feature"
   ],
   "window_display": false
  }
 },
 "nbformat": 4,
 "nbformat_minor": 2
}
