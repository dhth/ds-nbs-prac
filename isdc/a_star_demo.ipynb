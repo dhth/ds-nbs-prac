{
 "cells": [
  {
   "cell_type": "code",
   "execution_count": 2,
   "metadata": {},
   "outputs": [
    {
     "data": {
      "text/html": [
       "<script type=\"text/javascript\">window.PlotlyConfig = {MathJaxConfig: 'local'};</script><script type=\"text/javascript\">if (window.MathJax) {MathJax.Hub.Config({SVG: {font: \"STIX-Web\"}});}</script><script>requirejs.config({paths: { 'plotly': ['https://cdn.plot.ly/plotly-latest.min']},});if(!window._Plotly) {require(['plotly'],function(plotly) {window._Plotly=plotly;});}</script>"
      ],
      "text/vnd.plotly.v1+html": [
       "<script type=\"text/javascript\">window.PlotlyConfig = {MathJaxConfig: 'local'};</script><script type=\"text/javascript\">if (window.MathJax) {MathJax.Hub.Config({SVG: {font: \"STIX-Web\"}});}</script><script>requirejs.config({paths: { 'plotly': ['https://cdn.plot.ly/plotly-latest.min']},});if(!window._Plotly) {require(['plotly'],function(plotly) {window._Plotly=plotly;});}</script>"
      ]
     },
     "metadata": {},
     "output_type": "display_data"
    }
   ],
   "source": [
    "import networkx as nx\n",
    "import pickle\n",
    "import plotly.plotly as py\n",
    "import random\n",
    "from plotly.graph_objs import *\n",
    "from plotly.offline import init_notebook_mode, plot, iplot\n",
    "init_notebook_mode(connected=True)\n",
    "# from pdb import set_trace\n",
    "\n",
    "map_10_dict = {\n",
    "\t0: {'pos': (0.7798606835438107, 0.6922727646627362), 'connections': [7, 6, 5]}, \n",
    "\t1: {'pos': (0.7647837074641568, 0.3252670836724646), 'connections': [4, 3, 2]}, \n",
    "\t2: {'pos': (0.7155217893995438, 0.20026498027300055), 'connections': [4, 3, 1]}, \n",
    "\t3: {'pos': (0.7076566826610747, 0.3278339270610988), 'connections': [5, 4, 1, 2]}, \n",
    "\t4: {'pos': (0.8325506249953353, 0.02310946309985762), 'connections': [1, 2, 3]}, \n",
    "\t5: {'pos': (0.49016747075266875, 0.5464878695400415), 'connections': [7, 0, 3]}, \n",
    "\t6: {'pos': (0.8820353070895344, 0.6791919587749445), 'connections': [0]}, \n",
    "\t7: {'pos': (0.46247219371675075, 0.6258061621642713), 'connections': [0, 5]}, \n",
    "\t8: {'pos': (0.11622158839385677, 0.11236327488812581), 'connections': [9]}, \n",
    "\t9: {'pos': (0.1285377678230034, 0.3285840695698353), 'connections': [8]}\n",
    "}\n",
    "\n",
    "map_40_dict = {\n",
    "\t0: {'pos': (0.7801603911549438, 0.49474860768712914), 'connections': [36, 34, 31, 28, 17]}, \n",
    "\t1: {'pos': (0.5249831588690298, 0.14953665513987202), 'connections': [35, 31, 27, 26, 25, 20, 18, 17, 15, 6]}, \n",
    "\t2: {'pos': (0.8085335344099086, 0.7696330846542071), 'connections': [39, 36, 21, 19, 9, 7, 4]}, \n",
    "\t3: {'pos': (0.2599134798656856, 0.14485659826020547), 'connections': [35, 20, 15, 11, 6]}, \n",
    "\t4: {'pos': (0.7353838928272886, 0.8089961609345658), 'connections': [39, 36, 21, 19, 9, 7, 2]}, \n",
    "\t5: {'pos': (0.09088671576431506, 0.7222846879290787), 'connections': [32, 16, 14]}, \n",
    "\t6: {'pos': (0.313999018186756, 0.01876171413125327), 'connections': [35, 20, 15, 11, 1, 3]}, \n",
    "\t7: {'pos': (0.6824813442515916, 0.8016111783687677), 'connections': [39, 36, 22, 21, 19, 9, 2, 4]}, \n",
    "\t8: {'pos': (0.20128789391122526, 0.43196344222361227), 'connections': [33, 30, 14]}, \n",
    "\t9: {'pos': (0.8551947714242674, 0.9011339078096633), 'connections': [36, 21, 19, 2, 4, 7]}, \n",
    "\t10: {'pos': (0.7581736589784409, 0.24026772497187532), 'connections': [31, 27, 26, 25, 24, 18, 17, 13]}, \n",
    "\t11: {'pos': (0.25311953895059136, 0.10321622277398101), 'connections': [35, 20, 15, 3, 6]}, \n",
    "\t12: {'pos': (0.4813859169876731, 0.5006237737207431), 'connections': [37, 34, 31, 28, 22, 17]}, \n",
    "\t13: {'pos': (0.9112422509614865, 0.1839028760606296), 'connections': [27, 24, 18, 10]}, \n",
    "\t14: {'pos': (0.04580558670435442, 0.5886703168399895), 'connections': [33, 30, 16, 5, 8]}, \n",
    "\t15: {'pos': (0.4582523173083307, 0.1735506267461867), 'connections': [35, 31, 26, 25, 20, 17, 1, 3, 6, 11]}, \n",
    "\t16: {'pos': (0.12939557977525573, 0.690016328140396), 'connections': [37, 30, 5, 14]}, \n",
    "\t17: {'pos': (0.607698913404794, 0.362322730884702), 'connections': [34, 31, 28, 26, 25, 18, 0, 1, 10, 12, 15]}, \n",
    "\t18: {'pos': (0.719569201584275, 0.13985272363426526), 'connections': [31, 27, 26, 25, 24, 1, 10, 13, 17]}, \n",
    "\t19: {'pos': (0.8860336256842246, 0.891868301175821), 'connections': [21, 2, 4, 7, 9]}, \n",
    "\t20: {'pos': (0.4238357358399233, 0.026771817842421997), 'connections': [35, 26, 1, 3, 6, 11, 15]}, \n",
    "\t21: {'pos': (0.8252497121120052, 0.9532681441921305), 'connections': [2, 4, 7, 9, 19]}, \n",
    "\t22: {'pos': (0.47415009287034726, 0.7353428557575755), 'connections': [39, 37, 29, 7, 12]}, \n",
    "\t23: {'pos': (0.26253385360950576, 0.9768234503830939), 'connections': [38, 32, 29]}, \n",
    "\t24: {'pos': (0.9363713903322148, 0.13022993020357043), 'connections': [27, 10, 13, 18]}, \n",
    "\t25: {'pos': (0.6243437191127235, 0.21665962402659544), 'connections': [34, 31, 27, 26, 1, 10, 15, 17, 18]}, \n",
    "\t26: {'pos': (0.5572917679006295, 0.2083567880838434), 'connections': [34, 31, 27, 1, 10, 15, 17, 18, 20, 25]}, \n",
    "\t27: {'pos': (0.7482655725962591, 0.12631654071213483), 'connections': [31, 1, 10, 13, 18, 24, 25, 26]}, \n",
    "\t28: {'pos': (0.6435799740880603, 0.5488515965193208), 'connections': [39, 36, 34, 31, 0, 12, 17]}, \n",
    "\t29: {'pos': (0.34509802713919313, 0.8800306496459869), 'connections': [38, 37, 32, 22, 23]}, \n",
    "\t30: {'pos': (0.021423673670808885, 0.4666482714834408), 'connections': [33, 8, 14, 16]}, \n",
    "\t31: {'pos': (0.640952694324525, 0.3232711412508066), 'connections': [34, 0, 1, 10, 12, 15, 17, 18, 25, 26, 27, 28]}, \n",
    "\t32: {'pos': (0.17440205342790494, 0.9528527425842739), 'connections': [38, 5, 23, 29]}, \n",
    "\t33: {'pos': (0.1332965908314021, 0.3996510641743197), 'connections': [8, 14, 30]}, \n",
    "\t34: {'pos': (0.583993110207876, 0.42704536740474663), 'connections': [0, 12, 17, 25, 26, 28, 31]}, \n",
    "\t35: {'pos': (0.3073865727705063, 0.09186645974288632), 'connections': [1, 3, 6, 11, 15, 20]}, \n",
    "\t36: {'pos': (0.740625863119245, 0.68128520136847), 'connections': [39, 0, 2, 4, 7, 9, 28]}, \n",
    "\t37: {'pos': (0.3345284735051981, 0.6569436279895382), 'connections': [12, 16, 22, 29]}, \n",
    "\t38: {'pos': (0.17972981733780147, 0.999395685828547), 'connections': [23, 29, 32]}, \n",
    "\t39: {'pos': (0.6315322816286787, 0.7311657634689946), 'connections': [2, 4, 7, 22, 28, 36]}\n",
    "}\n",
    "\n",
    "\n",
    "class Map:\n",
    "\tdef __init__(self, G):\n",
    "\t\tself._graph = G\n",
    "\t\tself.intersections = nx.get_node_attributes(G, \"pos\")\n",
    "\t\tself.roads = [list(G[node]) for node in G.nodes()]\n",
    "\n",
    "\tdef save(self, filename):\n",
    "\t\twith open(filename, 'wb') as f:\n",
    "\t\t\tpickle.dump(self._graph, f)\n",
    "\n",
    "def load_map_graph(map_dict):\n",
    "\tG = nx.Graph()\n",
    "\tfor node in map_dict.keys():\n",
    "\t\tG.add_node(node, pos=map_dict[node]['pos'])\n",
    "\tfor node in map_dict.keys():\n",
    "\t\tfor con_node in map_dict[node]['connections']:\n",
    "\t\t\tG.add_edge(node, con_node)\n",
    "\treturn G\n",
    "\n",
    "def load_map_10():\n",
    "\tG = load_map_graph(map_10_dict)\n",
    "\treturn Map(G)\n",
    "\n",
    "def load_map_40():\n",
    "\tG = load_map_graph(map_40_dict)\n",
    "\treturn Map(G)\n"
   ]
  },
  {
   "cell_type": "code",
   "execution_count": 3,
   "metadata": {
    "collapsed": true
   },
   "outputs": [],
   "source": [
    "import plotly.io as pio"
   ]
  },
  {
   "cell_type": "code",
   "execution_count": 4,
   "metadata": {
    "collapsed": true
   },
   "outputs": [],
   "source": [
    "def show_map1(M, current=None,considering=None,start=None, goal=None, frontier=[], explored=[], path=[],text=\"\",save_name_num=\"\"):\n",
    "    G = M._graph\n",
    "    pos = nx.get_node_attributes(G, 'pos')\n",
    "    edge_trace = Scatter(\n",
    "    x=[],\n",
    "    y=[],\n",
    "    line=Line(width=0.8,color='#888'),\n",
    "    hoverinfo='none',\n",
    "    mode='lines')\n",
    "\n",
    "    for edge in G.edges():\n",
    "        x0, y0 = G.node[edge[0]]['pos']\n",
    "        x1, y1 = G.node[edge[1]]['pos']\n",
    "        edge_trace['x'] += (x0, x1, None)\n",
    "        edge_trace['y'] += (y0, y1, None)\n",
    "\n",
    "    node_trace = Scatter(\n",
    "        x=[],\n",
    "        y=[],\n",
    "        text=[],\n",
    "        mode='markers+text',\n",
    "        textfont=dict(\n",
    "        family='sans serif',\n",
    "        size=20\n",
    "        ),\n",
    "        hoverinfo='text',\n",
    "        marker=Marker(\n",
    "            showscale=False,\n",
    "            # colorscale options\n",
    "            # 'Greys' | 'Greens' | 'Bluered' | 'Hot' | 'Picnic' | 'Portland' |\n",
    "            # Jet' | 'RdBu' | 'Blackbody' | 'Earth' | 'Electric' | 'YIOrRd' | 'YIGnBu'\n",
    "#             colorscale='YIOrRd',\n",
    "            reversescale=True,\n",
    "            color=[],\n",
    "            size=18,\n",
    "            colorbar=dict(\n",
    "                thickness=15,\n",
    "                title='Node Connections',\n",
    "                xanchor='left',\n",
    "                titleside='right'\n",
    "            ),\n",
    "            line=dict(width=2)))\n",
    "    for node in G.nodes():\n",
    "        x, y = G.node[node]['pos']\n",
    "        node_trace['x']+=(x,) \n",
    "        node_trace['y']+=(y,)\n",
    "    for node, adjacencies in enumerate(G.nodes()):\n",
    "        color = 'rgb(255, 255, 255)'\n",
    "        \n",
    "        if node in frontier:\n",
    "            color = 'rgb(201, 135, 5)'\n",
    "        if node in explored:\n",
    "            color = 'rgb(135, 201, 5)'\n",
    "        if node == start:\n",
    "            color = 'rgb(113, 244, 66)'\n",
    "        if node == goal:\n",
    "            color = 'rgb(201, 6, 6)'\n",
    "        if node == considering:\n",
    "            color = 'rgb(173, 56, 209)'\n",
    "        if node == current:\n",
    "            color = 'rgb(5, 145, 201)'\n",
    "        if path and node in path:\n",
    "            color = 'rgb(5, 145, 201)'\n",
    "            \n",
    "        # node_trace['marker']['color'].append(len(adjacencies))\n",
    "        node_trace['marker']['color']+= (color,)\n",
    "#         node_info = \"Intersection \" + str(node)\n",
    "        node_info = \"        \"+str(node)\n",
    "        node_trace['text']+=(node_info,)\n",
    "\n",
    "    fig = Figure(data=Data([edge_trace, node_trace]),\n",
    "                 layout=Layout(\n",
    "                    width=1280,\n",
    "                    height=720,\n",
    "                    title='<br>'+text,\n",
    "                    titlefont=dict(size=22),\n",
    "                    showlegend=False,\n",
    "                    hovermode='closest',\n",
    "                    margin=dict(b=20,l=5,r=5,t=40),\n",
    "                   \n",
    "                    xaxis=XAxis(showgrid=False, zeroline=False, showticklabels=False),\n",
    "                    yaxis=YAxis(showgrid=False, zeroline=False, showticklabels=False)))\n",
    "#     set_trace()\n",
    "#     iplot(fig)\n",
    "    pio.write_image(fig, f'{SAVE_DIR}/fig{\"{0:0=3d}\".format(save_name_num)}.png')\n",
    "#     iplot(fig,show_link=False,image='png',filename=f\"{save_name_num}\")"
   ]
  },
  {
   "cell_type": "code",
   "execution_count": 6,
   "metadata": {
    "collapsed": true
   },
   "outputs": [],
   "source": [
    "import math\n",
    "from IPython.display import clear_output"
   ]
  },
  {
   "cell_type": "code",
   "execution_count": 7,
   "metadata": {
    "collapsed": true
   },
   "outputs": [],
   "source": [
    "import warnings\n",
    "warnings.filterwarnings('ignore')"
   ]
  },
  {
   "cell_type": "code",
   "execution_count": 8,
   "metadata": {
    "collapsed": true
   },
   "outputs": [],
   "source": [
    "class PathPlanner():\n",
    "    \"\"\"Construct a PathPlanner Object\"\"\"\n",
    "    def __init__(self, M, start=None, goal=None,debug=False):\n",
    "        \"\"\" \"\"\"\n",
    "        self.map = M\n",
    "        self.start= start\n",
    "        self.goal = goal\n",
    "        self.closedSet = self.create_closedSet() if goal != None and start != None else None\n",
    "        self.openSet = self.create_openSet() if goal != None and start != None else None\n",
    "        self.cameFrom = self.create_cameFrom() if goal != None and start != None else None\n",
    "        self.gScore = self.create_gScore() if goal != None and start != None else None\n",
    "        self.fScore = self.create_fScore() if goal != None and start != None else None\n",
    "        self.path = self.run_search() if self.map and self.start != None and self.goal != None else None\n",
    "        self.debug = debug\n",
    "    \n",
    "    def reconstruct_path(self, current):\n",
    "        \"\"\" Reconstructs path after search \"\"\"\n",
    "        total_path = [current]\n",
    "        \n",
    "        while current in self.cameFrom.keys():\n",
    "#             set_trace()\n",
    "            current = self.cameFrom[current]\n",
    "            total_path.append(current)\n",
    "        return total_path\n",
    "    \n",
    "    def _reset(self):\n",
    "        \"\"\"Private method used to reset the closedSet, openSet, cameFrom, gScore, fScore, and path attributes\"\"\"\n",
    "        self.closedSet = None\n",
    "        self.openSet = None\n",
    "        self.cameFrom = None\n",
    "        self.gScore = None\n",
    "        self.fScore = None\n",
    "        self.path = self.run_search() if self.map and self.start and self.goal else None\n",
    "\n",
    "    def run_search(self):\n",
    "        \"\"\" \"\"\"\n",
    "        if self.map == None:\n",
    "            raise(ValueError, \"Must create map before running search. Try running PathPlanner.set_map(start_node)\")\n",
    "        if self.goal == None:\n",
    "            raise(ValueError, \"Must create goal node before running search. Try running PathPlanner.set_goal(start_node)\")\n",
    "        if self.start == None:\n",
    "            raise(ValueError, \"Must create start node before running search. Try running PathPlanner.set_start(start_node)\")\n",
    "\n",
    "        self.closedSet = self.closedSet if self.closedSet != None else self.create_closedSet()\n",
    "        self.openSet = self.openSet if self.openSet != None else  self.create_openSet()\n",
    "        self.cameFrom = self.cameFrom if self.cameFrom != None else  self.create_cameFrom()\n",
    "        self.gScore = self.gScore if self.gScore != None else  self.create_gScore()\n",
    "        self.fScore = self.fScore if self.fScore != None else  self.create_fScore()\n",
    "        \n",
    "        save_counter = 0\n",
    "        \n",
    "        while not self.is_open_empty():\n",
    "#             print('open')\n",
    "#             print('explored: ',)\n",
    "#             print(self.closedSet)\n",
    "#             print('frontier: ',)\n",
    "#             print(self.openSet)\n",
    "            show_map1(map_40, start=self.start,goal=self.goal,\\\n",
    "                frontier=list(self.openSet),\\\n",
    "                explored=list(self.closedSet),\\\n",
    "                text=\"So far\",\\\n",
    "                save_name_num=save_counter)\n",
    "            save_counter +=1\n",
    "#             clear_output()\n",
    "    \n",
    "            current = self.get_current_node()\n",
    "            \n",
    "            show_map1(map_40, current=current, start=self.start,goal=self.goal,\\\n",
    "                frontier=list(self.openSet),\\\n",
    "                explored=list(self.closedSet),\\\n",
    "                text=f'Lowest fscore : {current}',\\\n",
    "                save_name_num=save_counter)\n",
    "            save_counter +=1\n",
    "#             clear_output()\n",
    "            if current == self.goal:\n",
    "#                 set_trace()\n",
    "                show_map1(map_40, current=current, start=self.start,goal=self.goal,\\\n",
    "                    frontier=list(self.openSet),\\\n",
    "                    explored=list(self.closedSet),\\\n",
    "                    text=f'Reached goal: {current}',\\\n",
    "                    save_name_num=save_counter)\n",
    "                save_counter +=1\n",
    "#                 clear_output()\n",
    "                self.path = [x for x in reversed(self.reconstruct_path(current))]\n",
    "                \n",
    "                show_map1(map_40, current=current, start=self.start,goal=self.goal,\\\n",
    "                    frontier=list(self.openSet),\\\n",
    "                    explored=list(self.closedSet),\\\n",
    "                    path=self.path,\\\n",
    "                    text=f'Solved Path',\\\n",
    "                    save_name_num=save_counter)\n",
    "                save_counter +=1\n",
    "#                 clear_output()\n",
    "                \n",
    "                return self.path\n",
    "            else:\n",
    "#                 show_map1(map_40, current=current, start=self.start,goal=self.goal,\\\n",
    "#                                  frontier=list(self.openSet),\\\n",
    "#                                   explored=list(self.closedSet),\\\n",
    "#                                 text=f'Adding to explored: {current}')\n",
    "                self.openSet.remove(current)\n",
    "                self.closedSet.add(current)\n",
    "                show_map1(map_40, current=current, start=self.start,goal=self.goal,\\\n",
    "                    frontier=list(self.openSet),\\\n",
    "                    explored=list(self.closedSet),\\\n",
    "                    text=f'Added to explored: {current}',\\\n",
    "                    save_name_num=save_counter)\n",
    "                save_counter +=1\n",
    "                clear_output()\n",
    "\n",
    "            for neighbor in self.get_neighbors(current):\n",
    "                show_map1(map_40, current=current, considering=neighbor,start=self.start,goal=self.goal,\\\n",
    "                    frontier=list(self.openSet),\\\n",
    "                    explored=list(self.closedSet),\\\n",
    "                    text=f'Considering neighbor: {neighbor}',\\\n",
    "                    save_name_num=save_counter)\n",
    "                save_counter +=1\n",
    "#                 clear_output()\n",
    "                         \n",
    "                if neighbor in self.closedSet:\n",
    "                    show_map1(map_40, current=current, start=self.start,goal=self.goal,\\\n",
    "                        frontier=list(self.openSet),\\\n",
    "                        explored=list(self.closedSet),\\\n",
    "                        text=f'Already evaluated: {neighbor}',\\\n",
    "                        save_name_num=save_counter)\n",
    "                    save_counter +=1\n",
    "#                     clear_output()\n",
    "                    continue    # Ignore the neighbor which is already evaluated.\n",
    "\n",
    "                if not neighbor in self.openSet:    # Discover a new node\n",
    "                    self.openSet.add(neighbor)\n",
    "                    show_map1(map_40, current=current, start=self.start,goal=self.goal,\\\n",
    "                        frontier=list(self.openSet),\\\n",
    "                        explored=list(self.closedSet),\\\n",
    "                        text=f'Added to frontier: {neighbor}',\\\n",
    "                        save_name_num=save_counter)\n",
    "                    save_counter +=1\n",
    "#                     clear_output()\n",
    "                \n",
    "                # The distance from start to a neighbor\n",
    "                #the \"dist_between\" function may vary as per the solution requirements.\n",
    "#                 print(self.get_tentative_gScore(current, neighbor),self.get_gScore(neighbor))\n",
    "                \n",
    "                if self.get_tentative_gScore(current, neighbor) >= self.get_gScore(neighbor):\n",
    "#                     print('current-> ',current,', rejecting ',neighbor)\n",
    "                    show_map1(map_40, current=current, start=self.start,goal=self.goal,\\\n",
    "                        frontier=list(self.openSet),\\\n",
    "                        explored=list(self.closedSet),\\\n",
    "                        text=f'Better route exists to : {neighbor}',\\\n",
    "                        save_name_num=save_counter)\n",
    "                    save_counter +=1\n",
    "#                     clear_output()\n",
    "#                     set_trace()\n",
    "                    # there is a better way of reaching neighbor other than from current\n",
    "                    # since neighbor's gscore is less than the tentative gscore from current\n",
    "                    continue        # This is not a better path.\n",
    "                \n",
    "                # This path is the best until now. Record it!\n",
    "\n",
    "                self.record_best_path_to(current, neighbor)\n",
    "                show_map1(map_40, current=current, start=self.start,goal=self.goal,\\\n",
    "                    frontier=list(self.openSet),\\\n",
    "                    explored=list(self.closedSet),\\\n",
    "                    text=f'Updated scores for : {neighbor}',\\\n",
    "                    save_name_num=save_counter)\n",
    "                save_counter +=1\n",
    "#                 clear_output()\n",
    "            \n",
    "#             set_trace()\n",
    "#             clear_output()\n",
    "        print(\"No Path Found\")\n",
    "        self.path = None\n",
    "        return False"
   ]
  },
  {
   "cell_type": "code",
   "execution_count": 9,
   "metadata": {
    "collapsed": true
   },
   "outputs": [],
   "source": [
    "def create_closedSet(self):\n",
    "    \"\"\" Creates and returns a data structure suitable to hold the set of nodes already evaluated\"\"\"\n",
    "    return set()"
   ]
  },
  {
   "cell_type": "code",
   "execution_count": 10,
   "metadata": {
    "collapsed": true
   },
   "outputs": [],
   "source": [
    "def create_openSet(self):\n",
    "    \"\"\" Creates and returns a data structure suitable to hold the set of currently discovered nodes \n",
    "    that are not evaluated yet. Initially, only the start node is known.\"\"\"\n",
    "    if self.start != None:\n",
    "        # Return a data structure suitable to hold the set of currently discovered nodes \n",
    "        # that are not evaluated yet. Make sure to include the start node.\n",
    "        return(set([self.start]))\n",
    "    \n",
    "    raise(ValueError, \"Must create start node before creating an open set. Try running PathPlanner.set_start(start_node)\")"
   ]
  },
  {
   "cell_type": "code",
   "execution_count": 11,
   "metadata": {
    "collapsed": true
   },
   "outputs": [],
   "source": [
    "def create_cameFrom(self):\n",
    "    \"\"\"Creates and returns a data structure that shows which node can most efficiently be reached from another,\n",
    "    for each node.\"\"\"\n",
    "    # Return a data structure that shows which node can most efficiently be reached from another,\n",
    "    # for each node.\n",
    "    return {}"
   ]
  },
  {
   "cell_type": "code",
   "execution_count": 12,
   "metadata": {
    "collapsed": true
   },
   "outputs": [],
   "source": [
    "def create_gScore(self):\n",
    "    \"\"\"Creates and returns a data structure that holds the cost of getting from the start node to that node, \n",
    "    for each node. The cost of going from start to start is zero.\"\"\"\n",
    "    # Return a data structure that holds the cost of getting from the start node to that node, for each node.\n",
    "    # for each node. The cost of going from start to start is zero. The rest of the node's values should \n",
    "    # be set to infinity.\n",
    "    ret = {}\n",
    "    for el in self.map.intersections:\n",
    "        ret[el]=math.inf\n",
    "    ret[self.start] = 0\n",
    "    return ret"
   ]
  },
  {
   "cell_type": "code",
   "execution_count": 13,
   "metadata": {
    "collapsed": true
   },
   "outputs": [],
   "source": [
    "def create_fScore(self):\n",
    "    \"\"\"Creates and returns a data structure that holds the total cost of getting from the start node to the goal\n",
    "    by passing by that node, for each node. That value is partly known, partly heuristic.\n",
    "    For the first node, that value is completely heuristic.\"\"\"\n",
    "    # Return a data structure that holds the total cost of getting from the start node to the goal\n",
    "    # by passing by that node, for each node. That value is partly known, partly heuristic.\n",
    "    # For the first node, that value is completely heuristic. The rest of the node's value should be \n",
    "    # set to infinity.\n",
    "    ret = {}\n",
    "    for el in self.map.intersections:\n",
    "        ret[el]=math.inf\n",
    "    ret[self.start] = self.distance(self.start,self.goal)\n",
    "    return ret   \n"
   ]
  },
  {
   "cell_type": "code",
   "execution_count": 14,
   "metadata": {
    "collapsed": true
   },
   "outputs": [],
   "source": [
    "def set_map(self, M):\n",
    "    \"\"\"Method used to set map attribute \"\"\"\n",
    "    self._reset(self)\n",
    "    self.start = None\n",
    "    self.goal = None\n",
    "    # Set map to new value. \n",
    "    self.map = M\n"
   ]
  },
  {
   "cell_type": "code",
   "execution_count": 15,
   "metadata": {
    "collapsed": true
   },
   "outputs": [],
   "source": [
    "def set_start(self, start):\n",
    "    \"\"\"Method used to set start attribute \"\"\"\n",
    "    self._reset(self)\n",
    "    # Set start value. Remember to remove goal, closedSet, openSet, cameFrom, gScore, fScore, \n",
    "    # and path attributes' values.\n",
    "    self.start = start\n",
    "    "
   ]
  },
  {
   "cell_type": "code",
   "execution_count": 16,
   "metadata": {
    "collapsed": true
   },
   "outputs": [],
   "source": [
    "def set_goal(self, goal):\n",
    "    \"\"\"Method used to set goal attribute \"\"\"\n",
    "    self._reset(self)\n",
    "    # Set goal value. \n",
    "    self.goal = goal\n"
   ]
  },
  {
   "cell_type": "code",
   "execution_count": 17,
   "metadata": {
    "collapsed": true
   },
   "outputs": [],
   "source": [
    "def is_open_empty(self):\n",
    "    \"\"\"returns True if the open set is empty. False otherwise. \"\"\"\n",
    "    # Return True if the open set is empty. False otherwise.\n",
    "    return True if len(self.openSet)==0 else False\n"
   ]
  },
  {
   "cell_type": "code",
   "execution_count": 18,
   "metadata": {
    "collapsed": true
   },
   "outputs": [],
   "source": [
    "def get_current_node(self):\n",
    "    \"\"\" Returns the node in the open set with the lowest value of f(node).\"\"\"\n",
    "    # Return the node in the open set with the lowest value of f(node).\n",
    "    m = math.inf\n",
    "    ret = None\n",
    "    for el in self.openSet:\n",
    "        if self.calculate_fscore(el)<m:\n",
    "#             print('fscore ',self.calculate_fscore(el))\n",
    "            m = self.calculate_fscore(el)\n",
    "            ret = el\n",
    "#     print('returning ',mi)\n",
    "    return ret\n",
    "    "
   ]
  },
  {
   "cell_type": "code",
   "execution_count": 19,
   "metadata": {
    "collapsed": true
   },
   "outputs": [],
   "source": [
    "def get_neighbors(self, node):\n",
    "    \"\"\"Returns the neighbors of a node\"\"\"\n",
    "    # Return the neighbors of a node\n",
    "    return self.map.roads[node]"
   ]
  },
  {
   "cell_type": "code",
   "execution_count": 20,
   "metadata": {
    "collapsed": true
   },
   "outputs": [],
   "source": [
    "def get_gScore(self, node):\n",
    "    \"\"\"Returns the g Score of a node\"\"\"\n",
    "    # Return the g Score of a node\n",
    "    return self.gScore[node]\n",
    "    "
   ]
  },
  {
   "cell_type": "code",
   "execution_count": 21,
   "metadata": {
    "collapsed": true
   },
   "outputs": [],
   "source": [
    "def distance(self, node_1, node_2):\n",
    "    \"\"\" Computes the Euclidean L2 Distance\"\"\"\n",
    "    # Compute and return the Euclidean L2 Distance\n",
    "    return math.sqrt(math.pow((self.map.intersections[node_1][0] - self.map.intersections[node_2][0]),2)+\\\n",
    "                    math.pow((self.map.intersections[node_1][1] - self.map.intersections[node_2][1]),2))"
   ]
  },
  {
   "cell_type": "code",
   "execution_count": 22,
   "metadata": {
    "collapsed": true
   },
   "outputs": [],
   "source": [
    "def get_tentative_gScore(self, current, neighbor):\n",
    "    \"\"\"Returns the tentative g Score of a node\"\"\"\n",
    "    # Return the g Score of the current node \n",
    "    # plus distance from the current node to it's neighbors\n",
    "    return self.get_gScore(current) + self.distance(current,neighbor)"
   ]
  },
  {
   "cell_type": "code",
   "execution_count": 23,
   "metadata": {
    "collapsed": true
   },
   "outputs": [],
   "source": [
    "def heuristic_cost_estimate(self, node):\n",
    "    \"\"\" Returns the heuristic cost estimate of a node \"\"\"\n",
    "    # Return the heuristic cost estimate of a node\n",
    "    return self.distance(node,self.goal)"
   ]
  },
  {
   "cell_type": "code",
   "execution_count": 24,
   "metadata": {
    "collapsed": true
   },
   "outputs": [],
   "source": [
    "def calculate_fscore(self, node):\n",
    "    \"\"\"Calculate the f score of a node. \"\"\"\n",
    "    # Calculate and returns the f score of a node. \n",
    "    # F = G + H\n",
    "    return self.get_gScore(node) + self.heuristic_cost_estimate(node)\n",
    "    "
   ]
  },
  {
   "cell_type": "code",
   "execution_count": 25,
   "metadata": {
    "collapsed": true
   },
   "outputs": [],
   "source": [
    "def record_best_path_to(self, current, neighbor):\n",
    "    \"\"\"Record the best path to a node \"\"\"\n",
    "    # Record the best path to a node, by updating cameFrom, gScore, and fScore\n",
    "    self.cameFrom[neighbor] = current\n",
    "    self.gScore[neighbor] = self.get_tentative_gScore(current,neighbor)\n",
    "    self.fScore[neighbor] = self.calculate_fscore(neighbor)"
   ]
  },
  {
   "cell_type": "code",
   "execution_count": 26,
   "metadata": {
    "collapsed": true
   },
   "outputs": [],
   "source": [
    "# Associates implemented functions with PathPlanner class\n",
    "PathPlanner.create_closedSet = create_closedSet\n",
    "PathPlanner.create_openSet = create_openSet\n",
    "PathPlanner.create_cameFrom = create_cameFrom\n",
    "PathPlanner.create_gScore = create_gScore\n",
    "PathPlanner.create_fScore = create_fScore\n",
    "PathPlanner.set_map = set_map\n",
    "PathPlanner.set_start = set_start\n",
    "PathPlanner.set_goal = set_goal\n",
    "PathPlanner.is_open_empty = is_open_empty\n",
    "PathPlanner.get_current_node = get_current_node\n",
    "PathPlanner.get_neighbors = get_neighbors\n",
    "PathPlanner.get_gScore = get_gScore\n",
    "PathPlanner.distance = distance\n",
    "PathPlanner.get_tentative_gScore = get_tentative_gScore\n",
    "PathPlanner.heuristic_cost_estimate = heuristic_cost_estimate\n",
    "PathPlanner.calculate_fscore = calculate_fscore\n",
    "PathPlanner.record_best_path_to = record_best_path_to"
   ]
  },
  {
   "cell_type": "code",
   "execution_count": 27,
   "metadata": {},
   "outputs": [
    {
     "data": {
      "application/javascript": [
       "IPython.OutputArea.prototype._should_scroll = function(lines) {\n",
       "    return false;\n",
       "}"
      ],
      "text/plain": [
       "<IPython.core.display.Javascript object>"
      ]
     },
     "metadata": {},
     "output_type": "display_data"
    }
   ],
   "source": [
    "%%javascript\n",
    "IPython.OutputArea.prototype._should_scroll = function(lines) {\n",
    "    return false;\n",
    "}"
   ]
  },
  {
   "cell_type": "code",
   "execution_count": 28,
   "metadata": {
    "collapsed": true
   },
   "outputs": [],
   "source": [
    "map_40 = load_map_40()"
   ]
  },
  {
   "cell_type": "code",
   "execution_count": 30,
   "metadata": {
    "collapsed": true
   },
   "outputs": [],
   "source": [
    "import os"
   ]
  },
  {
   "cell_type": "code",
   "execution_count": 34,
   "metadata": {},
   "outputs": [
    {
     "name": "stdout",
     "output_type": "stream",
     "text": [
      "CPU times: user 23.2 s, sys: 161 ms, total: 23.4 s\n",
      "Wall time: 30.1 s\n"
     ]
    }
   ],
   "source": [
    "%%time\n",
    "# Visualize your the result of the above test! You can also change start and goal here to check other paths\n",
    "start = 38\n",
    "goal = 21\n",
    "\n",
    "SAVE_DIR = f\"a_star_route_{start}_{goal}\"\n",
    "if not os.path.exists(SAVE_DIR):\n",
    "    os.makedirs(SAVE_DIR)\n",
    "\n",
    "# show_map(map_40, start=start, goal=goal, \n",
    "path=PathPlanner(map_40, start, goal)"
   ]
  },
  {
   "cell_type": "code",
   "execution_count": 29,
   "metadata": {
    "collapsed": true
   },
   "outputs": [],
   "source": [
    "# ffmpeg -framerate 2/3 -i fig%03d.png -c:v libx264 -r 30 -pix_fmt yuv420p a_star_route_20_22.mp4"
   ]
  }
 ],
 "metadata": {
  "kernelspec": {
   "display_name": "Python 3",
   "language": "python",
   "name": "python3"
  },
  "language_info": {
   "codemirror_mode": {
    "name": "ipython",
    "version": 3
   },
   "file_extension": ".py",
   "mimetype": "text/x-python",
   "name": "python",
   "nbconvert_exporter": "python",
   "pygments_lexer": "ipython3",
   "version": "3.6.8"
  }
 },
 "nbformat": 4,
 "nbformat_minor": 2
}
